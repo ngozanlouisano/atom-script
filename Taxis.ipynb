{
  "nbformat": 4,
  "nbformat_minor": 0,
  "metadata": {
    "colab": {
      "provenance": [],
      "authorship_tag": "ABX9TyMqePhHwUrlRE5yo55Isy6i",
      "include_colab_link": true
    },
    "kernelspec": {
      "name": "python3",
      "display_name": "Python 3"
    },
    "language_info": {
      "name": "python"
    }
  },
  "cells": [
    {
      "cell_type": "markdown",
      "metadata": {
        "id": "view-in-github",
        "colab_type": "text"
      },
      "source": [
        "<a href=\"https://colab.research.google.com/github/ngozanlouisano/atom-script/blob/master/Taxis.ipynb\" target=\"_parent\"><img src=\"https://colab.research.google.com/assets/colab-badge.svg\" alt=\"Open In Colab\"/></a>"
      ]
    },
    {
      "cell_type": "code",
      "execution_count": 356,
      "metadata": {
        "id": "dbmTJ03Vl5M4"
      },
      "outputs": [],
      "source": [
        "# importer les packager\n",
        "import pandas as pd \n",
        "import numpy as np\n",
        "import matplotlib.pyplot as plt\n",
        "import seaborn as sns\n"
      ]
    },
    {
      "cell_type": "code",
      "source": [
        "# les données dans la base de donnée de seaborn \n",
        "sns.get_dataset_names()\n",
        "     "
      ],
      "metadata": {
        "colab": {
          "base_uri": "https://localhost:8080/"
        },
        "id": "MG0y8U29mQqb",
        "outputId": "827751c9-c034-43ef-e35f-0da568ad3510"
      },
      "execution_count": 357,
      "outputs": [
        {
          "output_type": "execute_result",
          "data": {
            "text/plain": [
              "['anagrams',\n",
              " 'anscombe',\n",
              " 'attention',\n",
              " 'brain_networks',\n",
              " 'car_crashes',\n",
              " 'diamonds',\n",
              " 'dots',\n",
              " 'dowjones',\n",
              " 'exercise',\n",
              " 'flights',\n",
              " 'fmri',\n",
              " 'geyser',\n",
              " 'glue',\n",
              " 'healthexp',\n",
              " 'iris',\n",
              " 'mpg',\n",
              " 'penguins',\n",
              " 'planets',\n",
              " 'seaice',\n",
              " 'taxis',\n",
              " 'tips',\n",
              " 'titanic']"
            ]
          },
          "metadata": {},
          "execution_count": 357
        }
      ]
    },
    {
      "cell_type": "code",
      "source": [
        "\n",
        "# importer les données\n",
        "df =  sns.load_dataset('taxis')\n",
        "df.head(60)"
      ],
      "metadata": {
        "colab": {
          "base_uri": "https://localhost:8080/",
          "height": 1000
        },
        "id": "-s6XmOHJmZJ6",
        "outputId": "8234f7f7-af57-456c-d18f-6a889491e3aa"
      },
      "execution_count": 358,
      "outputs": [
        {
          "output_type": "execute_result",
          "data": {
            "text/plain": [
              "                pickup             dropoff  passengers  distance  fare    tip  \\\n",
              "0  2019-03-23 20:21:09 2019-03-23 20:27:24           1      1.60   7.0   2.15   \n",
              "1  2019-03-04 16:11:55 2019-03-04 16:19:00           1      0.79   5.0   0.00   \n",
              "2  2019-03-27 17:53:01 2019-03-27 18:00:25           1      1.37   7.5   2.36   \n",
              "3  2019-03-10 01:23:59 2019-03-10 01:49:51           1      7.70  27.0   6.15   \n",
              "4  2019-03-30 13:27:42 2019-03-30 13:37:14           3      2.16   9.0   1.10   \n",
              "5  2019-03-11 10:37:23 2019-03-11 10:47:31           1      0.49   7.5   2.16   \n",
              "6  2019-03-26 21:07:31 2019-03-26 21:17:29           1      3.65  13.0   2.00   \n",
              "7  2019-03-22 12:47:13 2019-03-22 12:58:17           0      1.40   8.5   0.00   \n",
              "8  2019-03-23 11:48:50 2019-03-23 12:06:14           1      3.63  15.0   1.00   \n",
              "9  2019-03-08 16:18:37 2019-03-08 16:26:57           1      1.52   8.0   1.00   \n",
              "10 2019-03-16 10:02:25 2019-03-16 10:22:29           1      3.90  17.0   0.00   \n",
              "11 2019-03-20 19:39:42 2019-03-20 19:45:36           1      1.53   6.5   2.16   \n",
              "12 2019-03-18 21:27:14 2019-03-18 21:34:16           1      1.05   6.5   1.00   \n",
              "13 2019-03-19 07:55:25 2019-03-19 08:09:17           1      1.75  10.5   0.00   \n",
              "14 2019-03-27 12:13:34 2019-03-27 12:25:48           0      2.90  11.5   0.00   \n",
              "15 2019-03-16 17:53:34 2019-03-16 18:13:57           3      2.09  13.5   0.00   \n",
              "16 2019-03-15 12:36:05 2019-03-15 12:54:28           1      2.12  13.0   0.00   \n",
              "17 2019-03-23 20:50:49 2019-03-23 21:02:07           1      2.60  10.5   2.00   \n",
              "18 2019-03-27 06:28:36 2019-03-27 06:38:10           1      2.18   9.5   1.92   \n",
              "19 2019-03-25 22:04:25 2019-03-25 22:11:30           6      1.08   6.5   1.08   \n",
              "20 2019-03-21 03:37:34 2019-03-21 03:44:13           1      1.07   6.5   1.54   \n",
              "21 2019-03-25 23:05:54 2019-03-25 23:11:13           1      0.80   5.5   2.30   \n",
              "22 2019-03-28 17:20:54 2019-03-28 17:55:57           1      9.82  31.5   8.31   \n",
              "23 2019-03-04 12:15:39 2019-03-04 12:26:53           5      1.09   8.5   2.36   \n",
              "24 2019-03-24 09:53:28 2019-03-24 10:01:22           5      2.89   9.5   3.84   \n",
              "25 2019-03-25 08:01:01 2019-03-25 08:13:27           1      1.90  10.0   3.00   \n",
              "26 2019-03-03 02:45:36 2019-03-03 03:02:14           1      3.35  13.5   0.00   \n",
              "27 2019-03-16 20:30:36 2019-03-16 20:46:22           1      2.60  12.5   3.26   \n",
              "28 2019-03-20 12:25:31 2019-03-20 12:45:02           1      4.71  17.5   0.00   \n",
              "29 2019-03-06 08:09:03 2019-03-06 08:27:11           1      0.92  12.0   0.00   \n",
              "30 2019-03-10 15:14:20 2019-03-10 15:20:17           1      1.84   7.0   2.06   \n",
              "31 2019-03-01 02:55:55 2019-03-01 02:57:59           3      0.74   4.0   0.00   \n",
              "32 2019-03-17 19:24:50 2019-03-17 19:29:58           1      0.62   5.5   1.00   \n",
              "33 2019-03-20 22:29:32 2019-03-20 22:32:24           2      0.65   4.5   2.49   \n",
              "34 2019-03-21 10:48:02 2019-03-21 10:57:45           2      0.87   7.5   2.16   \n",
              "35 2019-03-01 17:39:58 2019-03-01 18:04:46           1      3.06  17.0   4.26   \n",
              "36 2019-03-22 17:28:51 2019-03-22 17:33:51           1      1.10   5.5   0.00   \n",
              "37 2019-03-21 18:41:58 2019-03-21 19:15:25           1      3.13  20.5   0.00   \n",
              "38 2019-03-18 16:03:14 2019-03-18 16:10:36           2      1.13   6.5   2.16   \n",
              "39 2019-03-25 22:50:56 2019-03-25 22:59:51           1      2.47  10.0   2.76   \n",
              "40 2019-03-07 15:15:46 2019-03-07 15:50:14           1      7.51  27.0   6.06   \n",
              "41 2019-03-24 18:42:56 2019-03-24 19:09:00           0      4.50  20.0   0.00   \n",
              "42 2019-03-30 23:59:14 2019-03-30 23:59:17           1      0.00  80.0  20.08   \n",
              "43 2019-03-27 19:39:16 2019-03-27 20:00:26           1      9.50  28.0   0.00   \n",
              "44 2019-03-14 07:19:29 2019-03-14 07:45:51           1      9.37  29.5   1.00   \n",
              "45 2019-03-07 11:19:21 2019-03-07 11:39:09           1      0.80  12.5   3.15   \n",
              "46 2019-03-20 11:40:59 2019-03-20 12:06:41           2      4.70  20.0   0.00   \n",
              "47 2019-03-13 06:17:45 2019-03-13 06:21:54           2      1.15   5.5   2.64   \n",
              "48 2019-03-07 16:49:01 2019-03-07 16:57:07           1      1.30   7.0   0.00   \n",
              "49 2019-03-04 21:35:00 2019-03-04 21:53:42           1      4.87  17.5   0.00   \n",
              "50 2019-03-16 16:36:34 2019-03-16 16:54:50           2      1.00  11.5   0.00   \n",
              "51 2019-03-16 17:38:47 2019-03-16 17:56:04           4      1.89  12.0   0.00   \n",
              "52 2019-03-21 21:30:05 2019-03-21 21:39:03           2      0.90   7.0   2.15   \n",
              "53 2019-03-20 18:49:24 2019-03-20 19:12:40           1     13.45  36.0   0.00   \n",
              "54 2019-03-24 01:13:51 2019-03-24 01:24:00           1      2.80  10.5   2.85   \n",
              "55 2019-03-14 12:11:52 2019-03-14 12:40:54           1      3.43  19.0   4.46   \n",
              "56 2019-03-05 17:57:00 2019-03-05 18:45:25           2     19.59  52.0   0.00   \n",
              "57 2019-03-17 13:55:43 2019-03-17 14:01:39           4      0.71   5.5   1.76   \n",
              "58 2019-03-01 23:21:01 2019-03-01 23:46:28           1      4.50  18.5   4.46   \n",
              "59 2019-03-09 19:24:01 2019-03-09 19:33:32           3      0.82   7.0   2.00   \n",
              "\n",
              "    tolls   total   color      payment                    pickup_zone  \\\n",
              "0    0.00   12.95  yellow  credit card                Lenox Hill West   \n",
              "1    0.00    9.30  yellow         cash          Upper West Side South   \n",
              "2    0.00   14.16  yellow  credit card                  Alphabet City   \n",
              "3    0.00   36.95  yellow  credit card                      Hudson Sq   \n",
              "4    0.00   13.40  yellow  credit card                   Midtown East   \n",
              "5    0.00   12.96  yellow  credit card      Times Sq/Theatre District   \n",
              "6    0.00   18.80  yellow  credit card              Battery Park City   \n",
              "7    0.00   11.80  yellow          NaN                    Murray Hill   \n",
              "8    0.00   19.30  yellow  credit card              East Harlem South   \n",
              "9    0.00   13.30  yellow  credit card            Lincoln Square East   \n",
              "10   0.00   17.80  yellow         cash              LaGuardia Airport   \n",
              "11   0.00   12.96  yellow  credit card          Upper West Side South   \n",
              "12   0.00   11.30  yellow  credit card                    Murray Hill   \n",
              "13   0.00   13.80  yellow         cash            Lincoln Square West   \n",
              "14   0.00   14.80  yellow         cash       Financial District North   \n",
              "15   0.00   16.80  yellow         cash          Upper West Side North   \n",
              "16   0.00   16.30  yellow         cash                   East Chelsea   \n",
              "17   0.00   16.30  yellow  credit card                 Midtown Center   \n",
              "18   0.00   14.72  yellow  credit card                       Gramercy   \n",
              "19   0.00   11.38  yellow  credit card                   East Chelsea   \n",
              "20   0.00   11.84  yellow  credit card   Penn Station/Madison Sq West   \n",
              "21   0.00   11.60  yellow  credit card   Penn Station/Madison Sq West   \n",
              "22   5.76   49.87  yellow  credit card              LaGuardia Airport   \n",
              "23   0.00   14.16  yellow  credit card  Sutton Place/Turtle Bay North   \n",
              "24   0.00   16.64  yellow  credit card                Lenox Hill West   \n",
              "25   0.00   16.30  yellow  credit card            Lincoln Square East   \n",
              "26   0.00   17.30  yellow         cash      West Chelsea/Hudson Yards   \n",
              "27   0.00   19.56  yellow  credit card                   Clinton East   \n",
              "28   0.00   18.30  yellow  credit card                   Clinton West   \n",
              "29   0.00   15.30  yellow         cash            UN/Turtle Bay South   \n",
              "30   0.00   12.36  yellow  credit card                Lenox Hill West   \n",
              "31   0.00    7.80  yellow         cash                   Clinton East   \n",
              "32   0.00    9.80  yellow  credit card                 Midtown Center   \n",
              "33   0.00   10.79  yellow  credit card                  Midtown South   \n",
              "34   0.00   12.96  yellow  credit card                  Midtown North   \n",
              "35   0.00   25.56  yellow  credit card      West Chelsea/Hudson Yards   \n",
              "36   0.00    9.80  yellow         cash               Garment District   \n",
              "37   0.00   24.80  yellow         cash                Lenox Hill East   \n",
              "38   0.00   12.96  yellow  credit card                       Gramercy   \n",
              "39   0.00   16.56  yellow  credit card               Garment District   \n",
              "40   0.00   36.36  yellow  credit card                       Flatiron   \n",
              "41   0.00   23.30  yellow         cash           TriBeCa/Civic Center   \n",
              "42   0.00  100.38  yellow  credit card                            NaN   \n",
              "43   5.76   35.06  yellow         cash              LaGuardia Airport   \n",
              "44   0.00   33.80  yellow  credit card              East Harlem South   \n",
              "45   0.00   18.95  yellow  credit card            Lincoln Square East   \n",
              "46   0.00   23.30  yellow         cash      Times Sq/Theatre District   \n",
              "47   0.00   11.44  yellow  credit card          Upper East Side North   \n",
              "48   0.00   11.30  yellow         cash            Lincoln Square East   \n",
              "49   0.00   21.30  yellow         cash                   West Village   \n",
              "50   0.00   14.80  yellow         cash                   Clinton East   \n",
              "51   0.00   15.30  yellow         cash                  Midtown North   \n",
              "52   0.00   12.95  yellow  credit card        Greenwich Village South   \n",
              "53   0.00   37.80  yellow         cash                    JFK Airport   \n",
              "54   0.00   17.15  yellow  credit card                   East Village   \n",
              "55   0.00   26.76  yellow  credit card                       Union Sq   \n",
              "56   5.76   65.56  yellow  credit card                    JFK Airport   \n",
              "57   0.00   10.56  yellow  credit card            UN/Turtle Bay South   \n",
              "58   0.00   26.76  yellow  credit card               Garment District   \n",
              "59   0.00   12.30  yellow  credit card           TriBeCa/Civic Center   \n",
              "\n",
              "                     dropoff_zone pickup_borough dropoff_borough  \n",
              "0             UN/Turtle Bay South      Manhattan       Manhattan  \n",
              "1           Upper West Side South      Manhattan       Manhattan  \n",
              "2                    West Village      Manhattan       Manhattan  \n",
              "3                  Yorkville West      Manhattan       Manhattan  \n",
              "4                  Yorkville West      Manhattan       Manhattan  \n",
              "5                    Midtown East      Manhattan       Manhattan  \n",
              "6         Two Bridges/Seward Park      Manhattan       Manhattan  \n",
              "7                        Flatiron      Manhattan       Manhattan  \n",
              "8                  Midtown Center      Manhattan       Manhattan  \n",
              "9                    Central Park      Manhattan       Manhattan  \n",
              "10                        Astoria         Queens          Queens  \n",
              "11               Manhattan Valley      Manhattan       Manhattan  \n",
              "12                 Midtown Center      Manhattan       Manhattan  \n",
              "13      Times Sq/Theatre District      Manhattan       Manhattan  \n",
              "14        Two Bridges/Seward Park      Manhattan       Manhattan  \n",
              "15                   Clinton East      Manhattan       Manhattan  \n",
              "16  Meatpacking/West Village West      Manhattan       Manhattan  \n",
              "17              East Harlem South      Manhattan       Manhattan  \n",
              "18                 Midtown Center      Manhattan       Manhattan  \n",
              "19                   East Chelsea      Manhattan       Manhattan  \n",
              "20                       Kips Bay      Manhattan       Manhattan  \n",
              "21                    Murray Hill      Manhattan       Manhattan  \n",
              "22  Sutton Place/Turtle Bay North         Queens       Manhattan  \n",
              "23                  Midtown North      Manhattan       Manhattan  \n",
              "24                       Gramercy      Manhattan       Manhattan  \n",
              "25                  Midtown South      Manhattan       Manhattan  \n",
              "26                        Seaport      Manhattan       Manhattan  \n",
              "27                Lenox Hill West      Manhattan       Manhattan  \n",
              "28              East Harlem North      Manhattan       Manhattan  \n",
              "29               Garment District      Manhattan       Manhattan  \n",
              "30              East Harlem South      Manhattan       Manhattan  \n",
              "31      West Chelsea/Hudson Yards      Manhattan       Manhattan  \n",
              "32  Sutton Place/Turtle Bay North      Manhattan       Manhattan  \n",
              "33                 Midtown Center      Manhattan       Manhattan  \n",
              "34                   Clinton West      Manhattan       Manhattan  \n",
              "35                Lenox Hill East      Manhattan       Manhattan  \n",
              "36                       Flatiron      Manhattan       Manhattan  \n",
              "37               Garment District      Manhattan       Manhattan  \n",
              "38                    Murray Hill      Manhattan       Manhattan  \n",
              "39          Upper West Side South      Manhattan       Manhattan  \n",
              "40                Carroll Gardens      Manhattan        Brooklyn  \n",
              "41                       Kips Bay      Manhattan       Manhattan  \n",
              "42                            NaN            NaN             NaN  \n",
              "43       Washington Heights South         Queens       Manhattan  \n",
              "44              Battery Park City      Manhattan       Manhattan  \n",
              "45                   Midtown East      Manhattan       Manhattan  \n",
              "46              Battery Park City      Manhattan       Manhattan  \n",
              "47                Lenox Hill West      Manhattan       Manhattan  \n",
              "48      Times Sq/Theatre District      Manhattan       Manhattan  \n",
              "49          Upper West Side South      Manhattan       Manhattan  \n",
              "50   Penn Station/Madison Sq West      Manhattan       Manhattan  \n",
              "51                       Union Sq      Manhattan       Manhattan  \n",
              "52  Meatpacking/West Village West      Manhattan       Manhattan  \n",
              "53                      Sunnyside         Queens          Queens  \n",
              "54  Sutton Place/Turtle Bay North      Manhattan       Manhattan  \n",
              "55            Lincoln Square West      Manhattan       Manhattan  \n",
              "56          Upper East Side North         Queens       Manhattan  \n",
              "57                 Midtown Center      Manhattan       Manhattan  \n",
              "58       Financial District North      Manhattan       Manhattan  \n",
              "59                Lower East Side      Manhattan       Manhattan  "
            ],
            "text/html": [
              "\n",
              "  <div id=\"df-1a762f47-eb20-45e6-bbf0-a0ca1472f5cc\">\n",
              "    <div class=\"colab-df-container\">\n",
              "      <div>\n",
              "<style scoped>\n",
              "    .dataframe tbody tr th:only-of-type {\n",
              "        vertical-align: middle;\n",
              "    }\n",
              "\n",
              "    .dataframe tbody tr th {\n",
              "        vertical-align: top;\n",
              "    }\n",
              "\n",
              "    .dataframe thead th {\n",
              "        text-align: right;\n",
              "    }\n",
              "</style>\n",
              "<table border=\"1\" class=\"dataframe\">\n",
              "  <thead>\n",
              "    <tr style=\"text-align: right;\">\n",
              "      <th></th>\n",
              "      <th>pickup</th>\n",
              "      <th>dropoff</th>\n",
              "      <th>passengers</th>\n",
              "      <th>distance</th>\n",
              "      <th>fare</th>\n",
              "      <th>tip</th>\n",
              "      <th>tolls</th>\n",
              "      <th>total</th>\n",
              "      <th>color</th>\n",
              "      <th>payment</th>\n",
              "      <th>pickup_zone</th>\n",
              "      <th>dropoff_zone</th>\n",
              "      <th>pickup_borough</th>\n",
              "      <th>dropoff_borough</th>\n",
              "    </tr>\n",
              "  </thead>\n",
              "  <tbody>\n",
              "    <tr>\n",
              "      <th>0</th>\n",
              "      <td>2019-03-23 20:21:09</td>\n",
              "      <td>2019-03-23 20:27:24</td>\n",
              "      <td>1</td>\n",
              "      <td>1.60</td>\n",
              "      <td>7.0</td>\n",
              "      <td>2.15</td>\n",
              "      <td>0.00</td>\n",
              "      <td>12.95</td>\n",
              "      <td>yellow</td>\n",
              "      <td>credit card</td>\n",
              "      <td>Lenox Hill West</td>\n",
              "      <td>UN/Turtle Bay South</td>\n",
              "      <td>Manhattan</td>\n",
              "      <td>Manhattan</td>\n",
              "    </tr>\n",
              "    <tr>\n",
              "      <th>1</th>\n",
              "      <td>2019-03-04 16:11:55</td>\n",
              "      <td>2019-03-04 16:19:00</td>\n",
              "      <td>1</td>\n",
              "      <td>0.79</td>\n",
              "      <td>5.0</td>\n",
              "      <td>0.00</td>\n",
              "      <td>0.00</td>\n",
              "      <td>9.30</td>\n",
              "      <td>yellow</td>\n",
              "      <td>cash</td>\n",
              "      <td>Upper West Side South</td>\n",
              "      <td>Upper West Side South</td>\n",
              "      <td>Manhattan</td>\n",
              "      <td>Manhattan</td>\n",
              "    </tr>\n",
              "    <tr>\n",
              "      <th>2</th>\n",
              "      <td>2019-03-27 17:53:01</td>\n",
              "      <td>2019-03-27 18:00:25</td>\n",
              "      <td>1</td>\n",
              "      <td>1.37</td>\n",
              "      <td>7.5</td>\n",
              "      <td>2.36</td>\n",
              "      <td>0.00</td>\n",
              "      <td>14.16</td>\n",
              "      <td>yellow</td>\n",
              "      <td>credit card</td>\n",
              "      <td>Alphabet City</td>\n",
              "      <td>West Village</td>\n",
              "      <td>Manhattan</td>\n",
              "      <td>Manhattan</td>\n",
              "    </tr>\n",
              "    <tr>\n",
              "      <th>3</th>\n",
              "      <td>2019-03-10 01:23:59</td>\n",
              "      <td>2019-03-10 01:49:51</td>\n",
              "      <td>1</td>\n",
              "      <td>7.70</td>\n",
              "      <td>27.0</td>\n",
              "      <td>6.15</td>\n",
              "      <td>0.00</td>\n",
              "      <td>36.95</td>\n",
              "      <td>yellow</td>\n",
              "      <td>credit card</td>\n",
              "      <td>Hudson Sq</td>\n",
              "      <td>Yorkville West</td>\n",
              "      <td>Manhattan</td>\n",
              "      <td>Manhattan</td>\n",
              "    </tr>\n",
              "    <tr>\n",
              "      <th>4</th>\n",
              "      <td>2019-03-30 13:27:42</td>\n",
              "      <td>2019-03-30 13:37:14</td>\n",
              "      <td>3</td>\n",
              "      <td>2.16</td>\n",
              "      <td>9.0</td>\n",
              "      <td>1.10</td>\n",
              "      <td>0.00</td>\n",
              "      <td>13.40</td>\n",
              "      <td>yellow</td>\n",
              "      <td>credit card</td>\n",
              "      <td>Midtown East</td>\n",
              "      <td>Yorkville West</td>\n",
              "      <td>Manhattan</td>\n",
              "      <td>Manhattan</td>\n",
              "    </tr>\n",
              "    <tr>\n",
              "      <th>5</th>\n",
              "      <td>2019-03-11 10:37:23</td>\n",
              "      <td>2019-03-11 10:47:31</td>\n",
              "      <td>1</td>\n",
              "      <td>0.49</td>\n",
              "      <td>7.5</td>\n",
              "      <td>2.16</td>\n",
              "      <td>0.00</td>\n",
              "      <td>12.96</td>\n",
              "      <td>yellow</td>\n",
              "      <td>credit card</td>\n",
              "      <td>Times Sq/Theatre District</td>\n",
              "      <td>Midtown East</td>\n",
              "      <td>Manhattan</td>\n",
              "      <td>Manhattan</td>\n",
              "    </tr>\n",
              "    <tr>\n",
              "      <th>6</th>\n",
              "      <td>2019-03-26 21:07:31</td>\n",
              "      <td>2019-03-26 21:17:29</td>\n",
              "      <td>1</td>\n",
              "      <td>3.65</td>\n",
              "      <td>13.0</td>\n",
              "      <td>2.00</td>\n",
              "      <td>0.00</td>\n",
              "      <td>18.80</td>\n",
              "      <td>yellow</td>\n",
              "      <td>credit card</td>\n",
              "      <td>Battery Park City</td>\n",
              "      <td>Two Bridges/Seward Park</td>\n",
              "      <td>Manhattan</td>\n",
              "      <td>Manhattan</td>\n",
              "    </tr>\n",
              "    <tr>\n",
              "      <th>7</th>\n",
              "      <td>2019-03-22 12:47:13</td>\n",
              "      <td>2019-03-22 12:58:17</td>\n",
              "      <td>0</td>\n",
              "      <td>1.40</td>\n",
              "      <td>8.5</td>\n",
              "      <td>0.00</td>\n",
              "      <td>0.00</td>\n",
              "      <td>11.80</td>\n",
              "      <td>yellow</td>\n",
              "      <td>NaN</td>\n",
              "      <td>Murray Hill</td>\n",
              "      <td>Flatiron</td>\n",
              "      <td>Manhattan</td>\n",
              "      <td>Manhattan</td>\n",
              "    </tr>\n",
              "    <tr>\n",
              "      <th>8</th>\n",
              "      <td>2019-03-23 11:48:50</td>\n",
              "      <td>2019-03-23 12:06:14</td>\n",
              "      <td>1</td>\n",
              "      <td>3.63</td>\n",
              "      <td>15.0</td>\n",
              "      <td>1.00</td>\n",
              "      <td>0.00</td>\n",
              "      <td>19.30</td>\n",
              "      <td>yellow</td>\n",
              "      <td>credit card</td>\n",
              "      <td>East Harlem South</td>\n",
              "      <td>Midtown Center</td>\n",
              "      <td>Manhattan</td>\n",
              "      <td>Manhattan</td>\n",
              "    </tr>\n",
              "    <tr>\n",
              "      <th>9</th>\n",
              "      <td>2019-03-08 16:18:37</td>\n",
              "      <td>2019-03-08 16:26:57</td>\n",
              "      <td>1</td>\n",
              "      <td>1.52</td>\n",
              "      <td>8.0</td>\n",
              "      <td>1.00</td>\n",
              "      <td>0.00</td>\n",
              "      <td>13.30</td>\n",
              "      <td>yellow</td>\n",
              "      <td>credit card</td>\n",
              "      <td>Lincoln Square East</td>\n",
              "      <td>Central Park</td>\n",
              "      <td>Manhattan</td>\n",
              "      <td>Manhattan</td>\n",
              "    </tr>\n",
              "    <tr>\n",
              "      <th>10</th>\n",
              "      <td>2019-03-16 10:02:25</td>\n",
              "      <td>2019-03-16 10:22:29</td>\n",
              "      <td>1</td>\n",
              "      <td>3.90</td>\n",
              "      <td>17.0</td>\n",
              "      <td>0.00</td>\n",
              "      <td>0.00</td>\n",
              "      <td>17.80</td>\n",
              "      <td>yellow</td>\n",
              "      <td>cash</td>\n",
              "      <td>LaGuardia Airport</td>\n",
              "      <td>Astoria</td>\n",
              "      <td>Queens</td>\n",
              "      <td>Queens</td>\n",
              "    </tr>\n",
              "    <tr>\n",
              "      <th>11</th>\n",
              "      <td>2019-03-20 19:39:42</td>\n",
              "      <td>2019-03-20 19:45:36</td>\n",
              "      <td>1</td>\n",
              "      <td>1.53</td>\n",
              "      <td>6.5</td>\n",
              "      <td>2.16</td>\n",
              "      <td>0.00</td>\n",
              "      <td>12.96</td>\n",
              "      <td>yellow</td>\n",
              "      <td>credit card</td>\n",
              "      <td>Upper West Side South</td>\n",
              "      <td>Manhattan Valley</td>\n",
              "      <td>Manhattan</td>\n",
              "      <td>Manhattan</td>\n",
              "    </tr>\n",
              "    <tr>\n",
              "      <th>12</th>\n",
              "      <td>2019-03-18 21:27:14</td>\n",
              "      <td>2019-03-18 21:34:16</td>\n",
              "      <td>1</td>\n",
              "      <td>1.05</td>\n",
              "      <td>6.5</td>\n",
              "      <td>1.00</td>\n",
              "      <td>0.00</td>\n",
              "      <td>11.30</td>\n",
              "      <td>yellow</td>\n",
              "      <td>credit card</td>\n",
              "      <td>Murray Hill</td>\n",
              "      <td>Midtown Center</td>\n",
              "      <td>Manhattan</td>\n",
              "      <td>Manhattan</td>\n",
              "    </tr>\n",
              "    <tr>\n",
              "      <th>13</th>\n",
              "      <td>2019-03-19 07:55:25</td>\n",
              "      <td>2019-03-19 08:09:17</td>\n",
              "      <td>1</td>\n",
              "      <td>1.75</td>\n",
              "      <td>10.5</td>\n",
              "      <td>0.00</td>\n",
              "      <td>0.00</td>\n",
              "      <td>13.80</td>\n",
              "      <td>yellow</td>\n",
              "      <td>cash</td>\n",
              "      <td>Lincoln Square West</td>\n",
              "      <td>Times Sq/Theatre District</td>\n",
              "      <td>Manhattan</td>\n",
              "      <td>Manhattan</td>\n",
              "    </tr>\n",
              "    <tr>\n",
              "      <th>14</th>\n",
              "      <td>2019-03-27 12:13:34</td>\n",
              "      <td>2019-03-27 12:25:48</td>\n",
              "      <td>0</td>\n",
              "      <td>2.90</td>\n",
              "      <td>11.5</td>\n",
              "      <td>0.00</td>\n",
              "      <td>0.00</td>\n",
              "      <td>14.80</td>\n",
              "      <td>yellow</td>\n",
              "      <td>cash</td>\n",
              "      <td>Financial District North</td>\n",
              "      <td>Two Bridges/Seward Park</td>\n",
              "      <td>Manhattan</td>\n",
              "      <td>Manhattan</td>\n",
              "    </tr>\n",
              "    <tr>\n",
              "      <th>15</th>\n",
              "      <td>2019-03-16 17:53:34</td>\n",
              "      <td>2019-03-16 18:13:57</td>\n",
              "      <td>3</td>\n",
              "      <td>2.09</td>\n",
              "      <td>13.5</td>\n",
              "      <td>0.00</td>\n",
              "      <td>0.00</td>\n",
              "      <td>16.80</td>\n",
              "      <td>yellow</td>\n",
              "      <td>cash</td>\n",
              "      <td>Upper West Side North</td>\n",
              "      <td>Clinton East</td>\n",
              "      <td>Manhattan</td>\n",
              "      <td>Manhattan</td>\n",
              "    </tr>\n",
              "    <tr>\n",
              "      <th>16</th>\n",
              "      <td>2019-03-15 12:36:05</td>\n",
              "      <td>2019-03-15 12:54:28</td>\n",
              "      <td>1</td>\n",
              "      <td>2.12</td>\n",
              "      <td>13.0</td>\n",
              "      <td>0.00</td>\n",
              "      <td>0.00</td>\n",
              "      <td>16.30</td>\n",
              "      <td>yellow</td>\n",
              "      <td>cash</td>\n",
              "      <td>East Chelsea</td>\n",
              "      <td>Meatpacking/West Village West</td>\n",
              "      <td>Manhattan</td>\n",
              "      <td>Manhattan</td>\n",
              "    </tr>\n",
              "    <tr>\n",
              "      <th>17</th>\n",
              "      <td>2019-03-23 20:50:49</td>\n",
              "      <td>2019-03-23 21:02:07</td>\n",
              "      <td>1</td>\n",
              "      <td>2.60</td>\n",
              "      <td>10.5</td>\n",
              "      <td>2.00</td>\n",
              "      <td>0.00</td>\n",
              "      <td>16.30</td>\n",
              "      <td>yellow</td>\n",
              "      <td>credit card</td>\n",
              "      <td>Midtown Center</td>\n",
              "      <td>East Harlem South</td>\n",
              "      <td>Manhattan</td>\n",
              "      <td>Manhattan</td>\n",
              "    </tr>\n",
              "    <tr>\n",
              "      <th>18</th>\n",
              "      <td>2019-03-27 06:28:36</td>\n",
              "      <td>2019-03-27 06:38:10</td>\n",
              "      <td>1</td>\n",
              "      <td>2.18</td>\n",
              "      <td>9.5</td>\n",
              "      <td>1.92</td>\n",
              "      <td>0.00</td>\n",
              "      <td>14.72</td>\n",
              "      <td>yellow</td>\n",
              "      <td>credit card</td>\n",
              "      <td>Gramercy</td>\n",
              "      <td>Midtown Center</td>\n",
              "      <td>Manhattan</td>\n",
              "      <td>Manhattan</td>\n",
              "    </tr>\n",
              "    <tr>\n",
              "      <th>19</th>\n",
              "      <td>2019-03-25 22:04:25</td>\n",
              "      <td>2019-03-25 22:11:30</td>\n",
              "      <td>6</td>\n",
              "      <td>1.08</td>\n",
              "      <td>6.5</td>\n",
              "      <td>1.08</td>\n",
              "      <td>0.00</td>\n",
              "      <td>11.38</td>\n",
              "      <td>yellow</td>\n",
              "      <td>credit card</td>\n",
              "      <td>East Chelsea</td>\n",
              "      <td>East Chelsea</td>\n",
              "      <td>Manhattan</td>\n",
              "      <td>Manhattan</td>\n",
              "    </tr>\n",
              "    <tr>\n",
              "      <th>20</th>\n",
              "      <td>2019-03-21 03:37:34</td>\n",
              "      <td>2019-03-21 03:44:13</td>\n",
              "      <td>1</td>\n",
              "      <td>1.07</td>\n",
              "      <td>6.5</td>\n",
              "      <td>1.54</td>\n",
              "      <td>0.00</td>\n",
              "      <td>11.84</td>\n",
              "      <td>yellow</td>\n",
              "      <td>credit card</td>\n",
              "      <td>Penn Station/Madison Sq West</td>\n",
              "      <td>Kips Bay</td>\n",
              "      <td>Manhattan</td>\n",
              "      <td>Manhattan</td>\n",
              "    </tr>\n",
              "    <tr>\n",
              "      <th>21</th>\n",
              "      <td>2019-03-25 23:05:54</td>\n",
              "      <td>2019-03-25 23:11:13</td>\n",
              "      <td>1</td>\n",
              "      <td>0.80</td>\n",
              "      <td>5.5</td>\n",
              "      <td>2.30</td>\n",
              "      <td>0.00</td>\n",
              "      <td>11.60</td>\n",
              "      <td>yellow</td>\n",
              "      <td>credit card</td>\n",
              "      <td>Penn Station/Madison Sq West</td>\n",
              "      <td>Murray Hill</td>\n",
              "      <td>Manhattan</td>\n",
              "      <td>Manhattan</td>\n",
              "    </tr>\n",
              "    <tr>\n",
              "      <th>22</th>\n",
              "      <td>2019-03-28 17:20:54</td>\n",
              "      <td>2019-03-28 17:55:57</td>\n",
              "      <td>1</td>\n",
              "      <td>9.82</td>\n",
              "      <td>31.5</td>\n",
              "      <td>8.31</td>\n",
              "      <td>5.76</td>\n",
              "      <td>49.87</td>\n",
              "      <td>yellow</td>\n",
              "      <td>credit card</td>\n",
              "      <td>LaGuardia Airport</td>\n",
              "      <td>Sutton Place/Turtle Bay North</td>\n",
              "      <td>Queens</td>\n",
              "      <td>Manhattan</td>\n",
              "    </tr>\n",
              "    <tr>\n",
              "      <th>23</th>\n",
              "      <td>2019-03-04 12:15:39</td>\n",
              "      <td>2019-03-04 12:26:53</td>\n",
              "      <td>5</td>\n",
              "      <td>1.09</td>\n",
              "      <td>8.5</td>\n",
              "      <td>2.36</td>\n",
              "      <td>0.00</td>\n",
              "      <td>14.16</td>\n",
              "      <td>yellow</td>\n",
              "      <td>credit card</td>\n",
              "      <td>Sutton Place/Turtle Bay North</td>\n",
              "      <td>Midtown North</td>\n",
              "      <td>Manhattan</td>\n",
              "      <td>Manhattan</td>\n",
              "    </tr>\n",
              "    <tr>\n",
              "      <th>24</th>\n",
              "      <td>2019-03-24 09:53:28</td>\n",
              "      <td>2019-03-24 10:01:22</td>\n",
              "      <td>5</td>\n",
              "      <td>2.89</td>\n",
              "      <td>9.5</td>\n",
              "      <td>3.84</td>\n",
              "      <td>0.00</td>\n",
              "      <td>16.64</td>\n",
              "      <td>yellow</td>\n",
              "      <td>credit card</td>\n",
              "      <td>Lenox Hill West</td>\n",
              "      <td>Gramercy</td>\n",
              "      <td>Manhattan</td>\n",
              "      <td>Manhattan</td>\n",
              "    </tr>\n",
              "    <tr>\n",
              "      <th>25</th>\n",
              "      <td>2019-03-25 08:01:01</td>\n",
              "      <td>2019-03-25 08:13:27</td>\n",
              "      <td>1</td>\n",
              "      <td>1.90</td>\n",
              "      <td>10.0</td>\n",
              "      <td>3.00</td>\n",
              "      <td>0.00</td>\n",
              "      <td>16.30</td>\n",
              "      <td>yellow</td>\n",
              "      <td>credit card</td>\n",
              "      <td>Lincoln Square East</td>\n",
              "      <td>Midtown South</td>\n",
              "      <td>Manhattan</td>\n",
              "      <td>Manhattan</td>\n",
              "    </tr>\n",
              "    <tr>\n",
              "      <th>26</th>\n",
              "      <td>2019-03-03 02:45:36</td>\n",
              "      <td>2019-03-03 03:02:14</td>\n",
              "      <td>1</td>\n",
              "      <td>3.35</td>\n",
              "      <td>13.5</td>\n",
              "      <td>0.00</td>\n",
              "      <td>0.00</td>\n",
              "      <td>17.30</td>\n",
              "      <td>yellow</td>\n",
              "      <td>cash</td>\n",
              "      <td>West Chelsea/Hudson Yards</td>\n",
              "      <td>Seaport</td>\n",
              "      <td>Manhattan</td>\n",
              "      <td>Manhattan</td>\n",
              "    </tr>\n",
              "    <tr>\n",
              "      <th>27</th>\n",
              "      <td>2019-03-16 20:30:36</td>\n",
              "      <td>2019-03-16 20:46:22</td>\n",
              "      <td>1</td>\n",
              "      <td>2.60</td>\n",
              "      <td>12.5</td>\n",
              "      <td>3.26</td>\n",
              "      <td>0.00</td>\n",
              "      <td>19.56</td>\n",
              "      <td>yellow</td>\n",
              "      <td>credit card</td>\n",
              "      <td>Clinton East</td>\n",
              "      <td>Lenox Hill West</td>\n",
              "      <td>Manhattan</td>\n",
              "      <td>Manhattan</td>\n",
              "    </tr>\n",
              "    <tr>\n",
              "      <th>28</th>\n",
              "      <td>2019-03-20 12:25:31</td>\n",
              "      <td>2019-03-20 12:45:02</td>\n",
              "      <td>1</td>\n",
              "      <td>4.71</td>\n",
              "      <td>17.5</td>\n",
              "      <td>0.00</td>\n",
              "      <td>0.00</td>\n",
              "      <td>18.30</td>\n",
              "      <td>yellow</td>\n",
              "      <td>credit card</td>\n",
              "      <td>Clinton West</td>\n",
              "      <td>East Harlem North</td>\n",
              "      <td>Manhattan</td>\n",
              "      <td>Manhattan</td>\n",
              "    </tr>\n",
              "    <tr>\n",
              "      <th>29</th>\n",
              "      <td>2019-03-06 08:09:03</td>\n",
              "      <td>2019-03-06 08:27:11</td>\n",
              "      <td>1</td>\n",
              "      <td>0.92</td>\n",
              "      <td>12.0</td>\n",
              "      <td>0.00</td>\n",
              "      <td>0.00</td>\n",
              "      <td>15.30</td>\n",
              "      <td>yellow</td>\n",
              "      <td>cash</td>\n",
              "      <td>UN/Turtle Bay South</td>\n",
              "      <td>Garment District</td>\n",
              "      <td>Manhattan</td>\n",
              "      <td>Manhattan</td>\n",
              "    </tr>\n",
              "    <tr>\n",
              "      <th>30</th>\n",
              "      <td>2019-03-10 15:14:20</td>\n",
              "      <td>2019-03-10 15:20:17</td>\n",
              "      <td>1</td>\n",
              "      <td>1.84</td>\n",
              "      <td>7.0</td>\n",
              "      <td>2.06</td>\n",
              "      <td>0.00</td>\n",
              "      <td>12.36</td>\n",
              "      <td>yellow</td>\n",
              "      <td>credit card</td>\n",
              "      <td>Lenox Hill West</td>\n",
              "      <td>East Harlem South</td>\n",
              "      <td>Manhattan</td>\n",
              "      <td>Manhattan</td>\n",
              "    </tr>\n",
              "    <tr>\n",
              "      <th>31</th>\n",
              "      <td>2019-03-01 02:55:55</td>\n",
              "      <td>2019-03-01 02:57:59</td>\n",
              "      <td>3</td>\n",
              "      <td>0.74</td>\n",
              "      <td>4.0</td>\n",
              "      <td>0.00</td>\n",
              "      <td>0.00</td>\n",
              "      <td>7.80</td>\n",
              "      <td>yellow</td>\n",
              "      <td>cash</td>\n",
              "      <td>Clinton East</td>\n",
              "      <td>West Chelsea/Hudson Yards</td>\n",
              "      <td>Manhattan</td>\n",
              "      <td>Manhattan</td>\n",
              "    </tr>\n",
              "    <tr>\n",
              "      <th>32</th>\n",
              "      <td>2019-03-17 19:24:50</td>\n",
              "      <td>2019-03-17 19:29:58</td>\n",
              "      <td>1</td>\n",
              "      <td>0.62</td>\n",
              "      <td>5.5</td>\n",
              "      <td>1.00</td>\n",
              "      <td>0.00</td>\n",
              "      <td>9.80</td>\n",
              "      <td>yellow</td>\n",
              "      <td>credit card</td>\n",
              "      <td>Midtown Center</td>\n",
              "      <td>Sutton Place/Turtle Bay North</td>\n",
              "      <td>Manhattan</td>\n",
              "      <td>Manhattan</td>\n",
              "    </tr>\n",
              "    <tr>\n",
              "      <th>33</th>\n",
              "      <td>2019-03-20 22:29:32</td>\n",
              "      <td>2019-03-20 22:32:24</td>\n",
              "      <td>2</td>\n",
              "      <td>0.65</td>\n",
              "      <td>4.5</td>\n",
              "      <td>2.49</td>\n",
              "      <td>0.00</td>\n",
              "      <td>10.79</td>\n",
              "      <td>yellow</td>\n",
              "      <td>credit card</td>\n",
              "      <td>Midtown South</td>\n",
              "      <td>Midtown Center</td>\n",
              "      <td>Manhattan</td>\n",
              "      <td>Manhattan</td>\n",
              "    </tr>\n",
              "    <tr>\n",
              "      <th>34</th>\n",
              "      <td>2019-03-21 10:48:02</td>\n",
              "      <td>2019-03-21 10:57:45</td>\n",
              "      <td>2</td>\n",
              "      <td>0.87</td>\n",
              "      <td>7.5</td>\n",
              "      <td>2.16</td>\n",
              "      <td>0.00</td>\n",
              "      <td>12.96</td>\n",
              "      <td>yellow</td>\n",
              "      <td>credit card</td>\n",
              "      <td>Midtown North</td>\n",
              "      <td>Clinton West</td>\n",
              "      <td>Manhattan</td>\n",
              "      <td>Manhattan</td>\n",
              "    </tr>\n",
              "    <tr>\n",
              "      <th>35</th>\n",
              "      <td>2019-03-01 17:39:58</td>\n",
              "      <td>2019-03-01 18:04:46</td>\n",
              "      <td>1</td>\n",
              "      <td>3.06</td>\n",
              "      <td>17.0</td>\n",
              "      <td>4.26</td>\n",
              "      <td>0.00</td>\n",
              "      <td>25.56</td>\n",
              "      <td>yellow</td>\n",
              "      <td>credit card</td>\n",
              "      <td>West Chelsea/Hudson Yards</td>\n",
              "      <td>Lenox Hill East</td>\n",
              "      <td>Manhattan</td>\n",
              "      <td>Manhattan</td>\n",
              "    </tr>\n",
              "    <tr>\n",
              "      <th>36</th>\n",
              "      <td>2019-03-22 17:28:51</td>\n",
              "      <td>2019-03-22 17:33:51</td>\n",
              "      <td>1</td>\n",
              "      <td>1.10</td>\n",
              "      <td>5.5</td>\n",
              "      <td>0.00</td>\n",
              "      <td>0.00</td>\n",
              "      <td>9.80</td>\n",
              "      <td>yellow</td>\n",
              "      <td>cash</td>\n",
              "      <td>Garment District</td>\n",
              "      <td>Flatiron</td>\n",
              "      <td>Manhattan</td>\n",
              "      <td>Manhattan</td>\n",
              "    </tr>\n",
              "    <tr>\n",
              "      <th>37</th>\n",
              "      <td>2019-03-21 18:41:58</td>\n",
              "      <td>2019-03-21 19:15:25</td>\n",
              "      <td>1</td>\n",
              "      <td>3.13</td>\n",
              "      <td>20.5</td>\n",
              "      <td>0.00</td>\n",
              "      <td>0.00</td>\n",
              "      <td>24.80</td>\n",
              "      <td>yellow</td>\n",
              "      <td>cash</td>\n",
              "      <td>Lenox Hill East</td>\n",
              "      <td>Garment District</td>\n",
              "      <td>Manhattan</td>\n",
              "      <td>Manhattan</td>\n",
              "    </tr>\n",
              "    <tr>\n",
              "      <th>38</th>\n",
              "      <td>2019-03-18 16:03:14</td>\n",
              "      <td>2019-03-18 16:10:36</td>\n",
              "      <td>2</td>\n",
              "      <td>1.13</td>\n",
              "      <td>6.5</td>\n",
              "      <td>2.16</td>\n",
              "      <td>0.00</td>\n",
              "      <td>12.96</td>\n",
              "      <td>yellow</td>\n",
              "      <td>credit card</td>\n",
              "      <td>Gramercy</td>\n",
              "      <td>Murray Hill</td>\n",
              "      <td>Manhattan</td>\n",
              "      <td>Manhattan</td>\n",
              "    </tr>\n",
              "    <tr>\n",
              "      <th>39</th>\n",
              "      <td>2019-03-25 22:50:56</td>\n",
              "      <td>2019-03-25 22:59:51</td>\n",
              "      <td>1</td>\n",
              "      <td>2.47</td>\n",
              "      <td>10.0</td>\n",
              "      <td>2.76</td>\n",
              "      <td>0.00</td>\n",
              "      <td>16.56</td>\n",
              "      <td>yellow</td>\n",
              "      <td>credit card</td>\n",
              "      <td>Garment District</td>\n",
              "      <td>Upper West Side South</td>\n",
              "      <td>Manhattan</td>\n",
              "      <td>Manhattan</td>\n",
              "    </tr>\n",
              "    <tr>\n",
              "      <th>40</th>\n",
              "      <td>2019-03-07 15:15:46</td>\n",
              "      <td>2019-03-07 15:50:14</td>\n",
              "      <td>1</td>\n",
              "      <td>7.51</td>\n",
              "      <td>27.0</td>\n",
              "      <td>6.06</td>\n",
              "      <td>0.00</td>\n",
              "      <td>36.36</td>\n",
              "      <td>yellow</td>\n",
              "      <td>credit card</td>\n",
              "      <td>Flatiron</td>\n",
              "      <td>Carroll Gardens</td>\n",
              "      <td>Manhattan</td>\n",
              "      <td>Brooklyn</td>\n",
              "    </tr>\n",
              "    <tr>\n",
              "      <th>41</th>\n",
              "      <td>2019-03-24 18:42:56</td>\n",
              "      <td>2019-03-24 19:09:00</td>\n",
              "      <td>0</td>\n",
              "      <td>4.50</td>\n",
              "      <td>20.0</td>\n",
              "      <td>0.00</td>\n",
              "      <td>0.00</td>\n",
              "      <td>23.30</td>\n",
              "      <td>yellow</td>\n",
              "      <td>cash</td>\n",
              "      <td>TriBeCa/Civic Center</td>\n",
              "      <td>Kips Bay</td>\n",
              "      <td>Manhattan</td>\n",
              "      <td>Manhattan</td>\n",
              "    </tr>\n",
              "    <tr>\n",
              "      <th>42</th>\n",
              "      <td>2019-03-30 23:59:14</td>\n",
              "      <td>2019-03-30 23:59:17</td>\n",
              "      <td>1</td>\n",
              "      <td>0.00</td>\n",
              "      <td>80.0</td>\n",
              "      <td>20.08</td>\n",
              "      <td>0.00</td>\n",
              "      <td>100.38</td>\n",
              "      <td>yellow</td>\n",
              "      <td>credit card</td>\n",
              "      <td>NaN</td>\n",
              "      <td>NaN</td>\n",
              "      <td>NaN</td>\n",
              "      <td>NaN</td>\n",
              "    </tr>\n",
              "    <tr>\n",
              "      <th>43</th>\n",
              "      <td>2019-03-27 19:39:16</td>\n",
              "      <td>2019-03-27 20:00:26</td>\n",
              "      <td>1</td>\n",
              "      <td>9.50</td>\n",
              "      <td>28.0</td>\n",
              "      <td>0.00</td>\n",
              "      <td>5.76</td>\n",
              "      <td>35.06</td>\n",
              "      <td>yellow</td>\n",
              "      <td>cash</td>\n",
              "      <td>LaGuardia Airport</td>\n",
              "      <td>Washington Heights South</td>\n",
              "      <td>Queens</td>\n",
              "      <td>Manhattan</td>\n",
              "    </tr>\n",
              "    <tr>\n",
              "      <th>44</th>\n",
              "      <td>2019-03-14 07:19:29</td>\n",
              "      <td>2019-03-14 07:45:51</td>\n",
              "      <td>1</td>\n",
              "      <td>9.37</td>\n",
              "      <td>29.5</td>\n",
              "      <td>1.00</td>\n",
              "      <td>0.00</td>\n",
              "      <td>33.80</td>\n",
              "      <td>yellow</td>\n",
              "      <td>credit card</td>\n",
              "      <td>East Harlem South</td>\n",
              "      <td>Battery Park City</td>\n",
              "      <td>Manhattan</td>\n",
              "      <td>Manhattan</td>\n",
              "    </tr>\n",
              "    <tr>\n",
              "      <th>45</th>\n",
              "      <td>2019-03-07 11:19:21</td>\n",
              "      <td>2019-03-07 11:39:09</td>\n",
              "      <td>1</td>\n",
              "      <td>0.80</td>\n",
              "      <td>12.5</td>\n",
              "      <td>3.15</td>\n",
              "      <td>0.00</td>\n",
              "      <td>18.95</td>\n",
              "      <td>yellow</td>\n",
              "      <td>credit card</td>\n",
              "      <td>Lincoln Square East</td>\n",
              "      <td>Midtown East</td>\n",
              "      <td>Manhattan</td>\n",
              "      <td>Manhattan</td>\n",
              "    </tr>\n",
              "    <tr>\n",
              "      <th>46</th>\n",
              "      <td>2019-03-20 11:40:59</td>\n",
              "      <td>2019-03-20 12:06:41</td>\n",
              "      <td>2</td>\n",
              "      <td>4.70</td>\n",
              "      <td>20.0</td>\n",
              "      <td>0.00</td>\n",
              "      <td>0.00</td>\n",
              "      <td>23.30</td>\n",
              "      <td>yellow</td>\n",
              "      <td>cash</td>\n",
              "      <td>Times Sq/Theatre District</td>\n",
              "      <td>Battery Park City</td>\n",
              "      <td>Manhattan</td>\n",
              "      <td>Manhattan</td>\n",
              "    </tr>\n",
              "    <tr>\n",
              "      <th>47</th>\n",
              "      <td>2019-03-13 06:17:45</td>\n",
              "      <td>2019-03-13 06:21:54</td>\n",
              "      <td>2</td>\n",
              "      <td>1.15</td>\n",
              "      <td>5.5</td>\n",
              "      <td>2.64</td>\n",
              "      <td>0.00</td>\n",
              "      <td>11.44</td>\n",
              "      <td>yellow</td>\n",
              "      <td>credit card</td>\n",
              "      <td>Upper East Side North</td>\n",
              "      <td>Lenox Hill West</td>\n",
              "      <td>Manhattan</td>\n",
              "      <td>Manhattan</td>\n",
              "    </tr>\n",
              "    <tr>\n",
              "      <th>48</th>\n",
              "      <td>2019-03-07 16:49:01</td>\n",
              "      <td>2019-03-07 16:57:07</td>\n",
              "      <td>1</td>\n",
              "      <td>1.30</td>\n",
              "      <td>7.0</td>\n",
              "      <td>0.00</td>\n",
              "      <td>0.00</td>\n",
              "      <td>11.30</td>\n",
              "      <td>yellow</td>\n",
              "      <td>cash</td>\n",
              "      <td>Lincoln Square East</td>\n",
              "      <td>Times Sq/Theatre District</td>\n",
              "      <td>Manhattan</td>\n",
              "      <td>Manhattan</td>\n",
              "    </tr>\n",
              "    <tr>\n",
              "      <th>49</th>\n",
              "      <td>2019-03-04 21:35:00</td>\n",
              "      <td>2019-03-04 21:53:42</td>\n",
              "      <td>1</td>\n",
              "      <td>4.87</td>\n",
              "      <td>17.5</td>\n",
              "      <td>0.00</td>\n",
              "      <td>0.00</td>\n",
              "      <td>21.30</td>\n",
              "      <td>yellow</td>\n",
              "      <td>cash</td>\n",
              "      <td>West Village</td>\n",
              "      <td>Upper West Side South</td>\n",
              "      <td>Manhattan</td>\n",
              "      <td>Manhattan</td>\n",
              "    </tr>\n",
              "    <tr>\n",
              "      <th>50</th>\n",
              "      <td>2019-03-16 16:36:34</td>\n",
              "      <td>2019-03-16 16:54:50</td>\n",
              "      <td>2</td>\n",
              "      <td>1.00</td>\n",
              "      <td>11.5</td>\n",
              "      <td>0.00</td>\n",
              "      <td>0.00</td>\n",
              "      <td>14.80</td>\n",
              "      <td>yellow</td>\n",
              "      <td>cash</td>\n",
              "      <td>Clinton East</td>\n",
              "      <td>Penn Station/Madison Sq West</td>\n",
              "      <td>Manhattan</td>\n",
              "      <td>Manhattan</td>\n",
              "    </tr>\n",
              "    <tr>\n",
              "      <th>51</th>\n",
              "      <td>2019-03-16 17:38:47</td>\n",
              "      <td>2019-03-16 17:56:04</td>\n",
              "      <td>4</td>\n",
              "      <td>1.89</td>\n",
              "      <td>12.0</td>\n",
              "      <td>0.00</td>\n",
              "      <td>0.00</td>\n",
              "      <td>15.30</td>\n",
              "      <td>yellow</td>\n",
              "      <td>cash</td>\n",
              "      <td>Midtown North</td>\n",
              "      <td>Union Sq</td>\n",
              "      <td>Manhattan</td>\n",
              "      <td>Manhattan</td>\n",
              "    </tr>\n",
              "    <tr>\n",
              "      <th>52</th>\n",
              "      <td>2019-03-21 21:30:05</td>\n",
              "      <td>2019-03-21 21:39:03</td>\n",
              "      <td>2</td>\n",
              "      <td>0.90</td>\n",
              "      <td>7.0</td>\n",
              "      <td>2.15</td>\n",
              "      <td>0.00</td>\n",
              "      <td>12.95</td>\n",
              "      <td>yellow</td>\n",
              "      <td>credit card</td>\n",
              "      <td>Greenwich Village South</td>\n",
              "      <td>Meatpacking/West Village West</td>\n",
              "      <td>Manhattan</td>\n",
              "      <td>Manhattan</td>\n",
              "    </tr>\n",
              "    <tr>\n",
              "      <th>53</th>\n",
              "      <td>2019-03-20 18:49:24</td>\n",
              "      <td>2019-03-20 19:12:40</td>\n",
              "      <td>1</td>\n",
              "      <td>13.45</td>\n",
              "      <td>36.0</td>\n",
              "      <td>0.00</td>\n",
              "      <td>0.00</td>\n",
              "      <td>37.80</td>\n",
              "      <td>yellow</td>\n",
              "      <td>cash</td>\n",
              "      <td>JFK Airport</td>\n",
              "      <td>Sunnyside</td>\n",
              "      <td>Queens</td>\n",
              "      <td>Queens</td>\n",
              "    </tr>\n",
              "    <tr>\n",
              "      <th>54</th>\n",
              "      <td>2019-03-24 01:13:51</td>\n",
              "      <td>2019-03-24 01:24:00</td>\n",
              "      <td>1</td>\n",
              "      <td>2.80</td>\n",
              "      <td>10.5</td>\n",
              "      <td>2.85</td>\n",
              "      <td>0.00</td>\n",
              "      <td>17.15</td>\n",
              "      <td>yellow</td>\n",
              "      <td>credit card</td>\n",
              "      <td>East Village</td>\n",
              "      <td>Sutton Place/Turtle Bay North</td>\n",
              "      <td>Manhattan</td>\n",
              "      <td>Manhattan</td>\n",
              "    </tr>\n",
              "    <tr>\n",
              "      <th>55</th>\n",
              "      <td>2019-03-14 12:11:52</td>\n",
              "      <td>2019-03-14 12:40:54</td>\n",
              "      <td>1</td>\n",
              "      <td>3.43</td>\n",
              "      <td>19.0</td>\n",
              "      <td>4.46</td>\n",
              "      <td>0.00</td>\n",
              "      <td>26.76</td>\n",
              "      <td>yellow</td>\n",
              "      <td>credit card</td>\n",
              "      <td>Union Sq</td>\n",
              "      <td>Lincoln Square West</td>\n",
              "      <td>Manhattan</td>\n",
              "      <td>Manhattan</td>\n",
              "    </tr>\n",
              "    <tr>\n",
              "      <th>56</th>\n",
              "      <td>2019-03-05 17:57:00</td>\n",
              "      <td>2019-03-05 18:45:25</td>\n",
              "      <td>2</td>\n",
              "      <td>19.59</td>\n",
              "      <td>52.0</td>\n",
              "      <td>0.00</td>\n",
              "      <td>5.76</td>\n",
              "      <td>65.56</td>\n",
              "      <td>yellow</td>\n",
              "      <td>credit card</td>\n",
              "      <td>JFK Airport</td>\n",
              "      <td>Upper East Side North</td>\n",
              "      <td>Queens</td>\n",
              "      <td>Manhattan</td>\n",
              "    </tr>\n",
              "    <tr>\n",
              "      <th>57</th>\n",
              "      <td>2019-03-17 13:55:43</td>\n",
              "      <td>2019-03-17 14:01:39</td>\n",
              "      <td>4</td>\n",
              "      <td>0.71</td>\n",
              "      <td>5.5</td>\n",
              "      <td>1.76</td>\n",
              "      <td>0.00</td>\n",
              "      <td>10.56</td>\n",
              "      <td>yellow</td>\n",
              "      <td>credit card</td>\n",
              "      <td>UN/Turtle Bay South</td>\n",
              "      <td>Midtown Center</td>\n",
              "      <td>Manhattan</td>\n",
              "      <td>Manhattan</td>\n",
              "    </tr>\n",
              "    <tr>\n",
              "      <th>58</th>\n",
              "      <td>2019-03-01 23:21:01</td>\n",
              "      <td>2019-03-01 23:46:28</td>\n",
              "      <td>1</td>\n",
              "      <td>4.50</td>\n",
              "      <td>18.5</td>\n",
              "      <td>4.46</td>\n",
              "      <td>0.00</td>\n",
              "      <td>26.76</td>\n",
              "      <td>yellow</td>\n",
              "      <td>credit card</td>\n",
              "      <td>Garment District</td>\n",
              "      <td>Financial District North</td>\n",
              "      <td>Manhattan</td>\n",
              "      <td>Manhattan</td>\n",
              "    </tr>\n",
              "    <tr>\n",
              "      <th>59</th>\n",
              "      <td>2019-03-09 19:24:01</td>\n",
              "      <td>2019-03-09 19:33:32</td>\n",
              "      <td>3</td>\n",
              "      <td>0.82</td>\n",
              "      <td>7.0</td>\n",
              "      <td>2.00</td>\n",
              "      <td>0.00</td>\n",
              "      <td>12.30</td>\n",
              "      <td>yellow</td>\n",
              "      <td>credit card</td>\n",
              "      <td>TriBeCa/Civic Center</td>\n",
              "      <td>Lower East Side</td>\n",
              "      <td>Manhattan</td>\n",
              "      <td>Manhattan</td>\n",
              "    </tr>\n",
              "  </tbody>\n",
              "</table>\n",
              "</div>\n",
              "      <button class=\"colab-df-convert\" onclick=\"convertToInteractive('df-1a762f47-eb20-45e6-bbf0-a0ca1472f5cc')\"\n",
              "              title=\"Convert this dataframe to an interactive table.\"\n",
              "              style=\"display:none;\">\n",
              "        \n",
              "  <svg xmlns=\"http://www.w3.org/2000/svg\" height=\"24px\"viewBox=\"0 0 24 24\"\n",
              "       width=\"24px\">\n",
              "    <path d=\"M0 0h24v24H0V0z\" fill=\"none\"/>\n",
              "    <path d=\"M18.56 5.44l.94 2.06.94-2.06 2.06-.94-2.06-.94-.94-2.06-.94 2.06-2.06.94zm-11 1L8.5 8.5l.94-2.06 2.06-.94-2.06-.94L8.5 2.5l-.94 2.06-2.06.94zm10 10l.94 2.06.94-2.06 2.06-.94-2.06-.94-.94-2.06-.94 2.06-2.06.94z\"/><path d=\"M17.41 7.96l-1.37-1.37c-.4-.4-.92-.59-1.43-.59-.52 0-1.04.2-1.43.59L10.3 9.45l-7.72 7.72c-.78.78-.78 2.05 0 2.83L4 21.41c.39.39.9.59 1.41.59.51 0 1.02-.2 1.41-.59l7.78-7.78 2.81-2.81c.8-.78.8-2.07 0-2.86zM5.41 20L4 18.59l7.72-7.72 1.47 1.35L5.41 20z\"/>\n",
              "  </svg>\n",
              "      </button>\n",
              "      \n",
              "  <style>\n",
              "    .colab-df-container {\n",
              "      display:flex;\n",
              "      flex-wrap:wrap;\n",
              "      gap: 12px;\n",
              "    }\n",
              "\n",
              "    .colab-df-convert {\n",
              "      background-color: #E8F0FE;\n",
              "      border: none;\n",
              "      border-radius: 50%;\n",
              "      cursor: pointer;\n",
              "      display: none;\n",
              "      fill: #1967D2;\n",
              "      height: 32px;\n",
              "      padding: 0 0 0 0;\n",
              "      width: 32px;\n",
              "    }\n",
              "\n",
              "    .colab-df-convert:hover {\n",
              "      background-color: #E2EBFA;\n",
              "      box-shadow: 0px 1px 2px rgba(60, 64, 67, 0.3), 0px 1px 3px 1px rgba(60, 64, 67, 0.15);\n",
              "      fill: #174EA6;\n",
              "    }\n",
              "\n",
              "    [theme=dark] .colab-df-convert {\n",
              "      background-color: #3B4455;\n",
              "      fill: #D2E3FC;\n",
              "    }\n",
              "\n",
              "    [theme=dark] .colab-df-convert:hover {\n",
              "      background-color: #434B5C;\n",
              "      box-shadow: 0px 1px 3px 1px rgba(0, 0, 0, 0.15);\n",
              "      filter: drop-shadow(0px 1px 2px rgba(0, 0, 0, 0.3));\n",
              "      fill: #FFFFFF;\n",
              "    }\n",
              "  </style>\n",
              "\n",
              "      <script>\n",
              "        const buttonEl =\n",
              "          document.querySelector('#df-1a762f47-eb20-45e6-bbf0-a0ca1472f5cc button.colab-df-convert');\n",
              "        buttonEl.style.display =\n",
              "          google.colab.kernel.accessAllowed ? 'block' : 'none';\n",
              "\n",
              "        async function convertToInteractive(key) {\n",
              "          const element = document.querySelector('#df-1a762f47-eb20-45e6-bbf0-a0ca1472f5cc');\n",
              "          const dataTable =\n",
              "            await google.colab.kernel.invokeFunction('convertToInteractive',\n",
              "                                                     [key], {});\n",
              "          if (!dataTable) return;\n",
              "\n",
              "          const docLinkHtml = 'Like what you see? Visit the ' +\n",
              "            '<a target=\"_blank\" href=https://colab.research.google.com/notebooks/data_table.ipynb>data table notebook</a>'\n",
              "            + ' to learn more about interactive tables.';\n",
              "          element.innerHTML = '';\n",
              "          dataTable['output_type'] = 'display_data';\n",
              "          await google.colab.output.renderOutput(dataTable, element);\n",
              "          const docLink = document.createElement('div');\n",
              "          docLink.innerHTML = docLinkHtml;\n",
              "          element.appendChild(docLink);\n",
              "        }\n",
              "      </script>\n",
              "    </div>\n",
              "  </div>\n",
              "  "
            ]
          },
          "metadata": {},
          "execution_count": 358
        }
      ]
    },
    {
      "cell_type": "code",
      "source": [
        "df.tail()"
      ],
      "metadata": {
        "colab": {
          "base_uri": "https://localhost:8080/",
          "height": 337
        },
        "id": "7v9wkgGynVgw",
        "outputId": "2a75128c-1257-4d3d-9910-7ee07a570d61"
      },
      "execution_count": 359,
      "outputs": [
        {
          "output_type": "execute_result",
          "data": {
            "text/plain": [
              "                  pickup             dropoff  passengers  distance  fare  \\\n",
              "6428 2019-03-31 09:51:53 2019-03-31 09:55:27           1      0.75   4.5   \n",
              "6429 2019-03-31 17:38:00 2019-03-31 18:34:23           1     18.74  58.0   \n",
              "6430 2019-03-23 22:55:18 2019-03-23 23:14:25           1      4.14  16.0   \n",
              "6431 2019-03-04 10:09:25 2019-03-04 10:14:29           1      1.12   6.0   \n",
              "6432 2019-03-13 19:31:22 2019-03-13 19:48:02           1      3.85  15.0   \n",
              "\n",
              "       tip  tolls  total  color      payment          pickup_zone  \\\n",
              "6428  1.06    0.0   6.36  green  credit card    East Harlem North   \n",
              "6429  0.00    0.0  58.80  green  credit card              Jamaica   \n",
              "6430  0.00    0.0  17.30  green         cash  Crown Heights North   \n",
              "6431  0.00    0.0   6.80  green  credit card        East New York   \n",
              "6432  3.36    0.0  20.16  green  credit card          Boerum Hill   \n",
              "\n",
              "                          dropoff_zone pickup_borough dropoff_borough  \n",
              "6428              Central Harlem North      Manhattan       Manhattan  \n",
              "6429  East Concourse/Concourse Village         Queens           Bronx  \n",
              "6430                    Bushwick North       Brooklyn        Brooklyn  \n",
              "6431      East Flatbush/Remsen Village       Brooklyn        Brooklyn  \n",
              "6432                   Windsor Terrace       Brooklyn        Brooklyn  "
            ],
            "text/html": [
              "\n",
              "  <div id=\"df-237f4aa5-c845-4ddd-951f-bffbda6736f7\">\n",
              "    <div class=\"colab-df-container\">\n",
              "      <div>\n",
              "<style scoped>\n",
              "    .dataframe tbody tr th:only-of-type {\n",
              "        vertical-align: middle;\n",
              "    }\n",
              "\n",
              "    .dataframe tbody tr th {\n",
              "        vertical-align: top;\n",
              "    }\n",
              "\n",
              "    .dataframe thead th {\n",
              "        text-align: right;\n",
              "    }\n",
              "</style>\n",
              "<table border=\"1\" class=\"dataframe\">\n",
              "  <thead>\n",
              "    <tr style=\"text-align: right;\">\n",
              "      <th></th>\n",
              "      <th>pickup</th>\n",
              "      <th>dropoff</th>\n",
              "      <th>passengers</th>\n",
              "      <th>distance</th>\n",
              "      <th>fare</th>\n",
              "      <th>tip</th>\n",
              "      <th>tolls</th>\n",
              "      <th>total</th>\n",
              "      <th>color</th>\n",
              "      <th>payment</th>\n",
              "      <th>pickup_zone</th>\n",
              "      <th>dropoff_zone</th>\n",
              "      <th>pickup_borough</th>\n",
              "      <th>dropoff_borough</th>\n",
              "    </tr>\n",
              "  </thead>\n",
              "  <tbody>\n",
              "    <tr>\n",
              "      <th>6428</th>\n",
              "      <td>2019-03-31 09:51:53</td>\n",
              "      <td>2019-03-31 09:55:27</td>\n",
              "      <td>1</td>\n",
              "      <td>0.75</td>\n",
              "      <td>4.5</td>\n",
              "      <td>1.06</td>\n",
              "      <td>0.0</td>\n",
              "      <td>6.36</td>\n",
              "      <td>green</td>\n",
              "      <td>credit card</td>\n",
              "      <td>East Harlem North</td>\n",
              "      <td>Central Harlem North</td>\n",
              "      <td>Manhattan</td>\n",
              "      <td>Manhattan</td>\n",
              "    </tr>\n",
              "    <tr>\n",
              "      <th>6429</th>\n",
              "      <td>2019-03-31 17:38:00</td>\n",
              "      <td>2019-03-31 18:34:23</td>\n",
              "      <td>1</td>\n",
              "      <td>18.74</td>\n",
              "      <td>58.0</td>\n",
              "      <td>0.00</td>\n",
              "      <td>0.0</td>\n",
              "      <td>58.80</td>\n",
              "      <td>green</td>\n",
              "      <td>credit card</td>\n",
              "      <td>Jamaica</td>\n",
              "      <td>East Concourse/Concourse Village</td>\n",
              "      <td>Queens</td>\n",
              "      <td>Bronx</td>\n",
              "    </tr>\n",
              "    <tr>\n",
              "      <th>6430</th>\n",
              "      <td>2019-03-23 22:55:18</td>\n",
              "      <td>2019-03-23 23:14:25</td>\n",
              "      <td>1</td>\n",
              "      <td>4.14</td>\n",
              "      <td>16.0</td>\n",
              "      <td>0.00</td>\n",
              "      <td>0.0</td>\n",
              "      <td>17.30</td>\n",
              "      <td>green</td>\n",
              "      <td>cash</td>\n",
              "      <td>Crown Heights North</td>\n",
              "      <td>Bushwick North</td>\n",
              "      <td>Brooklyn</td>\n",
              "      <td>Brooklyn</td>\n",
              "    </tr>\n",
              "    <tr>\n",
              "      <th>6431</th>\n",
              "      <td>2019-03-04 10:09:25</td>\n",
              "      <td>2019-03-04 10:14:29</td>\n",
              "      <td>1</td>\n",
              "      <td>1.12</td>\n",
              "      <td>6.0</td>\n",
              "      <td>0.00</td>\n",
              "      <td>0.0</td>\n",
              "      <td>6.80</td>\n",
              "      <td>green</td>\n",
              "      <td>credit card</td>\n",
              "      <td>East New York</td>\n",
              "      <td>East Flatbush/Remsen Village</td>\n",
              "      <td>Brooklyn</td>\n",
              "      <td>Brooklyn</td>\n",
              "    </tr>\n",
              "    <tr>\n",
              "      <th>6432</th>\n",
              "      <td>2019-03-13 19:31:22</td>\n",
              "      <td>2019-03-13 19:48:02</td>\n",
              "      <td>1</td>\n",
              "      <td>3.85</td>\n",
              "      <td>15.0</td>\n",
              "      <td>3.36</td>\n",
              "      <td>0.0</td>\n",
              "      <td>20.16</td>\n",
              "      <td>green</td>\n",
              "      <td>credit card</td>\n",
              "      <td>Boerum Hill</td>\n",
              "      <td>Windsor Terrace</td>\n",
              "      <td>Brooklyn</td>\n",
              "      <td>Brooklyn</td>\n",
              "    </tr>\n",
              "  </tbody>\n",
              "</table>\n",
              "</div>\n",
              "      <button class=\"colab-df-convert\" onclick=\"convertToInteractive('df-237f4aa5-c845-4ddd-951f-bffbda6736f7')\"\n",
              "              title=\"Convert this dataframe to an interactive table.\"\n",
              "              style=\"display:none;\">\n",
              "        \n",
              "  <svg xmlns=\"http://www.w3.org/2000/svg\" height=\"24px\"viewBox=\"0 0 24 24\"\n",
              "       width=\"24px\">\n",
              "    <path d=\"M0 0h24v24H0V0z\" fill=\"none\"/>\n",
              "    <path d=\"M18.56 5.44l.94 2.06.94-2.06 2.06-.94-2.06-.94-.94-2.06-.94 2.06-2.06.94zm-11 1L8.5 8.5l.94-2.06 2.06-.94-2.06-.94L8.5 2.5l-.94 2.06-2.06.94zm10 10l.94 2.06.94-2.06 2.06-.94-2.06-.94-.94-2.06-.94 2.06-2.06.94z\"/><path d=\"M17.41 7.96l-1.37-1.37c-.4-.4-.92-.59-1.43-.59-.52 0-1.04.2-1.43.59L10.3 9.45l-7.72 7.72c-.78.78-.78 2.05 0 2.83L4 21.41c.39.39.9.59 1.41.59.51 0 1.02-.2 1.41-.59l7.78-7.78 2.81-2.81c.8-.78.8-2.07 0-2.86zM5.41 20L4 18.59l7.72-7.72 1.47 1.35L5.41 20z\"/>\n",
              "  </svg>\n",
              "      </button>\n",
              "      \n",
              "  <style>\n",
              "    .colab-df-container {\n",
              "      display:flex;\n",
              "      flex-wrap:wrap;\n",
              "      gap: 12px;\n",
              "    }\n",
              "\n",
              "    .colab-df-convert {\n",
              "      background-color: #E8F0FE;\n",
              "      border: none;\n",
              "      border-radius: 50%;\n",
              "      cursor: pointer;\n",
              "      display: none;\n",
              "      fill: #1967D2;\n",
              "      height: 32px;\n",
              "      padding: 0 0 0 0;\n",
              "      width: 32px;\n",
              "    }\n",
              "\n",
              "    .colab-df-convert:hover {\n",
              "      background-color: #E2EBFA;\n",
              "      box-shadow: 0px 1px 2px rgba(60, 64, 67, 0.3), 0px 1px 3px 1px rgba(60, 64, 67, 0.15);\n",
              "      fill: #174EA6;\n",
              "    }\n",
              "\n",
              "    [theme=dark] .colab-df-convert {\n",
              "      background-color: #3B4455;\n",
              "      fill: #D2E3FC;\n",
              "    }\n",
              "\n",
              "    [theme=dark] .colab-df-convert:hover {\n",
              "      background-color: #434B5C;\n",
              "      box-shadow: 0px 1px 3px 1px rgba(0, 0, 0, 0.15);\n",
              "      filter: drop-shadow(0px 1px 2px rgba(0, 0, 0, 0.3));\n",
              "      fill: #FFFFFF;\n",
              "    }\n",
              "  </style>\n",
              "\n",
              "      <script>\n",
              "        const buttonEl =\n",
              "          document.querySelector('#df-237f4aa5-c845-4ddd-951f-bffbda6736f7 button.colab-df-convert');\n",
              "        buttonEl.style.display =\n",
              "          google.colab.kernel.accessAllowed ? 'block' : 'none';\n",
              "\n",
              "        async function convertToInteractive(key) {\n",
              "          const element = document.querySelector('#df-237f4aa5-c845-4ddd-951f-bffbda6736f7');\n",
              "          const dataTable =\n",
              "            await google.colab.kernel.invokeFunction('convertToInteractive',\n",
              "                                                     [key], {});\n",
              "          if (!dataTable) return;\n",
              "\n",
              "          const docLinkHtml = 'Like what you see? Visit the ' +\n",
              "            '<a target=\"_blank\" href=https://colab.research.google.com/notebooks/data_table.ipynb>data table notebook</a>'\n",
              "            + ' to learn more about interactive tables.';\n",
              "          element.innerHTML = '';\n",
              "          dataTable['output_type'] = 'display_data';\n",
              "          await google.colab.output.renderOutput(dataTable, element);\n",
              "          const docLink = document.createElement('div');\n",
              "          docLink.innerHTML = docLinkHtml;\n",
              "          element.appendChild(docLink);\n",
              "        }\n",
              "      </script>\n",
              "    </div>\n",
              "  </div>\n",
              "  "
            ]
          },
          "metadata": {},
          "execution_count": 359
        }
      ]
    },
    {
      "cell_type": "code",
      "source": [
        "print(df['payment'].value_counts())"
      ],
      "metadata": {
        "colab": {
          "base_uri": "https://localhost:8080/"
        },
        "id": "FHXYPn8VCSxF",
        "outputId": "c2c94bca-6d77-4d17-8d70-917a06537164"
      },
      "execution_count": 360,
      "outputs": [
        {
          "output_type": "stream",
          "name": "stdout",
          "text": [
            "credit card    4577\n",
            "cash           1812\n",
            "Name: payment, dtype: int64\n"
          ]
        }
      ]
    },
    {
      "cell_type": "code",
      "source": [
        "unique_elements = df['payment'].unique()\n",
        "print(unique_elements)"
      ],
      "metadata": {
        "colab": {
          "base_uri": "https://localhost:8080/"
        },
        "id": "EHw_9b6uDGcJ",
        "outputId": "b4301b44-fc77-45f4-9190-ca61f7022434"
      },
      "execution_count": 361,
      "outputs": [
        {
          "output_type": "stream",
          "name": "stdout",
          "text": [
            "['credit card' 'cash' nan]\n"
          ]
        }
      ]
    },
    {
      "cell_type": "code",
      "source": [
        "df.info()"
      ],
      "metadata": {
        "colab": {
          "base_uri": "https://localhost:8080/"
        },
        "id": "ArBuzKHjmjii",
        "outputId": "100a2aec-4764-485e-8818-6090c66b204e"
      },
      "execution_count": 362,
      "outputs": [
        {
          "output_type": "stream",
          "name": "stdout",
          "text": [
            "<class 'pandas.core.frame.DataFrame'>\n",
            "RangeIndex: 6433 entries, 0 to 6432\n",
            "Data columns (total 14 columns):\n",
            " #   Column           Non-Null Count  Dtype         \n",
            "---  ------           --------------  -----         \n",
            " 0   pickup           6433 non-null   datetime64[ns]\n",
            " 1   dropoff          6433 non-null   datetime64[ns]\n",
            " 2   passengers       6433 non-null   int64         \n",
            " 3   distance         6433 non-null   float64       \n",
            " 4   fare             6433 non-null   float64       \n",
            " 5   tip              6433 non-null   float64       \n",
            " 6   tolls            6433 non-null   float64       \n",
            " 7   total            6433 non-null   float64       \n",
            " 8   color            6433 non-null   object        \n",
            " 9   payment          6389 non-null   object        \n",
            " 10  pickup_zone      6407 non-null   object        \n",
            " 11  dropoff_zone     6388 non-null   object        \n",
            " 12  pickup_borough   6407 non-null   object        \n",
            " 13  dropoff_borough  6388 non-null   object        \n",
            "dtypes: datetime64[ns](2), float64(5), int64(1), object(6)\n",
            "memory usage: 703.7+ KB\n"
          ]
        }
      ]
    },
    {
      "cell_type": "code",
      "source": [
        "sns.countplot(x = 'payment', data=df);"
      ],
      "metadata": {
        "colab": {
          "base_uri": "https://localhost:8080/",
          "height": 472
        },
        "id": "jZlu7QjumyzR",
        "outputId": "e9db9f24-aa3c-40ec-f945-e6575143f5b8"
      },
      "execution_count": 363,
      "outputs": [
        {
          "output_type": "display_data",
          "data": {
            "text/plain": [
              "<Figure size 640x480 with 1 Axes>"
            ],
            "image/png": "[encoded data removed]"
          },
          "metadata": {}
        }
      ]
    },
    {
      "cell_type": "code",
      "source": [
        "#  utilisé pour compter le nombre de occurrences de chaque valeur unique dans la colonne 'payment' d'un DataFrame df\n",
        "df['payment'].value_counts(normalize= True)"
      ],
      "metadata": {
        "colab": {
          "base_uri": "https://localhost:8080/"
        },
        "id": "OAehOZpRojYf",
        "outputId": "268e383a-22c2-4ff1-9887-93a7c21626b5"
      },
      "execution_count": 364,
      "outputs": [
        {
          "output_type": "execute_result",
          "data": {
            "text/plain": [
              "credit card    0.716388\n",
              "cash           0.283612\n",
              "Name: payment, dtype: float64"
            ]
          },
          "metadata": {},
          "execution_count": 364
        }
      ]
    },
    {
      "cell_type": "code",
      "source": [
        "sns.countplot(x= 'passengers', data=df)"
      ],
      "metadata": {
        "colab": {
          "base_uri": "https://localhost:8080/",
          "height": 490
        },
        "id": "veSi1EJpo5Cn",
        "outputId": "b5881a85-485d-4afd-fe27-33ef4c3a829b"
      },
      "execution_count": 365,
      "outputs": [
        {
          "output_type": "execute_result",
          "data": {
            "text/plain": [
              "<Axes: xlabel='passengers', ylabel='count'>"
            ]
          },
          "metadata": {},
          "execution_count": 365
        },
        {
          "output_type": "display_data",
          "data": {
            "text/plain": [
              "<Figure size 640x480 with 1 Axes>"
            ],
            "image/png": "[encoded data removed]"
          },
          "metadata": {}
        }
      ]
    },
    {
      "cell_type": "code",
      "source": [
        "sns.boxplot(y = 'passengers', data=df)"
      ],
      "metadata": {
        "colab": {
          "base_uri": "https://localhost:8080/",
          "height": 424
        },
        "id": "5uqh0V_HqMF-",
        "outputId": "3e4633b4-aed6-4d73-cfce-c4e8dcba25a3"
      },
      "execution_count": 366,
      "outputs": [
        {
          "output_type": "execute_result",
          "data": {
            "text/plain": [
              "<Axes: ylabel='passengers'>"
            ]
          },
          "metadata": {},
          "execution_count": 366
        },
        {
          "output_type": "display_data",
          "data": {
            "text/plain": [
              "<Figure size 640x480 with 1 Axes>"
            ],
            "image/png": "[encoded data removed]"
          },
          "metadata": {}
        }
      ]
    },
    {
      "cell_type": "code",
      "source": [
        "\n",
        "sns.distplot(df['distance'], kde= False, bins=20 );"
      ],
      "metadata": {
        "colab": {
          "base_uri": "https://localhost:8080/",
          "height": 672
        },
        "id": "IZ0eNFCwqu7I",
        "outputId": "5c538698-fb6f-406a-8cc9-7918e8f50f2c"
      },
      "execution_count": 367,
      "outputs": [
        {
          "output_type": "stream",
          "name": "stderr",
          "text": [
            "<ipython-input-367-477d31c20d7f>:1: UserWarning: \n",
            "\n",
            "`distplot` is a deprecated function and will be removed in seaborn v0.14.0.\n",
            "\n",
            "Please adapt your code to use either `displot` (a figure-level function with\n",
            "similar flexibility) or `histplot` (an axes-level function for histograms).\n",
            "\n",
            "For a guide to updating your code to use the new functions, please see\n",
            "https://gist.github.com/mwaskom/de44147ed2974457ad6372750bbe5751\n",
            "\n",
            "  sns.distplot(df['distance'], kde= False, bins=20 );\n"
          ]
        },
        {
          "output_type": "display_data",
          "data": {
            "text/plain": [
              "<Figure size 640x480 with 1 Axes>"
            ],
            "image/png": "[encoded data removed]"
          },
          "metadata": {}
        }
      ]
    },
    {
      "cell_type": "code",
      "source": [
        "sns.countplot(x= 'color', data=df)"
      ],
      "metadata": {
        "colab": {
          "base_uri": "https://localhost:8080/",
          "height": 490
        },
        "id": "1rsP53e2MrmI",
        "outputId": "3568e638-18a3-497a-a1bc-e0e9eba8e977"
      },
      "execution_count": 368,
      "outputs": [
        {
          "output_type": "execute_result",
          "data": {
            "text/plain": [
              "<Axes: xlabel='color', ylabel='count'>"
            ]
          },
          "metadata": {},
          "execution_count": 368
        },
        {
          "output_type": "display_data",
          "data": {
            "text/plain": [
              "<Figure size 640x480 with 1 Axes>"
            ],
            "image/png": "[encoded data removed]"
          },
          "metadata": {}
        }
      ]
    },
    {
      "cell_type": "code",
      "source": [
        "\tsns.distplot(df['fare'], kde= False, bins=20 );\n"
      ],
      "metadata": {
        "colab": {
          "base_uri": "https://localhost:8080/",
          "height": 672
        },
        "id": "FxAZVY-kNXUe",
        "outputId": "5ade9d8b-e36e-45bf-929f-931eeb2d83e3"
      },
      "execution_count": 369,
      "outputs": [
        {
          "output_type": "stream",
          "name": "stderr",
          "text": [
            "<ipython-input-369-7367f9ba73a4>:1: UserWarning: \n",
            "\n",
            "`distplot` is a deprecated function and will be removed in seaborn v0.14.0.\n",
            "\n",
            "Please adapt your code to use either `displot` (a figure-level function with\n",
            "similar flexibility) or `histplot` (an axes-level function for histograms).\n",
            "\n",
            "For a guide to updating your code to use the new functions, please see\n",
            "https://gist.github.com/mwaskom/de44147ed2974457ad6372750bbe5751\n",
            "\n",
            "  sns.distplot(df['fare'], kde= False, bins=20 );\n"
          ]
        },
        {
          "output_type": "display_data",
          "data": {
            "text/plain": [
              "<Figure size 640x480 with 1 Axes>"
            ],
            "image/png": "[encoded data removed]"
          },
          "metadata": {}
        }
      ]
    },
    {
      "cell_type": "code",
      "source": [
        "\tsns.distplot(df['tip'], kde= False, bins=20 );\n"
      ],
      "metadata": {
        "colab": {
          "base_uri": "https://localhost:8080/",
          "height": 672
        },
        "id": "FL0GV5PRNvW-",
        "outputId": "0cfc0ad9-5fb4-474e-f66b-8b2474c2180b"
      },
      "execution_count": 370,
      "outputs": [
        {
          "output_type": "stream",
          "name": "stderr",
          "text": [
            "<ipython-input-370-2735dbc0f76a>:1: UserWarning: \n",
            "\n",
            "`distplot` is a deprecated function and will be removed in seaborn v0.14.0.\n",
            "\n",
            "Please adapt your code to use either `displot` (a figure-level function with\n",
            "similar flexibility) or `histplot` (an axes-level function for histograms).\n",
            "\n",
            "For a guide to updating your code to use the new functions, please see\n",
            "https://gist.github.com/mwaskom/de44147ed2974457ad6372750bbe5751\n",
            "\n",
            "  sns.distplot(df['tip'], kde= False, bins=20 );\n"
          ]
        },
        {
          "output_type": "display_data",
          "data": {
            "text/plain": [
              "<Figure size 640x480 with 1 Axes>"
            ],
            "image/png": "[encoded data removed]"
          },
          "metadata": {}
        }
      ]
    },
    {
      "cell_type": "code",
      "source": [
        "df.head()"
      ],
      "metadata": {
        "colab": {
          "base_uri": "https://localhost:8080/",
          "height": 206
        },
        "id": "-mt2g8l6OI6j",
        "outputId": "f10de5f4-a078-4532-9740-309072625623"
      },
      "execution_count": 371,
      "outputs": [
        {
          "output_type": "execute_result",
          "data": {
            "text/plain": [
              "               pickup             dropoff  passengers  distance  fare   tip  \\\n",
              "0 2019-03-23 20:21:09 2019-03-23 20:27:24           1      1.60   7.0  2.15   \n",
              "1 2019-03-04 16:11:55 2019-03-04 16:19:00           1      0.79   5.0  0.00   \n",
              "2 2019-03-27 17:53:01 2019-03-27 18:00:25           1      1.37   7.5  2.36   \n",
              "3 2019-03-10 01:23:59 2019-03-10 01:49:51           1      7.70  27.0  6.15   \n",
              "4 2019-03-30 13:27:42 2019-03-30 13:37:14           3      2.16   9.0  1.10   \n",
              "\n",
              "   tolls  total   color      payment            pickup_zone  \\\n",
              "0    0.0  12.95  yellow  credit card        Lenox Hill West   \n",
              "1    0.0   9.30  yellow         cash  Upper West Side South   \n",
              "2    0.0  14.16  yellow  credit card          Alphabet City   \n",
              "3    0.0  36.95  yellow  credit card              Hudson Sq   \n",
              "4    0.0  13.40  yellow  credit card           Midtown East   \n",
              "\n",
              "            dropoff_zone pickup_borough dropoff_borough  \n",
              "0    UN/Turtle Bay South      Manhattan       Manhattan  \n",
              "1  Upper West Side South      Manhattan       Manhattan  \n",
              "2           West Village      Manhattan       Manhattan  \n",
              "3         Yorkville West      Manhattan       Manhattan  \n",
              "4         Yorkville West      Manhattan       Manhattan  "
            ],
            "text/html": [
              "\n",
              "  <div id=\"df-662e7056-5939-41bf-9057-f6d3255a80f2\">\n",
              "    <div class=\"colab-df-container\">\n",
              "      <div>\n",
              "<style scoped>\n",
              "    .dataframe tbody tr th:only-of-type {\n",
              "        vertical-align: middle;\n",
              "    }\n",
              "\n",
              "    .dataframe tbody tr th {\n",
              "        vertical-align: top;\n",
              "    }\n",
              "\n",
              "    .dataframe thead th {\n",
              "        text-align: right;\n",
              "    }\n",
              "</style>\n",
              "<table border=\"1\" class=\"dataframe\">\n",
              "  <thead>\n",
              "    <tr style=\"text-align: right;\">\n",
              "      <th></th>\n",
              "      <th>pickup</th>\n",
              "      <th>dropoff</th>\n",
              "      <th>passengers</th>\n",
              "      <th>distance</th>\n",
              "      <th>fare</th>\n",
              "      <th>tip</th>\n",
              "      <th>tolls</th>\n",
              "      <th>total</th>\n",
              "      <th>color</th>\n",
              "      <th>payment</th>\n",
              "      <th>pickup_zone</th>\n",
              "      <th>dropoff_zone</th>\n",
              "      <th>pickup_borough</th>\n",
              "      <th>dropoff_borough</th>\n",
              "    </tr>\n",
              "  </thead>\n",
              "  <tbody>\n",
              "    <tr>\n",
              "      <th>0</th>\n",
              "      <td>2019-03-23 20:21:09</td>\n",
              "      <td>2019-03-23 20:27:24</td>\n",
              "      <td>1</td>\n",
              "      <td>1.60</td>\n",
              "      <td>7.0</td>\n",
              "      <td>2.15</td>\n",
              "      <td>0.0</td>\n",
              "      <td>12.95</td>\n",
              "      <td>yellow</td>\n",
              "      <td>credit card</td>\n",
              "      <td>Lenox Hill West</td>\n",
              "      <td>UN/Turtle Bay South</td>\n",
              "      <td>Manhattan</td>\n",
              "      <td>Manhattan</td>\n",
              "    </tr>\n",
              "    <tr>\n",
              "      <th>1</th>\n",
              "      <td>2019-03-04 16:11:55</td>\n",
              "      <td>2019-03-04 16:19:00</td>\n",
              "      <td>1</td>\n",
              "      <td>0.79</td>\n",
              "      <td>5.0</td>\n",
              "      <td>0.00</td>\n",
              "      <td>0.0</td>\n",
              "      <td>9.30</td>\n",
              "      <td>yellow</td>\n",
              "      <td>cash</td>\n",
              "      <td>Upper West Side South</td>\n",
              "      <td>Upper West Side South</td>\n",
              "      <td>Manhattan</td>\n",
              "      <td>Manhattan</td>\n",
              "    </tr>\n",
              "    <tr>\n",
              "      <th>2</th>\n",
              "      <td>2019-03-27 17:53:01</td>\n",
              "      <td>2019-03-27 18:00:25</td>\n",
              "      <td>1</td>\n",
              "      <td>1.37</td>\n",
              "      <td>7.5</td>\n",
              "      <td>2.36</td>\n",
              "      <td>0.0</td>\n",
              "      <td>14.16</td>\n",
              "      <td>yellow</td>\n",
              "      <td>credit card</td>\n",
              "      <td>Alphabet City</td>\n",
              "      <td>West Village</td>\n",
              "      <td>Manhattan</td>\n",
              "      <td>Manhattan</td>\n",
              "    </tr>\n",
              "    <tr>\n",
              "      <th>3</th>\n",
              "      <td>2019-03-10 01:23:59</td>\n",
              "      <td>2019-03-10 01:49:51</td>\n",
              "      <td>1</td>\n",
              "      <td>7.70</td>\n",
              "      <td>27.0</td>\n",
              "      <td>6.15</td>\n",
              "      <td>0.0</td>\n",
              "      <td>36.95</td>\n",
              "      <td>yellow</td>\n",
              "      <td>credit card</td>\n",
              "      <td>Hudson Sq</td>\n",
              "      <td>Yorkville West</td>\n",
              "      <td>Manhattan</td>\n",
              "      <td>Manhattan</td>\n",
              "    </tr>\n",
              "    <tr>\n",
              "      <th>4</th>\n",
              "      <td>2019-03-30 13:27:42</td>\n",
              "      <td>2019-03-30 13:37:14</td>\n",
              "      <td>3</td>\n",
              "      <td>2.16</td>\n",
              "      <td>9.0</td>\n",
              "      <td>1.10</td>\n",
              "      <td>0.0</td>\n",
              "      <td>13.40</td>\n",
              "      <td>yellow</td>\n",
              "      <td>credit card</td>\n",
              "      <td>Midtown East</td>\n",
              "      <td>Yorkville West</td>\n",
              "      <td>Manhattan</td>\n",
              "      <td>Manhattan</td>\n",
              "    </tr>\n",
              "  </tbody>\n",
              "</table>\n",
              "</div>\n",
              "      <button class=\"colab-df-convert\" onclick=\"convertToInteractive('df-662e7056-5939-41bf-9057-f6d3255a80f2')\"\n",
              "              title=\"Convert this dataframe to an interactive table.\"\n",
              "              style=\"display:none;\">\n",
              "        \n",
              "  <svg xmlns=\"http://www.w3.org/2000/svg\" height=\"24px\"viewBox=\"0 0 24 24\"\n",
              "       width=\"24px\">\n",
              "    <path d=\"M0 0h24v24H0V0z\" fill=\"none\"/>\n",
              "    <path d=\"M18.56 5.44l.94 2.06.94-2.06 2.06-.94-2.06-.94-.94-2.06-.94 2.06-2.06.94zm-11 1L8.5 8.5l.94-2.06 2.06-.94-2.06-.94L8.5 2.5l-.94 2.06-2.06.94zm10 10l.94 2.06.94-2.06 2.06-.94-2.06-.94-.94-2.06-.94 2.06-2.06.94z\"/><path d=\"M17.41 7.96l-1.37-1.37c-.4-.4-.92-.59-1.43-.59-.52 0-1.04.2-1.43.59L10.3 9.45l-7.72 7.72c-.78.78-.78 2.05 0 2.83L4 21.41c.39.39.9.59 1.41.59.51 0 1.02-.2 1.41-.59l7.78-7.78 2.81-2.81c.8-.78.8-2.07 0-2.86zM5.41 20L4 18.59l7.72-7.72 1.47 1.35L5.41 20z\"/>\n",
              "  </svg>\n",
              "      </button>\n",
              "      \n",
              "  <style>\n",
              "    .colab-df-container {\n",
              "      display:flex;\n",
              "      flex-wrap:wrap;\n",
              "      gap: 12px;\n",
              "    }\n",
              "\n",
              "    .colab-df-convert {\n",
              "      background-color: #E8F0FE;\n",
              "      border: none;\n",
              "      border-radius: 50%;\n",
              "      cursor: pointer;\n",
              "      display: none;\n",
              "      fill: #1967D2;\n",
              "      height: 32px;\n",
              "      padding: 0 0 0 0;\n",
              "      width: 32px;\n",
              "    }\n",
              "\n",
              "    .colab-df-convert:hover {\n",
              "      background-color: #E2EBFA;\n",
              "      box-shadow: 0px 1px 2px rgba(60, 64, 67, 0.3), 0px 1px 3px 1px rgba(60, 64, 67, 0.15);\n",
              "      fill: #174EA6;\n",
              "    }\n",
              "\n",
              "    [theme=dark] .colab-df-convert {\n",
              "      background-color: #3B4455;\n",
              "      fill: #D2E3FC;\n",
              "    }\n",
              "\n",
              "    [theme=dark] .colab-df-convert:hover {\n",
              "      background-color: #434B5C;\n",
              "      box-shadow: 0px 1px 3px 1px rgba(0, 0, 0, 0.15);\n",
              "      filter: drop-shadow(0px 1px 2px rgba(0, 0, 0, 0.3));\n",
              "      fill: #FFFFFF;\n",
              "    }\n",
              "  </style>\n",
              "\n",
              "      <script>\n",
              "        const buttonEl =\n",
              "          document.querySelector('#df-662e7056-5939-41bf-9057-f6d3255a80f2 button.colab-df-convert');\n",
              "        buttonEl.style.display =\n",
              "          google.colab.kernel.accessAllowed ? 'block' : 'none';\n",
              "\n",
              "        async function convertToInteractive(key) {\n",
              "          const element = document.querySelector('#df-662e7056-5939-41bf-9057-f6d3255a80f2');\n",
              "          const dataTable =\n",
              "            await google.colab.kernel.invokeFunction('convertToInteractive',\n",
              "                                                     [key], {});\n",
              "          if (!dataTable) return;\n",
              "\n",
              "          const docLinkHtml = 'Like what you see? Visit the ' +\n",
              "            '<a target=\"_blank\" href=https://colab.research.google.com/notebooks/data_table.ipynb>data table notebook</a>'\n",
              "            + ' to learn more about interactive tables.';\n",
              "          element.innerHTML = '';\n",
              "          dataTable['output_type'] = 'display_data';\n",
              "          await google.colab.output.renderOutput(dataTable, element);\n",
              "          const docLink = document.createElement('div');\n",
              "          docLink.innerHTML = docLinkHtml;\n",
              "          element.appendChild(docLink);\n",
              "        }\n",
              "      </script>\n",
              "    </div>\n",
              "  </div>\n",
              "  "
            ]
          },
          "metadata": {},
          "execution_count": 371
        }
      ]
    },
    {
      "cell_type": "code",
      "source": [
        "# Faire la matrice de corrélation\n",
        "df.corr()"
      ],
      "metadata": {
        "colab": {
          "base_uri": "https://localhost:8080/",
          "height": 294
        },
        "id": "Ya1NH43vr87r",
        "outputId": "8f0e80f7-c472-42bc-a259-5ce42b8552a3"
      },
      "execution_count": 372,
      "outputs": [
        {
          "output_type": "stream",
          "name": "stderr",
          "text": [
            "<ipython-input-372-1bd391227b03>:2: FutureWarning: The default value of numeric_only in DataFrame.corr is deprecated. In a future version, it will default to False. Select only valid columns or specify the value of numeric_only to silence this warning.\n",
            "  df.corr()\n"
          ]
        },
        {
          "output_type": "execute_result",
          "data": {
            "text/plain": [
              "            passengers  distance      fare       tip     tolls     total\n",
              "passengers    1.000000  0.009411  0.007637  0.021099 -0.002903  0.015708\n",
              "distance      0.009411  1.000000  0.920108  0.452589  0.635267  0.904676\n",
              "fare          0.007637  0.920108  1.000000  0.488612  0.609307  0.974358\n",
              "tip           0.021099  0.452589  0.488612  1.000000  0.413619  0.646186\n",
              "tolls        -0.002903  0.635267  0.609307  0.413619  1.000000  0.683142\n",
              "total         0.015708  0.904676  0.974358  0.646186  0.683142  1.000000"
            ],
            "text/html": [
              "\n",
              "  <div id=\"df-49d6a06c-151e-4f3a-875f-09ce9ff17fb8\">\n",
              "    <div class=\"colab-df-container\">\n",
              "      <div>\n",
              "<style scoped>\n",
              "    .dataframe tbody tr th:only-of-type {\n",
              "        vertical-align: middle;\n",
              "    }\n",
              "\n",
              "    .dataframe tbody tr th {\n",
              "        vertical-align: top;\n",
              "    }\n",
              "\n",
              "    .dataframe thead th {\n",
              "        text-align: right;\n",
              "    }\n",
              "</style>\n",
              "<table border=\"1\" class=\"dataframe\">\n",
              "  <thead>\n",
              "    <tr style=\"text-align: right;\">\n",
              "      <th></th>\n",
              "      <th>passengers</th>\n",
              "      <th>distance</th>\n",
              "      <th>fare</th>\n",
              "      <th>tip</th>\n",
              "      <th>tolls</th>\n",
              "      <th>total</th>\n",
              "    </tr>\n",
              "  </thead>\n",
              "  <tbody>\n",
              "    <tr>\n",
              "      <th>passengers</th>\n",
              "      <td>1.000000</td>\n",
              "      <td>0.009411</td>\n",
              "      <td>0.007637</td>\n",
              "      <td>0.021099</td>\n",
              "      <td>-0.002903</td>\n",
              "      <td>0.015708</td>\n",
              "    </tr>\n",
              "    <tr>\n",
              "      <th>distance</th>\n",
              "      <td>0.009411</td>\n",
              "      <td>1.000000</td>\n",
              "      <td>0.920108</td>\n",
              "      <td>0.452589</td>\n",
              "      <td>0.635267</td>\n",
              "      <td>0.904676</td>\n",
              "    </tr>\n",
              "    <tr>\n",
              "      <th>fare</th>\n",
              "      <td>0.007637</td>\n",
              "      <td>0.920108</td>\n",
              "      <td>1.000000</td>\n",
              "      <td>0.488612</td>\n",
              "      <td>0.609307</td>\n",
              "      <td>0.974358</td>\n",
              "    </tr>\n",
              "    <tr>\n",
              "      <th>tip</th>\n",
              "      <td>0.021099</td>\n",
              "      <td>0.452589</td>\n",
              "      <td>0.488612</td>\n",
              "      <td>1.000000</td>\n",
              "      <td>0.413619</td>\n",
              "      <td>0.646186</td>\n",
              "    </tr>\n",
              "    <tr>\n",
              "      <th>tolls</th>\n",
              "      <td>-0.002903</td>\n",
              "      <td>0.635267</td>\n",
              "      <td>0.609307</td>\n",
              "      <td>0.413619</td>\n",
              "      <td>1.000000</td>\n",
              "      <td>0.683142</td>\n",
              "    </tr>\n",
              "    <tr>\n",
              "      <th>total</th>\n",
              "      <td>0.015708</td>\n",
              "      <td>0.904676</td>\n",
              "      <td>0.974358</td>\n",
              "      <td>0.646186</td>\n",
              "      <td>0.683142</td>\n",
              "      <td>1.000000</td>\n",
              "    </tr>\n",
              "  </tbody>\n",
              "</table>\n",
              "</div>\n",
              "      <button class=\"colab-df-convert\" onclick=\"convertToInteractive('df-49d6a06c-151e-4f3a-875f-09ce9ff17fb8')\"\n",
              "              title=\"Convert this dataframe to an interactive table.\"\n",
              "              style=\"display:none;\">\n",
              "        \n",
              "  <svg xmlns=\"http://www.w3.org/2000/svg\" height=\"24px\"viewBox=\"0 0 24 24\"\n",
              "       width=\"24px\">\n",
              "    <path d=\"M0 0h24v24H0V0z\" fill=\"none\"/>\n",
              "    <path d=\"M18.56 5.44l.94 2.06.94-2.06 2.06-.94-2.06-.94-.94-2.06-.94 2.06-2.06.94zm-11 1L8.5 8.5l.94-2.06 2.06-.94-2.06-.94L8.5 2.5l-.94 2.06-2.06.94zm10 10l.94 2.06.94-2.06 2.06-.94-2.06-.94-.94-2.06-.94 2.06-2.06.94z\"/><path d=\"M17.41 7.96l-1.37-1.37c-.4-.4-.92-.59-1.43-.59-.52 0-1.04.2-1.43.59L10.3 9.45l-7.72 7.72c-.78.78-.78 2.05 0 2.83L4 21.41c.39.39.9.59 1.41.59.51 0 1.02-.2 1.41-.59l7.78-7.78 2.81-2.81c.8-.78.8-2.07 0-2.86zM5.41 20L4 18.59l7.72-7.72 1.47 1.35L5.41 20z\"/>\n",
              "  </svg>\n",
              "      </button>\n",
              "      \n",
              "  <style>\n",
              "    .colab-df-container {\n",
              "      display:flex;\n",
              "      flex-wrap:wrap;\n",
              "      gap: 12px;\n",
              "    }\n",
              "\n",
              "    .colab-df-convert {\n",
              "      background-color: #E8F0FE;\n",
              "      border: none;\n",
              "      border-radius: 50%;\n",
              "      cursor: pointer;\n",
              "      display: none;\n",
              "      fill: #1967D2;\n",
              "      height: 32px;\n",
              "      padding: 0 0 0 0;\n",
              "      width: 32px;\n",
              "    }\n",
              "\n",
              "    .colab-df-convert:hover {\n",
              "      background-color: #E2EBFA;\n",
              "      box-shadow: 0px 1px 2px rgba(60, 64, 67, 0.3), 0px 1px 3px 1px rgba(60, 64, 67, 0.15);\n",
              "      fill: #174EA6;\n",
              "    }\n",
              "\n",
              "    [theme=dark] .colab-df-convert {\n",
              "      background-color: #3B4455;\n",
              "      fill: #D2E3FC;\n",
              "    }\n",
              "\n",
              "    [theme=dark] .colab-df-convert:hover {\n",
              "      background-color: #434B5C;\n",
              "      box-shadow: 0px 1px 3px 1px rgba(0, 0, 0, 0.15);\n",
              "      filter: drop-shadow(0px 1px 2px rgba(0, 0, 0, 0.3));\n",
              "      fill: #FFFFFF;\n",
              "    }\n",
              "  </style>\n",
              "\n",
              "      <script>\n",
              "        const buttonEl =\n",
              "          document.querySelector('#df-49d6a06c-151e-4f3a-875f-09ce9ff17fb8 button.colab-df-convert');\n",
              "        buttonEl.style.display =\n",
              "          google.colab.kernel.accessAllowed ? 'block' : 'none';\n",
              "\n",
              "        async function convertToInteractive(key) {\n",
              "          const element = document.querySelector('#df-49d6a06c-151e-4f3a-875f-09ce9ff17fb8');\n",
              "          const dataTable =\n",
              "            await google.colab.kernel.invokeFunction('convertToInteractive',\n",
              "                                                     [key], {});\n",
              "          if (!dataTable) return;\n",
              "\n",
              "          const docLinkHtml = 'Like what you see? Visit the ' +\n",
              "            '<a target=\"_blank\" href=https://colab.research.google.com/notebooks/data_table.ipynb>data table notebook</a>'\n",
              "            + ' to learn more about interactive tables.';\n",
              "          element.innerHTML = '';\n",
              "          dataTable['output_type'] = 'display_data';\n",
              "          await google.colab.output.renderOutput(dataTable, element);\n",
              "          const docLink = document.createElement('div');\n",
              "          docLink.innerHTML = docLinkHtml;\n",
              "          element.appendChild(docLink);\n",
              "        }\n",
              "      </script>\n",
              "    </div>\n",
              "  </div>\n",
              "  "
            ]
          },
          "metadata": {},
          "execution_count": 372
        }
      ]
    },
    {
      "cell_type": "code",
      "source": [
        "# rendons notre matrice de corrélation plus beau\n",
        "corr_matrix = df.corr()\n",
        "fig, ax = plt.subplots(figsize=(15, 10))\n",
        "ax = sns.heatmap(corr_matrix,\n",
        "                annot=True, \n",
        "                linewidths=0.5,\n",
        "                fmt=\".2f\", \n",
        "                cmap='RdYlBu');\n",
        "\n",
        "bottom, top = ax.get_ylim()\n",
        "ax.set_ylim(bottom + 0.5 , top -0.5)\n",
        "plt.show()"
      ],
      "metadata": {
        "colab": {
          "base_uri": "https://localhost:8080/",
          "height": 908
        },
        "id": "oLC0hSr0sMJc",
        "outputId": "0da3102c-2165-4aca-f53d-31fbe434b5cd"
      },
      "execution_count": 373,
      "outputs": [
        {
          "output_type": "stream",
          "name": "stderr",
          "text": [
            "<ipython-input-373-83854f69afe5>:2: FutureWarning: The default value of numeric_only in DataFrame.corr is deprecated. In a future version, it will default to False. Select only valid columns or specify the value of numeric_only to silence this warning.\n",
            "  corr_matrix = df.corr()\n"
          ]
        },
        {
          "output_type": "display_data",
          "data": {
            "text/plain": [
              "<Figure size 1500x1000 with 2 Axes>"
            ],
            "image/png": "[encoded data removed]"
          },
          "metadata": {}
        }
      ]
    },
    {
      "cell_type": "code",
      "source": [
        "df.isna().sum()"
      ],
      "metadata": {
        "colab": {
          "base_uri": "https://localhost:8080/"
        },
        "id": "YMSAjyb6dgrg",
        "outputId": "96e6dd89-8ebc-48fa-cf8e-9cd052901547"
      },
      "execution_count": 374,
      "outputs": [
        {
          "output_type": "execute_result",
          "data": {
            "text/plain": [
              "pickup              0\n",
              "dropoff             0\n",
              "passengers          0\n",
              "distance            0\n",
              "fare                0\n",
              "tip                 0\n",
              "tolls               0\n",
              "total               0\n",
              "color               0\n",
              "payment            44\n",
              "pickup_zone        26\n",
              "dropoff_zone       45\n",
              "pickup_borough     26\n",
              "dropoff_borough    45\n",
              "dtype: int64"
            ]
          },
          "metadata": {},
          "execution_count": 374
        }
      ]
    },
    {
      "cell_type": "code",
      "source": [
        "# Convertir les colonnes 'pickup' et 'dropoff' en type 'datetime'\n",
        "df['pickup'] = pd.to_datetime(df['pickup'])\n",
        "df['dropoff'] = pd.to_datetime(df['dropoff'])\n",
        "\n",
        "# Extraire les caractéristiques temporelles des colonnes 'pickup' et 'dropoff'\n",
        "df['pickup_year'] = df['pickup'].dt.year\n",
        "df['pickup_month'] = df['pickup'].dt.month\n",
        "df['pickup_day'] = df['pickup'].dt.day\n",
        "df['pickup_hour'] = df['pickup'].dt.hour\n",
        "df['pickup_minute'] = df['pickup'].dt.minute\n",
        "\n",
        "df['dropoff_year'] = df['dropoff'].dt.year\n",
        "df['dropoff_month'] = df['dropoff'].dt.month\n",
        "df['dropoff_day'] = df['dropoff'].dt.day\n",
        "df['dropoff_hour'] = df['dropoff'].dt.hour\n",
        "df['dropoff_minute'] = df['dropoff'].dt.minute\n",
        "\n",
        "# Supprimer les colonnes 'pickup' et 'dropoff' d'origine\n",
        "df = df.drop(['pickup', 'dropoff'], axis=1)\n",
        "\n",
        "# Afficher le DataFrame modifié\n",
        "df.head()"
      ],
      "metadata": {
        "colab": {
          "base_uri": "https://localhost:8080/",
          "height": 386
        },
        "id": "8kaA0Tye5Kms",
        "outputId": "facde661-2e4f-454e-d0a0-8c84cb58477e"
      },
      "execution_count": 375,
      "outputs": [
        {
          "output_type": "execute_result",
          "data": {
            "text/plain": [
              "   passengers  distance  fare   tip  tolls  total   color      payment  \\\n",
              "0           1      1.60   7.0  2.15    0.0  12.95  yellow  credit card   \n",
              "1           1      0.79   5.0  0.00    0.0   9.30  yellow         cash   \n",
              "2           1      1.37   7.5  2.36    0.0  14.16  yellow  credit card   \n",
              "3           1      7.70  27.0  6.15    0.0  36.95  yellow  credit card   \n",
              "4           3      2.16   9.0  1.10    0.0  13.40  yellow  credit card   \n",
              "\n",
              "             pickup_zone           dropoff_zone  ... pickup_year pickup_month  \\\n",
              "0        Lenox Hill West    UN/Turtle Bay South  ...        2019            3   \n",
              "1  Upper West Side South  Upper West Side South  ...        2019            3   \n",
              "2          Alphabet City           West Village  ...        2019            3   \n",
              "3              Hudson Sq         Yorkville West  ...        2019            3   \n",
              "4           Midtown East         Yorkville West  ...        2019            3   \n",
              "\n",
              "   pickup_day  pickup_hour  pickup_minute  dropoff_year  dropoff_month  \\\n",
              "0          23           20             21          2019              3   \n",
              "1           4           16             11          2019              3   \n",
              "2          27           17             53          2019              3   \n",
              "3          10            1             23          2019              3   \n",
              "4          30           13             27          2019              3   \n",
              "\n",
              "   dropoff_day  dropoff_hour  dropoff_minute  \n",
              "0           23            20              27  \n",
              "1            4            16              19  \n",
              "2           27            18               0  \n",
              "3           10             1              49  \n",
              "4           30            13              37  \n",
              "\n",
              "[5 rows x 22 columns]"
            ],
            "text/html": [
              "\n",
              "  <div id=\"df-fa58516c-2c22-4fe9-b555-6212c1b76dc2\">\n",
              "    <div class=\"colab-df-container\">\n",
              "      <div>\n",
              "<style scoped>\n",
              "    .dataframe tbody tr th:only-of-type {\n",
              "        vertical-align: middle;\n",
              "    }\n",
              "\n",
              "    .dataframe tbody tr th {\n",
              "        vertical-align: top;\n",
              "    }\n",
              "\n",
              "    .dataframe thead th {\n",
              "        text-align: right;\n",
              "    }\n",
              "</style>\n",
              "<table border=\"1\" class=\"dataframe\">\n",
              "  <thead>\n",
              "    <tr style=\"text-align: right;\">\n",
              "      <th></th>\n",
              "      <th>passengers</th>\n",
              "      <th>distance</th>\n",
              "      <th>fare</th>\n",
              "      <th>tip</th>\n",
              "      <th>tolls</th>\n",
              "      <th>total</th>\n",
              "      <th>color</th>\n",
              "      <th>payment</th>\n",
              "      <th>pickup_zone</th>\n",
              "      <th>dropoff_zone</th>\n",
              "      <th>...</th>\n",
              "      <th>pickup_year</th>\n",
              "      <th>pickup_month</th>\n",
              "      <th>pickup_day</th>\n",
              "      <th>pickup_hour</th>\n",
              "      <th>pickup_minute</th>\n",
              "      <th>dropoff_year</th>\n",
              "      <th>dropoff_month</th>\n",
              "      <th>dropoff_day</th>\n",
              "      <th>dropoff_hour</th>\n",
              "      <th>dropoff_minute</th>\n",
              "    </tr>\n",
              "  </thead>\n",
              "  <tbody>\n",
              "    <tr>\n",
              "      <th>0</th>\n",
              "      <td>1</td>\n",
              "      <td>1.60</td>\n",
              "      <td>7.0</td>\n",
              "      <td>2.15</td>\n",
              "      <td>0.0</td>\n",
              "      <td>12.95</td>\n",
              "      <td>yellow</td>\n",
              "      <td>credit card</td>\n",
              "      <td>Lenox Hill West</td>\n",
              "      <td>UN/Turtle Bay South</td>\n",
              "      <td>...</td>\n",
              "      <td>2019</td>\n",
              "      <td>3</td>\n",
              "      <td>23</td>\n",
              "      <td>20</td>\n",
              "      <td>21</td>\n",
              "      <td>2019</td>\n",
              "      <td>3</td>\n",
              "      <td>23</td>\n",
              "      <td>20</td>\n",
              "      <td>27</td>\n",
              "    </tr>\n",
              "    <tr>\n",
              "      <th>1</th>\n",
              "      <td>1</td>\n",
              "      <td>0.79</td>\n",
              "      <td>5.0</td>\n",
              "      <td>0.00</td>\n",
              "      <td>0.0</td>\n",
              "      <td>9.30</td>\n",
              "      <td>yellow</td>\n",
              "      <td>cash</td>\n",
              "      <td>Upper West Side South</td>\n",
              "      <td>Upper West Side South</td>\n",
              "      <td>...</td>\n",
              "      <td>2019</td>\n",
              "      <td>3</td>\n",
              "      <td>4</td>\n",
              "      <td>16</td>\n",
              "      <td>11</td>\n",
              "      <td>2019</td>\n",
              "      <td>3</td>\n",
              "      <td>4</td>\n",
              "      <td>16</td>\n",
              "      <td>19</td>\n",
              "    </tr>\n",
              "    <tr>\n",
              "      <th>2</th>\n",
              "      <td>1</td>\n",
              "      <td>1.37</td>\n",
              "      <td>7.5</td>\n",
              "      <td>2.36</td>\n",
              "      <td>0.0</td>\n",
              "      <td>14.16</td>\n",
              "      <td>yellow</td>\n",
              "      <td>credit card</td>\n",
              "      <td>Alphabet City</td>\n",
              "      <td>West Village</td>\n",
              "      <td>...</td>\n",
              "      <td>2019</td>\n",
              "      <td>3</td>\n",
              "      <td>27</td>\n",
              "      <td>17</td>\n",
              "      <td>53</td>\n",
              "      <td>2019</td>\n",
              "      <td>3</td>\n",
              "      <td>27</td>\n",
              "      <td>18</td>\n",
              "      <td>0</td>\n",
              "    </tr>\n",
              "    <tr>\n",
              "      <th>3</th>\n",
              "      <td>1</td>\n",
              "      <td>7.70</td>\n",
              "      <td>27.0</td>\n",
              "      <td>6.15</td>\n",
              "      <td>0.0</td>\n",
              "      <td>36.95</td>\n",
              "      <td>yellow</td>\n",
              "      <td>credit card</td>\n",
              "      <td>Hudson Sq</td>\n",
              "      <td>Yorkville West</td>\n",
              "      <td>...</td>\n",
              "      <td>2019</td>\n",
              "      <td>3</td>\n",
              "      <td>10</td>\n",
              "      <td>1</td>\n",
              "      <td>23</td>\n",
              "      <td>2019</td>\n",
              "      <td>3</td>\n",
              "      <td>10</td>\n",
              "      <td>1</td>\n",
              "      <td>49</td>\n",
              "    </tr>\n",
              "    <tr>\n",
              "      <th>4</th>\n",
              "      <td>3</td>\n",
              "      <td>2.16</td>\n",
              "      <td>9.0</td>\n",
              "      <td>1.10</td>\n",
              "      <td>0.0</td>\n",
              "      <td>13.40</td>\n",
              "      <td>yellow</td>\n",
              "      <td>credit card</td>\n",
              "      <td>Midtown East</td>\n",
              "      <td>Yorkville West</td>\n",
              "      <td>...</td>\n",
              "      <td>2019</td>\n",
              "      <td>3</td>\n",
              "      <td>30</td>\n",
              "      <td>13</td>\n",
              "      <td>27</td>\n",
              "      <td>2019</td>\n",
              "      <td>3</td>\n",
              "      <td>30</td>\n",
              "      <td>13</td>\n",
              "      <td>37</td>\n",
              "    </tr>\n",
              "  </tbody>\n",
              "</table>\n",
              "<p>5 rows × 22 columns</p>\n",
              "</div>\n",
              "      <button class=\"colab-df-convert\" onclick=\"convertToInteractive('df-fa58516c-2c22-4fe9-b555-6212c1b76dc2')\"\n",
              "              title=\"Convert this dataframe to an interactive table.\"\n",
              "              style=\"display:none;\">\n",
              "        \n",
              "  <svg xmlns=\"http://www.w3.org/2000/svg\" height=\"24px\"viewBox=\"0 0 24 24\"\n",
              "       width=\"24px\">\n",
              "    <path d=\"M0 0h24v24H0V0z\" fill=\"none\"/>\n",
              "    <path d=\"M18.56 5.44l.94 2.06.94-2.06 2.06-.94-2.06-.94-.94-2.06-.94 2.06-2.06.94zm-11 1L8.5 8.5l.94-2.06 2.06-.94-2.06-.94L8.5 2.5l-.94 2.06-2.06.94zm10 10l.94 2.06.94-2.06 2.06-.94-2.06-.94-.94-2.06-.94 2.06-2.06.94z\"/><path d=\"M17.41 7.96l-1.37-1.37c-.4-.4-.92-.59-1.43-.59-.52 0-1.04.2-1.43.59L10.3 9.45l-7.72 7.72c-.78.78-.78 2.05 0 2.83L4 21.41c.39.39.9.59 1.41.59.51 0 1.02-.2 1.41-.59l7.78-7.78 2.81-2.81c.8-.78.8-2.07 0-2.86zM5.41 20L4 18.59l7.72-7.72 1.47 1.35L5.41 20z\"/>\n",
              "  </svg>\n",
              "      </button>\n",
              "      \n",
              "  <style>\n",
              "    .colab-df-container {\n",
              "      display:flex;\n",
              "      flex-wrap:wrap;\n",
              "      gap: 12px;\n",
              "    }\n",
              "\n",
              "    .colab-df-convert {\n",
              "      background-color: #E8F0FE;\n",
              "      border: none;\n",
              "      border-radius: 50%;\n",
              "      cursor: pointer;\n",
              "      display: none;\n",
              "      fill: #1967D2;\n",
              "      height: 32px;\n",
              "      padding: 0 0 0 0;\n",
              "      width: 32px;\n",
              "    }\n",
              "\n",
              "    .colab-df-convert:hover {\n",
              "      background-color: #E2EBFA;\n",
              "      box-shadow: 0px 1px 2px rgba(60, 64, 67, 0.3), 0px 1px 3px 1px rgba(60, 64, 67, 0.15);\n",
              "      fill: #174EA6;\n",
              "    }\n",
              "\n",
              "    [theme=dark] .colab-df-convert {\n",
              "      background-color: #3B4455;\n",
              "      fill: #D2E3FC;\n",
              "    }\n",
              "\n",
              "    [theme=dark] .colab-df-convert:hover {\n",
              "      background-color: #434B5C;\n",
              "      box-shadow: 0px 1px 3px 1px rgba(0, 0, 0, 0.15);\n",
              "      filter: drop-shadow(0px 1px 2px rgba(0, 0, 0, 0.3));\n",
              "      fill: #FFFFFF;\n",
              "    }\n",
              "  </style>\n",
              "\n",
              "      <script>\n",
              "        const buttonEl =\n",
              "          document.querySelector('#df-fa58516c-2c22-4fe9-b555-6212c1b76dc2 button.colab-df-convert');\n",
              "        buttonEl.style.display =\n",
              "          google.colab.kernel.accessAllowed ? 'block' : 'none';\n",
              "\n",
              "        async function convertToInteractive(key) {\n",
              "          const element = document.querySelector('#df-fa58516c-2c22-4fe9-b555-6212c1b76dc2');\n",
              "          const dataTable =\n",
              "            await google.colab.kernel.invokeFunction('convertToInteractive',\n",
              "                                                     [key], {});\n",
              "          if (!dataTable) return;\n",
              "\n",
              "          const docLinkHtml = 'Like what you see? Visit the ' +\n",
              "            '<a target=\"_blank\" href=https://colab.research.google.com/notebooks/data_table.ipynb>data table notebook</a>'\n",
              "            + ' to learn more about interactive tables.';\n",
              "          element.innerHTML = '';\n",
              "          dataTable['output_type'] = 'display_data';\n",
              "          await google.colab.output.renderOutput(dataTable, element);\n",
              "          const docLink = document.createElement('div');\n",
              "          docLink.innerHTML = docLinkHtml;\n",
              "          element.appendChild(docLink);\n",
              "        }\n",
              "      </script>\n",
              "    </div>\n",
              "  </div>\n",
              "  "
            ]
          },
          "metadata": {},
          "execution_count": 375
        }
      ]
    },
    {
      "cell_type": "code",
      "source": [
        "df.columns"
      ],
      "metadata": {
        "colab": {
          "base_uri": "https://localhost:8080/"
        },
        "id": "EoyuxU5CrtGR",
        "outputId": "de4144e4-881c-476b-f9e9-333dc32260d0"
      },
      "execution_count": 376,
      "outputs": [
        {
          "output_type": "execute_result",
          "data": {
            "text/plain": [
              "Index(['passengers', 'distance', 'fare', 'tip', 'tolls', 'total', 'color',\n",
              "       'payment', 'pickup_zone', 'dropoff_zone', 'pickup_borough',\n",
              "       'dropoff_borough', 'pickup_year', 'pickup_month', 'pickup_day',\n",
              "       'pickup_hour', 'pickup_minute', 'dropoff_year', 'dropoff_month',\n",
              "       'dropoff_day', 'dropoff_hour', 'dropoff_minute'],\n",
              "      dtype='object')"
            ]
          },
          "metadata": {},
          "execution_count": 376
        }
      ]
    },
    {
      "cell_type": "markdown",
      "source": [
        "**ENCODAGE ** ( consiste à convertis les données qualitatifs en valeurs numériques\n",
        "**NORMALISATION ** ( consiste a mettre sur la même échlle toutes les variables quantitatitifs)\n",
        "\n",
        "1- Sélection et Affichons des colonnes qualitatives\n",
        "\n",
        "2- Utilisons l'encodage **LabelEncoder** ou **OneHotEncoder** pour transformer les valeurs de types objects de notre dataFrame en valeurs numerique \n",
        "\n",
        "3- Normaliser avec **StandardScale**"
      ],
      "metadata": {
        "id": "HCTrxOFKt0o2"
      }
    },
    {
      "cell_type": "code",
      "source": [
        "from sklearn.preprocessing import StandardScaler, LabelEncoder, OneHotEncoder\n",
        "\n",
        "\n",
        "# Sélection des colonnes à transformer\n",
        "columns_to_transform = ['passengers', 'distance', 'fare', 'tip', 'tolls', 'total', 'color',\n",
        "                        'payment', 'pickup_zone', 'dropoff_zone', 'pickup_borough',\n",
        "                        'dropoff_borough', 'pickup_year', 'pickup_month', 'pickup_day',\n",
        "                        'pickup_hour', 'pickup_minute', 'dropoff_year', 'dropoff_month',\n",
        "                        'dropoff_day', 'dropoff_hour', 'dropoff_minute']\n",
        "\n",
        "# Instanciation des transformateurs\n",
        "scaler = StandardScaler()\n",
        "label_encoder = LabelEncoder()\n",
        "onehot_encoder = OneHotEncoder(sparse=False)\n",
        "\n",
        "# Transformation des colonnes quantitatives avec StandardScaler\n",
        "df[columns_to_transform[:6]] = scaler.fit_transform(df[columns_to_transform[:6]])\n",
        "\n",
        "# Transformation des colonnes qualitatives avec LabelEncoder\n",
        "df[columns_to_transform[6:12]] = df[columns_to_transform[6:12]].apply(label_encoder.fit_transform)"
      ],
      "metadata": {
        "id": "b3F2vjLYsYm9"
      },
      "execution_count": 377,
      "outputs": []
    },
    {
      "cell_type": "code",
      "source": [
        "df.head()"
      ],
      "metadata": {
        "colab": {
          "base_uri": "https://localhost:8080/",
          "height": 299
        },
        "id": "PXfitKivscqc",
        "outputId": "c5c53183-8b28-46b5-e80b-f440cba7b69e"
      },
      "execution_count": 378,
      "outputs": [
        {
          "output_type": "execute_result",
          "data": {
            "text/plain": [
              "   passengers  distance      fare       tip     tolls     total  color  \\\n",
              "0   -0.448004 -0.372199 -0.527324  0.069753 -0.229849 -0.403040      1   \n",
              "1   -0.448004 -0.583821 -0.700471 -0.808383 -0.229849 -0.667255      1   \n",
              "2   -0.448004 -0.432289 -0.484038  0.155524 -0.229849 -0.315451      1   \n",
              "3   -0.448004  1.221502  1.204142  1.703493 -0.229849  1.334266      1   \n",
              "4    1.213575 -0.225892 -0.354178 -0.359104 -0.229849 -0.370465      1   \n",
              "\n",
              "   payment  pickup_zone  dropoff_zone  ...  pickup_year  pickup_month  \\\n",
              "0        1           99           176  ...         2019             3   \n",
              "1        0          174           182  ...         2019             3   \n",
              "2        1            1           190  ...         2019             3   \n",
              "3        1           86           202  ...         2019             3   \n",
              "4        1          116           202  ...         2019             3   \n",
              "\n",
              "   pickup_day  pickup_hour  pickup_minute  dropoff_year  dropoff_month  \\\n",
              "0          23           20             21          2019              3   \n",
              "1           4           16             11          2019              3   \n",
              "2          27           17             53          2019              3   \n",
              "3          10            1             23          2019              3   \n",
              "4          30           13             27          2019              3   \n",
              "\n",
              "   dropoff_day  dropoff_hour  dropoff_minute  \n",
              "0           23            20              27  \n",
              "1            4            16              19  \n",
              "2           27            18               0  \n",
              "3           10             1              49  \n",
              "4           30            13              37  \n",
              "\n",
              "[5 rows x 22 columns]"
            ],
            "text/html": [
              "\n",
              "  <div id=\"df-435b9bb0-a470-45bf-829e-5b7e00692820\">\n",
              "    <div class=\"colab-df-container\">\n",
              "      <div>\n",
              "<style scoped>\n",
              "    .dataframe tbody tr th:only-of-type {\n",
              "        vertical-align: middle;\n",
              "    }\n",
              "\n",
              "    .dataframe tbody tr th {\n",
              "        vertical-align: top;\n",
              "    }\n",
              "\n",
              "    .dataframe thead th {\n",
              "        text-align: right;\n",
              "    }\n",
              "</style>\n",
              "<table border=\"1\" class=\"dataframe\">\n",
              "  <thead>\n",
              "    <tr style=\"text-align: right;\">\n",
              "      <th></th>\n",
              "      <th>passengers</th>\n",
              "      <th>distance</th>\n",
              "      <th>fare</th>\n",
              "      <th>tip</th>\n",
              "      <th>tolls</th>\n",
              "      <th>total</th>\n",
              "      <th>color</th>\n",
              "      <th>payment</th>\n",
              "      <th>pickup_zone</th>\n",
              "      <th>dropoff_zone</th>\n",
              "      <th>...</th>\n",
              "      <th>pickup_year</th>\n",
              "      <th>pickup_month</th>\n",
              "      <th>pickup_day</th>\n",
              "      <th>pickup_hour</th>\n",
              "      <th>pickup_minute</th>\n",
              "      <th>dropoff_year</th>\n",
              "      <th>dropoff_month</th>\n",
              "      <th>dropoff_day</th>\n",
              "      <th>dropoff_hour</th>\n",
              "      <th>dropoff_minute</th>\n",
              "    </tr>\n",
              "  </thead>\n",
              "  <tbody>\n",
              "    <tr>\n",
              "      <th>0</th>\n",
              "      <td>-0.448004</td>\n",
              "      <td>-0.372199</td>\n",
              "      <td>-0.527324</td>\n",
              "      <td>0.069753</td>\n",
              "      <td>-0.229849</td>\n",
              "      <td>-0.403040</td>\n",
              "      <td>1</td>\n",
              "      <td>1</td>\n",
              "      <td>99</td>\n",
              "      <td>176</td>\n",
              "      <td>...</td>\n",
              "      <td>2019</td>\n",
              "      <td>3</td>\n",
              "      <td>23</td>\n",
              "      <td>20</td>\n",
              "      <td>21</td>\n",
              "      <td>2019</td>\n",
              "      <td>3</td>\n",
              "      <td>23</td>\n",
              "      <td>20</td>\n",
              "      <td>27</td>\n",
              "    </tr>\n",
              "    <tr>\n",
              "      <th>1</th>\n",
              "      <td>-0.448004</td>\n",
              "      <td>-0.583821</td>\n",
              "      <td>-0.700471</td>\n",
              "      <td>-0.808383</td>\n",
              "      <td>-0.229849</td>\n",
              "      <td>-0.667255</td>\n",
              "      <td>1</td>\n",
              "      <td>0</td>\n",
              "      <td>174</td>\n",
              "      <td>182</td>\n",
              "      <td>...</td>\n",
              "      <td>2019</td>\n",
              "      <td>3</td>\n",
              "      <td>4</td>\n",
              "      <td>16</td>\n",
              "      <td>11</td>\n",
              "      <td>2019</td>\n",
              "      <td>3</td>\n",
              "      <td>4</td>\n",
              "      <td>16</td>\n",
              "      <td>19</td>\n",
              "    </tr>\n",
              "    <tr>\n",
              "      <th>2</th>\n",
              "      <td>-0.448004</td>\n",
              "      <td>-0.432289</td>\n",
              "      <td>-0.484038</td>\n",
              "      <td>0.155524</td>\n",
              "      <td>-0.229849</td>\n",
              "      <td>-0.315451</td>\n",
              "      <td>1</td>\n",
              "      <td>1</td>\n",
              "      <td>1</td>\n",
              "      <td>190</td>\n",
              "      <td>...</td>\n",
              "      <td>2019</td>\n",
              "      <td>3</td>\n",
              "      <td>27</td>\n",
              "      <td>17</td>\n",
              "      <td>53</td>\n",
              "      <td>2019</td>\n",
              "      <td>3</td>\n",
              "      <td>27</td>\n",
              "      <td>18</td>\n",
              "      <td>0</td>\n",
              "    </tr>\n",
              "    <tr>\n",
              "      <th>3</th>\n",
              "      <td>-0.448004</td>\n",
              "      <td>1.221502</td>\n",
              "      <td>1.204142</td>\n",
              "      <td>1.703493</td>\n",
              "      <td>-0.229849</td>\n",
              "      <td>1.334266</td>\n",
              "      <td>1</td>\n",
              "      <td>1</td>\n",
              "      <td>86</td>\n",
              "      <td>202</td>\n",
              "      <td>...</td>\n",
              "      <td>2019</td>\n",
              "      <td>3</td>\n",
              "      <td>10</td>\n",
              "      <td>1</td>\n",
              "      <td>23</td>\n",
              "      <td>2019</td>\n",
              "      <td>3</td>\n",
              "      <td>10</td>\n",
              "      <td>1</td>\n",
              "      <td>49</td>\n",
              "    </tr>\n",
              "    <tr>\n",
              "      <th>4</th>\n",
              "      <td>1.213575</td>\n",
              "      <td>-0.225892</td>\n",
              "      <td>-0.354178</td>\n",
              "      <td>-0.359104</td>\n",
              "      <td>-0.229849</td>\n",
              "      <td>-0.370465</td>\n",
              "      <td>1</td>\n",
              "      <td>1</td>\n",
              "      <td>116</td>\n",
              "      <td>202</td>\n",
              "      <td>...</td>\n",
              "      <td>2019</td>\n",
              "      <td>3</td>\n",
              "      <td>30</td>\n",
              "      <td>13</td>\n",
              "      <td>27</td>\n",
              "      <td>2019</td>\n",
              "      <td>3</td>\n",
              "      <td>30</td>\n",
              "      <td>13</td>\n",
              "      <td>37</td>\n",
              "    </tr>\n",
              "  </tbody>\n",
              "</table>\n",
              "<p>5 rows × 22 columns</p>\n",
              "</div>\n",
              "      <button class=\"colab-df-convert\" onclick=\"convertToInteractive('df-435b9bb0-a470-45bf-829e-5b7e00692820')\"\n",
              "              title=\"Convert this dataframe to an interactive table.\"\n",
              "              style=\"display:none;\">\n",
              "        \n",
              "  <svg xmlns=\"http://www.w3.org/2000/svg\" height=\"24px\"viewBox=\"0 0 24 24\"\n",
              "       width=\"24px\">\n",
              "    <path d=\"M0 0h24v24H0V0z\" fill=\"none\"/>\n",
              "    <path d=\"M18.56 5.44l.94 2.06.94-2.06 2.06-.94-2.06-.94-.94-2.06-.94 2.06-2.06.94zm-11 1L8.5 8.5l.94-2.06 2.06-.94-2.06-.94L8.5 2.5l-.94 2.06-2.06.94zm10 10l.94 2.06.94-2.06 2.06-.94-2.06-.94-.94-2.06-.94 2.06-2.06.94z\"/><path d=\"M17.41 7.96l-1.37-1.37c-.4-.4-.92-.59-1.43-.59-.52 0-1.04.2-1.43.59L10.3 9.45l-7.72 7.72c-.78.78-.78 2.05 0 2.83L4 21.41c.39.39.9.59 1.41.59.51 0 1.02-.2 1.41-.59l7.78-7.78 2.81-2.81c.8-.78.8-2.07 0-2.86zM5.41 20L4 18.59l7.72-7.72 1.47 1.35L5.41 20z\"/>\n",
              "  </svg>\n",
              "      </button>\n",
              "      \n",
              "  <style>\n",
              "    .colab-df-container {\n",
              "      display:flex;\n",
              "      flex-wrap:wrap;\n",
              "      gap: 12px;\n",
              "    }\n",
              "\n",
              "    .colab-df-convert {\n",
              "      background-color: #E8F0FE;\n",
              "      border: none;\n",
              "      border-radius: 50%;\n",
              "      cursor: pointer;\n",
              "      display: none;\n",
              "      fill: #1967D2;\n",
              "      height: 32px;\n",
              "      padding: 0 0 0 0;\n",
              "      width: 32px;\n",
              "    }\n",
              "\n",
              "    .colab-df-convert:hover {\n",
              "      background-color: #E2EBFA;\n",
              "      box-shadow: 0px 1px 2px rgba(60, 64, 67, 0.3), 0px 1px 3px 1px rgba(60, 64, 67, 0.15);\n",
              "      fill: #174EA6;\n",
              "    }\n",
              "\n",
              "    [theme=dark] .colab-df-convert {\n",
              "      background-color: #3B4455;\n",
              "      fill: #D2E3FC;\n",
              "    }\n",
              "\n",
              "    [theme=dark] .colab-df-convert:hover {\n",
              "      background-color: #434B5C;\n",
              "      box-shadow: 0px 1px 3px 1px rgba(0, 0, 0, 0.15);\n",
              "      filter: drop-shadow(0px 1px 2px rgba(0, 0, 0, 0.3));\n",
              "      fill: #FFFFFF;\n",
              "    }\n",
              "  </style>\n",
              "\n",
              "      <script>\n",
              "        const buttonEl =\n",
              "          document.querySelector('#df-435b9bb0-a470-45bf-829e-5b7e00692820 button.colab-df-convert');\n",
              "        buttonEl.style.display =\n",
              "          google.colab.kernel.accessAllowed ? 'block' : 'none';\n",
              "\n",
              "        async function convertToInteractive(key) {\n",
              "          const element = document.querySelector('#df-435b9bb0-a470-45bf-829e-5b7e00692820');\n",
              "          const dataTable =\n",
              "            await google.colab.kernel.invokeFunction('convertToInteractive',\n",
              "                                                     [key], {});\n",
              "          if (!dataTable) return;\n",
              "\n",
              "          const docLinkHtml = 'Like what you see? Visit the ' +\n",
              "            '<a target=\"_blank\" href=https://colab.research.google.com/notebooks/data_table.ipynb>data table notebook</a>'\n",
              "            + ' to learn more about interactive tables.';\n",
              "          element.innerHTML = '';\n",
              "          dataTable['output_type'] = 'display_data';\n",
              "          await google.colab.output.renderOutput(dataTable, element);\n",
              "          const docLink = document.createElement('div');\n",
              "          docLink.innerHTML = docLinkHtml;\n",
              "          element.appendChild(docLink);\n",
              "        }\n",
              "      </script>\n",
              "    </div>\n",
              "  </div>\n",
              "  "
            ]
          },
          "metadata": {},
          "execution_count": 378
        }
      ]
    },
    {
      "cell_type": "code",
      "source": [
        "df.dtypes"
      ],
      "metadata": {
        "colab": {
          "base_uri": "https://localhost:8080/"
        },
        "id": "swF8_Ywd6E6S",
        "outputId": "38e75dcf-3369-47c6-832f-5f25a4428c45"
      },
      "execution_count": 379,
      "outputs": [
        {
          "output_type": "execute_result",
          "data": {
            "text/plain": [
              "passengers         float64\n",
              "distance           float64\n",
              "fare               float64\n",
              "tip                float64\n",
              "tolls              float64\n",
              "total              float64\n",
              "color                int64\n",
              "payment              int64\n",
              "pickup_zone          int64\n",
              "dropoff_zone         int64\n",
              "pickup_borough       int64\n",
              "dropoff_borough      int64\n",
              "pickup_year          int64\n",
              "pickup_month         int64\n",
              "pickup_day           int64\n",
              "pickup_hour          int64\n",
              "pickup_minute        int64\n",
              "dropoff_year         int64\n",
              "dropoff_month        int64\n",
              "dropoff_day          int64\n",
              "dropoff_hour         int64\n",
              "dropoff_minute       int64\n",
              "dtype: object"
            ]
          },
          "metadata": {},
          "execution_count": 379
        }
      ]
    },
    {
      "cell_type": "markdown",
      "source": [
        "**IMPUTATION** (consiste à remplacer les données manquantes par des valeurs statistiques)\n",
        "\n",
        "1- detecter les valeur manquantes par colonne\n",
        "\n",
        "2- utiliser l'imputation pour remplacer les valeurs manquantes *SimpleImputer, LabelEncoder *"
      ],
      "metadata": {
        "id": "mbf6v9y6FPSy"
      }
    },
    {
      "cell_type": "code",
      "source": [
        "#Calcul de la somme des valeurs manquantes par colonne\n",
        "somme_valeurs_manquantes = df.isnull().sum().sum()\n",
        "\n",
        "# Affichage de la somme des valeurs manquantes\n",
        "print(f\"La somme des valeurs manquantes dans le DataFrame est de : {somme_valeurs_manquantes}\")"
      ],
      "metadata": {
        "colab": {
          "base_uri": "https://localhost:8080/"
        },
        "id": "GCwOpMmMFT9R",
        "outputId": "e8dac3f8-3d34-4639-9692-d535684623d1"
      },
      "execution_count": 380,
      "outputs": [
        {
          "output_type": "stream",
          "name": "stdout",
          "text": [
            "La somme des valeurs manquantes dans le DataFrame est de : 0\n"
          ]
        }
      ]
    },
    {
      "cell_type": "code",
      "source": [
        "# afficher les colonnes des valeurs manquantes \n",
        "missing_columns = df.columns[df.isnull().any()]\n",
        "print(missing_columns)"
      ],
      "metadata": {
        "colab": {
          "base_uri": "https://localhost:8080/"
        },
        "id": "gioj8D3sFmqK",
        "outputId": "6c98e5cc-b205-4715-f880-6a4f3ef8cd85"
      },
      "execution_count": 381,
      "outputs": [
        {
          "output_type": "stream",
          "name": "stdout",
          "text": [
            "Index([], dtype='object')\n"
          ]
        }
      ]
    },
    {
      "cell_type": "code",
      "source": [
        "from sklearn.impute import SimpleImputer\n",
        "from sklearn.preprocessing import LabelEncoder\n",
        "\n",
        "# Liste des colonnes à traiter\n",
        "columns = ['payment', 'pickup_zone', 'dropoff_zone', 'pickup_borough', 'dropoff_borough']\n",
        "\n",
        "# Supprimer les valeurs manquantes avec SimpleImputer\n",
        "imputer = SimpleImputer(strategy='most_frequent')\n",
        "df[columns] = imputer.fit_transform(df[columns])\n",
        "\n",
        "# Convertir en valeurs numériques avec LabelEncoder\n",
        "label_encoder = LabelEncoder()\n",
        "df[columns] = df[columns].apply(label_encoder.fit_transform)"
      ],
      "metadata": {
        "id": "g1GkvkryN30m"
      },
      "execution_count": 382,
      "outputs": []
    },
    {
      "cell_type": "code",
      "source": [
        "df.isna().sum()"
      ],
      "metadata": {
        "colab": {
          "base_uri": "https://localhost:8080/"
        },
        "id": "2ka3dYN8MlnI",
        "outputId": "44e88265-9781-4cf4-d39b-726261820033"
      },
      "execution_count": 383,
      "outputs": [
        {
          "output_type": "execute_result",
          "data": {
            "text/plain": [
              "passengers         0\n",
              "distance           0\n",
              "fare               0\n",
              "tip                0\n",
              "tolls              0\n",
              "total              0\n",
              "color              0\n",
              "payment            0\n",
              "pickup_zone        0\n",
              "dropoff_zone       0\n",
              "pickup_borough     0\n",
              "dropoff_borough    0\n",
              "pickup_year        0\n",
              "pickup_month       0\n",
              "pickup_day         0\n",
              "pickup_hour        0\n",
              "pickup_minute      0\n",
              "dropoff_year       0\n",
              "dropoff_month      0\n",
              "dropoff_day        0\n",
              "dropoff_hour       0\n",
              "dropoff_minute     0\n",
              "dtype: int64"
            ]
          },
          "metadata": {},
          "execution_count": 383
        }
      ]
    },
    {
      "cell_type": "code",
      "source": [
        "df['payment'].unique()"
      ],
      "metadata": {
        "colab": {
          "base_uri": "https://localhost:8080/"
        },
        "id": "ziMatABGPYiv",
        "outputId": "15cb29f4-5879-4650-c6f8-444dd7727f93"
      },
      "execution_count": 384,
      "outputs": [
        {
          "output_type": "execute_result",
          "data": {
            "text/plain": [
              "array([1, 0, 2])"
            ]
          },
          "metadata": {},
          "execution_count": 384
        }
      ]
    },
    {
      "cell_type": "code",
      "source": [
        "# Séparation des variables d'entrée (X) et de la variable cible (y)\n",
        "X = df.drop('payment', axis=1)  \n",
        "y = df['payment']"
      ],
      "metadata": {
        "id": "O028Z5S3pBPm"
      },
      "execution_count": 385,
      "outputs": []
    },
    {
      "cell_type": "code",
      "source": [
        "df.shape"
      ],
      "metadata": {
        "colab": {
          "base_uri": "https://localhost:8080/"
        },
        "id": "evnxAaqlphzd",
        "outputId": "804de4f6-6f12-40e6-94d1-7f100eac0063"
      },
      "execution_count": 386,
      "outputs": [
        {
          "output_type": "execute_result",
          "data": {
            "text/plain": [
              "(6433, 22)"
            ]
          },
          "metadata": {},
          "execution_count": 386
        }
      ]
    },
    {
      "cell_type": "code",
      "source": [
        "X.shape"
      ],
      "metadata": {
        "colab": {
          "base_uri": "https://localhost:8080/"
        },
        "id": "dklgG6O_NvX1",
        "outputId": "598ec24a-80dc-49d6-b985-c7f9c01f6bb5"
      },
      "execution_count": 387,
      "outputs": [
        {
          "output_type": "execute_result",
          "data": {
            "text/plain": [
              "(6433, 21)"
            ]
          },
          "metadata": {},
          "execution_count": 387
        }
      ]
    },
    {
      "cell_type": "code",
      "source": [
        "y.shape"
      ],
      "metadata": {
        "colab": {
          "base_uri": "https://localhost:8080/"
        },
        "id": "_muovWMCpnFR",
        "outputId": "afe51b2a-a6ed-48a7-f2a5-c58f0ae95085"
      },
      "execution_count": 388,
      "outputs": [
        {
          "output_type": "execute_result",
          "data": {
            "text/plain": [
              "(6433,)"
            ]
          },
          "metadata": {},
          "execution_count": 388
        }
      ]
    },
    {
      "cell_type": "markdown",
      "source": [],
      "metadata": {
        "id": "K94HlJSpCSE5"
      }
    },
    {
      "cell_type": "code",
      "source": [
        "from sklearn.model_selection import train_test_split\n",
        "X_train , X_test , y_train , y_test = train_test_split(X,y , test_size = 0.2 , random_state = 42)"
      ],
      "metadata": {
        "id": "Amk5_fdYCuoA"
      },
      "execution_count": 389,
      "outputs": []
    },
    {
      "cell_type": "code",
      "source": [
        "X_train.shape, X_test.shape, y_train.shape, y_test.shape"
      ],
      "metadata": {
        "colab": {
          "base_uri": "https://localhost:8080/"
        },
        "id": "C5pKDJB0vHgO",
        "outputId": "9fa1429d-af8c-4f86-ffdc-d41748f931fe"
      },
      "execution_count": 390,
      "outputs": [
        {
          "output_type": "execute_result",
          "data": {
            "text/plain": [
              "((5146, 21), (1287, 21), (5146,), (1287,))"
            ]
          },
          "metadata": {},
          "execution_count": 390
        }
      ]
    },
    {
      "cell_type": "code",
      "source": [
        "X_train.dtypes, X_test.dtypes, y_train.dtypes, y_test.dtypes"
      ],
      "metadata": {
        "colab": {
          "base_uri": "https://localhost:8080/"
        },
        "id": "NK7vpFvL0WUW",
        "outputId": "eff54695-3c9a-4fa1-a73d-4c4c5aacd3c1"
      },
      "execution_count": 391,
      "outputs": [
        {
          "output_type": "execute_result",
          "data": {
            "text/plain": [
              "(passengers         float64\n",
              " distance           float64\n",
              " fare               float64\n",
              " tip                float64\n",
              " tolls              float64\n",
              " total              float64\n",
              " color                int64\n",
              " pickup_zone          int64\n",
              " dropoff_zone         int64\n",
              " pickup_borough       int64\n",
              " dropoff_borough      int64\n",
              " pickup_year          int64\n",
              " pickup_month         int64\n",
              " pickup_day           int64\n",
              " pickup_hour          int64\n",
              " pickup_minute        int64\n",
              " dropoff_year         int64\n",
              " dropoff_month        int64\n",
              " dropoff_day          int64\n",
              " dropoff_hour         int64\n",
              " dropoff_minute       int64\n",
              " dtype: object,\n",
              " passengers         float64\n",
              " distance           float64\n",
              " fare               float64\n",
              " tip                float64\n",
              " tolls              float64\n",
              " total              float64\n",
              " color                int64\n",
              " pickup_zone          int64\n",
              " dropoff_zone         int64\n",
              " pickup_borough       int64\n",
              " dropoff_borough      int64\n",
              " pickup_year          int64\n",
              " pickup_month         int64\n",
              " pickup_day           int64\n",
              " pickup_hour          int64\n",
              " pickup_minute        int64\n",
              " dropoff_year         int64\n",
              " dropoff_month        int64\n",
              " dropoff_day          int64\n",
              " dropoff_hour         int64\n",
              " dropoff_minute       int64\n",
              " dtype: object,\n",
              " dtype('int64'),\n",
              " dtype('int64'))"
            ]
          },
          "metadata": {},
          "execution_count": 391
        }
      ]
    },
    {
      "cell_type": "markdown",
      "source": [
        "# Maintenant, nos données sont divisées en ensemble d'entrainement et de test, Il est temps de créer le modèle d'apprentissage automatique.\n",
        "\n",
        "# Nous allons l'entraîner (trouver les modèles) sur l'ensemble d'entraînement.\n",
        "\n",
        "# Nous allons le tester (trouver les modèles) sur l'ensemble de test.\n",
        "\n",
        "\n",
        "# Nous allons essayer trois modèle d'apprentissage automatique différents:\n",
        "  \n",
        "  1. une régression Logistique\n",
        "  2. K-Nearesr Neighours Classifier\n",
        "  3. Random Forest Classifier \n"
      ],
      "metadata": {
        "id": "mS7SYW1Ou8sF"
      }
    },
    {
      "cell_type": "code",
      "source": [
        "# Importer les Modèles Scikit-learn\n",
        "from sklearn.linear_model import LogisticRegression\n",
        "from sklearn.neighbors import KNeighborsClassifier\n",
        "from sklearn.ensemble import RandomForestClassifier\n",
        "\n",
        "# Mettons le modèle dans un dictionnaire\n",
        "\n",
        "models = { \"une régression Logistique\": LogisticRegression(),\n",
        "            \"K-Nearesr Neighours Classifier\" : KNeighborsClassifier(),\n",
        "            \"Random Forest Classifier\": RandomForestClassifier() }\n",
        "  \n",
        " \n",
        "\n",
        "# Créons une fonction pour ajuster et marquer des modèles.\n",
        "def fit_and_score(models, X_train, X_test, y_train, y_test):\n",
        "    \"\"\"\n",
        "    s'adapte et évalue des modèles d'apprentissage automatique donnés.\n",
        "    models : les modèles differents scikit-learn apprennent des modèles \n",
        "    d'apprentissage automatique.  \n",
        "\n",
        "    x_train : training data (no labels)\n",
        "    x_test :  testing data (no labels)\n",
        "    y_train : training labels \n",
        "    y_test : test labels\n",
        "    \"\"\"\n",
        "\n",
        "    # Définir un ensemble de graine aléatoire \n",
        "    np.random.seed(42)\n",
        "\n",
        "   # faire un dictionnaire pour garder les scores des modèles.\n",
        "    model_scores = {}\n",
        "\n",
        "   # Parcourir les modèles \n",
        "    for name, model in models.items():\n",
        "       # ajuster le modèle aux données\n",
        "       model.fit(X_train, y_train)\n",
        "       # Evaluation  le modèle ajuster son score aux model_scores\n",
        "       model_scores[name] = model.score(X_test, y_test)\n",
        "    return model_scores"
      ],
      "metadata": {
        "id": "zmc5VAcou1hI"
      },
      "execution_count": 392,
      "outputs": []
    },
    {
      "cell_type": "code",
      "source": [
        "model_scores = fit_and_score(models=models,\n",
        "                             X_train=X_train,\n",
        "                             X_test=X_test,\n",
        "                             y_train=y_train,\n",
        "                             y_test=y_test)\n",
        "\n",
        "model_scores"
      ],
      "metadata": {
        "colab": {
          "base_uri": "https://localhost:8080/"
        },
        "id": "Mpvir5hywEUM",
        "outputId": "cf6b32bf-6936-44c6-f3e4-10ca9257e79d"
      },
      "execution_count": 393,
      "outputs": [
        {
          "output_type": "stream",
          "name": "stderr",
          "text": [
            "/usr/local/lib/python3.10/dist-packages/sklearn/linear_model/_logistic.py:458: ConvergenceWarning: lbfgs failed to converge (status=1):\n",
            "STOP: TOTAL NO. of ITERATIONS REACHED LIMIT.\n",
            "\n",
            "Increase the number of iterations (max_iter) or scale the data as shown in:\n",
            "    https://scikit-learn.org/stable/modules/preprocessing.html\n",
            "Please also refer to the documentation for alternative solver options:\n",
            "    https://scikit-learn.org/stable/modules/linear_model.html#logistic-regression\n",
            "  n_iter_i = _check_optimize_result(\n"
          ]
        },
        {
          "output_type": "execute_result",
          "data": {
            "text/plain": [
              "{'une régression Logistique': 0.8430458430458431,\n",
              " 'K-Nearesr Neighours Classifier': 0.6534576534576535,\n",
              " 'Random Forest Classifier': 0.9494949494949495}"
            ]
          },
          "metadata": {},
          "execution_count": 393
        }
      ]
    },
    {
      "cell_type": "markdown",
      "source": [
        "**Model de comparaison**"
      ],
      "metadata": {
        "id": "liy6RVmTdyyG"
      }
    },
    {
      "cell_type": "code",
      "source": [
        "model_compare = pd.DataFrame(model_scores, index=[\"accuracy(Précision)\"])\n",
        "model_compare.T.plot.bar();"
      ],
      "metadata": {
        "colab": {
          "base_uri": "https://localhost:8080/",
          "height": 765
        },
        "id": "VSOXwGEBduae",
        "outputId": "515f8254-87f8-4018-8ec7-2b063b5dc320"
      },
      "execution_count": 394,
      "outputs": [
        {
          "output_type": "display_data",
          "data": {
            "text/plain": [
              "<Figure size 640x480 with 1 Axes>"
            ],
            "image/png": "[encoded data removed]"
          },
          "metadata": {}
        }
      ]
    },
    {
      "cell_type": "markdown",
      "source": [
        "* Remarque: nous pour vons constactez que notre **modèle Random Forest Classifier** est toujours le meilleur modèle par défaut : **0.9494949494949495**"
      ],
      "metadata": {
        "id": "gV_jrku6gJfJ"
      }
    },
    {
      "cell_type": "markdown",
      "source": [],
      "metadata": {
        "id": "JERTYtKXgA62"
      }
    },
    {
      "cell_type": "markdown",
      "source": [
        "# Les premiers prédictions d'un modèle ne sont pas toujours celles sur lesquelles nous devons baser nos prochaines étapes, que devons-nous faire.\n",
        "\n",
        "\n",
        "# Regardons ce qui suit car nous faisons partie de cette phase expérimentale:\n",
        " \n",
        " * Hypyterparameter tuning\n",
        " * Feature importance\n",
        " * Confusion matrix \n",
        " * Cross-validation  \n",
        " * Précision \n",
        " * Reccall\n",
        " * F1 score\n",
        " * classification report \n",
        " * ROC cuvre \n",
        " * Aera under the curve (AUC) \n",
        "  "
      ],
      "metadata": {
        "id": "-HalsbUjfMFz"
      }
    },
    {
      "cell_type": "code",
      "source": [
        "# Modèle d'Evaluation \n",
        "from sklearn.model_selection import RandomizedSearchCV, GridSearchCV\n",
        "from sklearn.metrics import confusion_matrix, ConfusionMatrixDisplay, classification_report\n",
        "from sklearn.metrics import precision_score, recall_score, f1_score\n"
      ],
      "metadata": {
        "id": "4C3ohFj0fjDH"
      },
      "execution_count": 395,
      "outputs": []
    },
    {
      "cell_type": "markdown",
      "source": [
        "1. Passer manuellement\n",
        "2. RandomizedSearchCv\n",
        "3. GridSearchCV"
      ],
      "metadata": {
        "id": "GkpbmSVXgapn"
      }
    },
    {
      "cell_type": "markdown",
      "source": [
        "# Hyperparameter tuning with GridSearchCV\n",
        "\n",
        "  * Puisque notre modèle Random Forest Classifier fournit le meilleur score jusqu'à présent, nous essaierons de les améliorer à nouveua en utilisant GridSearchCV"
      ],
      "metadata": {
        "id": "AElqmRHWglaf"
      }
    },
    {
      "cell_type": "code",
      "source": [
        "# Créer le modèle RandomForestClassifier\n",
        "model = RandomForestClassifier()\n",
        "\n",
        "# Définir les hyperparamètres à rechercher\n",
        "param_grid = {\n",
        "    'n_estimators': [100, 200, 300],\n",
        "    'max_depth': [None, 5, 10],\n",
        "    'min_samples_split': [2, 4, 6]\n",
        "}\n",
        "\n",
        "# Créer l'objet GridSearchCV\n",
        "grid_search = GridSearchCV(model, param_grid, cv=5)\n",
        "\n",
        "# Exécuter la recherche des meilleurs paramètres\n",
        "grid_search.fit(X_train, y_train)\n",
        "\n",
        "\n",
        "\n"
      ],
      "metadata": {
        "colab": {
          "base_uri": "https://localhost:8080/",
          "height": 117
        },
        "id": "MguaUU13gz7e",
        "outputId": "9cdbd06f-1230-4fdc-c70d-b79c5584f322"
      },
      "execution_count": 396,
      "outputs": [
        {
          "output_type": "execute_result",
          "data": {
            "text/plain": [
              "GridSearchCV(cv=5, estimator=RandomForestClassifier(),\n",
              "             param_grid={'max_depth': [None, 5, 10],\n",
              "                         'min_samples_split': [2, 4, 6],\n",
              "                         'n_estimators': [100, 200, 300]})"
            ],
            "text/html": [
              "<style>#sk-container-id-8 {color: black;background-color: white;}#sk-container-id-8 pre{padding: 0;}#sk-container-id-8 div.sk-toggleable {background-color: white;}#sk-container-id-8 label.sk-toggleable__label {cursor: pointer;display: block;width: 100%;margin-bottom: 0;padding: 0.3em;box-sizing: border-box;text-align: center;}#sk-container-id-8 label.sk-toggleable__label-arrow:before {content: \"▸\";float: left;margin-right: 0.25em;color: #696969;}#sk-container-id-8 label.sk-toggleable__label-arrow:hover:before {color: black;}#sk-container-id-8 div.sk-estimator:hover label.sk-toggleable__label-arrow:before {color: black;}#sk-container-id-8 div.sk-toggleable__content {max-height: 0;max-width: 0;overflow: hidden;text-align: left;background-color: #f0f8ff;}#sk-container-id-8 div.sk-toggleable__content pre {margin: 0.2em;color: black;border-radius: 0.25em;background-color: #f0f8ff;}#sk-container-id-8 input.sk-toggleable__control:checked~div.sk-toggleable__content {max-height: 200px;max-width: 100%;overflow: auto;}#sk-container-id-8 input.sk-toggleable__control:checked~label.sk-toggleable__label-arrow:before {content: \"▾\";}#sk-container-id-8 div.sk-estimator input.sk-toggleable__control:checked~label.sk-toggleable__label {background-color: #d4ebff;}#sk-container-id-8 div.sk-label input.sk-toggleable__control:checked~label.sk-toggleable__label {background-color: #d4ebff;}#sk-container-id-8 input.sk-hidden--visually {border: 0;clip: rect(1px 1px 1px 1px);clip: rect(1px, 1px, 1px, 1px);height: 1px;margin: -1px;overflow: hidden;padding: 0;position: absolute;width: 1px;}#sk-container-id-8 div.sk-estimator {font-family: monospace;background-color: #f0f8ff;border: 1px dotted black;border-radius: 0.25em;box-sizing: border-box;margin-bottom: 0.5em;}#sk-container-id-8 div.sk-estimator:hover {background-color: #d4ebff;}#sk-container-id-8 div.sk-parallel-item::after {content: \"\";width: 100%;border-bottom: 1px solid gray;flex-grow: 1;}#sk-container-id-8 div.sk-label:hover label.sk-toggleable__label {background-color: #d4ebff;}#sk-container-id-8 div.sk-serial::before {content: \"\";position: absolute;border-left: 1px solid gray;box-sizing: border-box;top: 0;bottom: 0;left: 50%;z-index: 0;}#sk-container-id-8 div.sk-serial {display: flex;flex-direction: column;align-items: center;background-color: white;padding-right: 0.2em;padding-left: 0.2em;position: relative;}#sk-container-id-8 div.sk-item {position: relative;z-index: 1;}#sk-container-id-8 div.sk-parallel {display: flex;align-items: stretch;justify-content: center;background-color: white;position: relative;}#sk-container-id-8 div.sk-item::before, #sk-container-id-8 div.sk-parallel-item::before {content: \"\";position: absolute;border-left: 1px solid gray;box-sizing: border-box;top: 0;bottom: 0;left: 50%;z-index: -1;}#sk-container-id-8 div.sk-parallel-item {display: flex;flex-direction: column;z-index: 1;position: relative;background-color: white;}#sk-container-id-8 div.sk-parallel-item:first-child::after {align-self: flex-end;width: 50%;}#sk-container-id-8 div.sk-parallel-item:last-child::after {align-self: flex-start;width: 50%;}#sk-container-id-8 div.sk-parallel-item:only-child::after {width: 0;}#sk-container-id-8 div.sk-dashed-wrapped {border: 1px dashed gray;margin: 0 0.4em 0.5em 0.4em;box-sizing: border-box;padding-bottom: 0.4em;background-color: white;}#sk-container-id-8 div.sk-label label {font-family: monospace;font-weight: bold;display: inline-block;line-height: 1.2em;}#sk-container-id-8 div.sk-label-container {text-align: center;}#sk-container-id-8 div.sk-container {/* jupyter's `normalize.less` sets `[hidden] { display: none; }` but bootstrap.min.css set `[hidden] { display: none !important; }` so we also need the `!important` here to be able to override the default hidden behavior on the sphinx rendered scikit-learn.org. See: https://github.com/scikit-learn/scikit-learn/issues/21755 */display: inline-block !important;position: relative;}#sk-container-id-8 div.sk-text-repr-fallback {display: none;}</style><div id=\"sk-container-id-8\" class=\"sk-top-container\"><div class=\"sk-text-repr-fallback\"><pre>GridSearchCV(cv=5, estimator=RandomForestClassifier(),\n",
              "             param_grid={&#x27;max_depth&#x27;: [None, 5, 10],\n",
              "                         &#x27;min_samples_split&#x27;: [2, 4, 6],\n",
              "                         &#x27;n_estimators&#x27;: [100, 200, 300]})</pre><b>In a Jupyter environment, please rerun this cell to show the HTML representation or trust the notebook. <br />On GitHub, the HTML representation is unable to render, please try loading this page with nbviewer.org.</b></div><div class=\"sk-container\" hidden><div class=\"sk-item sk-dashed-wrapped\"><div class=\"sk-label-container\"><div class=\"sk-label sk-toggleable\"><input class=\"sk-toggleable__control sk-hidden--visually\" id=\"sk-estimator-id-18\" type=\"checkbox\" ><label for=\"sk-estimator-id-18\" class=\"sk-toggleable__label sk-toggleable__label-arrow\">GridSearchCV</label><div class=\"sk-toggleable__content\"><pre>GridSearchCV(cv=5, estimator=RandomForestClassifier(),\n",
              "             param_grid={&#x27;max_depth&#x27;: [None, 5, 10],\n",
              "                         &#x27;min_samples_split&#x27;: [2, 4, 6],\n",
              "                         &#x27;n_estimators&#x27;: [100, 200, 300]})</pre></div></div></div><div class=\"sk-parallel\"><div class=\"sk-parallel-item\"><div class=\"sk-item\"><div class=\"sk-label-container\"><div class=\"sk-label sk-toggleable\"><input class=\"sk-toggleable__control sk-hidden--visually\" id=\"sk-estimator-id-19\" type=\"checkbox\" ><label for=\"sk-estimator-id-19\" class=\"sk-toggleable__label sk-toggleable__label-arrow\">estimator: RandomForestClassifier</label><div class=\"sk-toggleable__content\"><pre>RandomForestClassifier()</pre></div></div></div><div class=\"sk-serial\"><div class=\"sk-item\"><div class=\"sk-estimator sk-toggleable\"><input class=\"sk-toggleable__control sk-hidden--visually\" id=\"sk-estimator-id-20\" type=\"checkbox\" ><label for=\"sk-estimator-id-20\" class=\"sk-toggleable__label sk-toggleable__label-arrow\">RandomForestClassifier</label><div class=\"sk-toggleable__content\"><pre>RandomForestClassifier()</pre></div></div></div></div></div></div></div></div></div></div>"
            ]
          },
          "metadata": {},
          "execution_count": 396
        }
      ]
    },
    {
      "cell_type": "code",
      "source": [
        "# Afficher les meilleurs paramètres et le meilleur score\n",
        "print(\"Meilleurs paramètres trouvés:\")\n",
        "print(grid_search.best_params_)\n",
        "print(\"Meilleur score:\")\n",
        "print(grid_search.best_score_)"
      ],
      "metadata": {
        "colab": {
          "base_uri": "https://localhost:8080/"
        },
        "id": "bzUYLBPkjGps",
        "outputId": "0507ba9a-38b4-430b-baf1-356828053eb7"
      },
      "execution_count": 397,
      "outputs": [
        {
          "output_type": "stream",
          "name": "stdout",
          "text": [
            "Meilleurs paramètres trouvés:\n",
            "{'max_depth': 10, 'min_samples_split': 6, 'n_estimators': 300}\n",
            "Meilleur score:\n",
            "0.9463651202505968\n"
          ]
        }
      ]
    },
    {
      "cell_type": "code",
      "source": [
        "# Evaluons la grille de recherche du modèle RandomForestClassifier sur les données de test\n",
        "grid_search.score(X_test, y_test)"
      ],
      "metadata": {
        "colab": {
          "base_uri": "https://localhost:8080/"
        },
        "id": "-1Gikmz4jZob",
        "outputId": "462f628b-4f12-4236-d099-6b8111128ca5"
      },
      "execution_count": 398,
      "outputs": [
        {
          "output_type": "execute_result",
          "data": {
            "text/plain": [
              "0.9471639471639471"
            ]
          },
          "metadata": {},
          "execution_count": 398
        }
      ]
    },
    {
      "cell_type": "markdown",
      "source": [
        "## Evaluer notre classificateur d'apprentissage automatique  d'optimisé, au-delà de la précision.\n",
        "\n",
        "Ici nous sommes dans** un modèle modèle de Random Forest Classifier** **texte en gras**.\n",
        "Si vous utilisez un modèle de Random Forest Classifier pour une classification multiclasse, il n'est pas possible de calculer directement la courbe ROC et le score AUC car ces métriques sont généralement utilisées pour les problèmes de classification binaire. Cependant, vous pouvez toujours calculer les autres métriques telles que la matrice de confusion, le rapport de classification, la précision, le rappel et le F1-score. Voici un exemple de code pour effectuer ces métriques :\n",
        "  * Confusion matrix\n",
        "  * Classification report \n",
        "  * Precision\n",
        "  * Recall\n",
        "  F1-score\n",
        "\n",
        "  \n",
        "\n",
        "  * Faire des comparaison et évaluer notre modèle formé, tout d'abord nous dévons faire des précisions"
      ],
      "metadata": {
        "id": "fm17A-SNj5Tb"
      }
    },
    {
      "cell_type": "code",
      "source": [
        "from sklearn.metrics import confusion_matrix, classification_report, precision_score, recall_score, f1_score"
      ],
      "metadata": {
        "id": "dWqAe5ms0uml"
      },
      "execution_count": 399,
      "outputs": []
    },
    {
      "cell_type": "code",
      "source": [
        "# Faire des prédiction avec un modèle ajusté\n",
        "y_preds = grid_search.predict(X_test)\n",
        "y_preds"
      ],
      "metadata": {
        "colab": {
          "base_uri": "https://localhost:8080/"
        },
        "id": "kz-PUQM5kL4N",
        "outputId": "db52ea9c-8163-4c1d-d014-34afbe13a588"
      },
      "execution_count": 400,
      "outputs": [
        {
          "output_type": "execute_result",
          "data": {
            "text/plain": [
              "array([1, 0, 0, ..., 1, 0, 0])"
            ]
          },
          "metadata": {},
          "execution_count": 400
        }
      ]
    },
    {
      "cell_type": "code",
      "source": [
        "# Obtenir les prédictions des probabilités pour la classe positive\n",
        "y_probs = grid_search.predict_proba(X_test)[:, 1]\n",
        "y_probs"
      ],
      "metadata": {
        "colab": {
          "base_uri": "https://localhost:8080/"
        },
        "id": "IXm41Iev116C",
        "outputId": "cd0c3ac7-ad90-479c-ab76-fb3937960490"
      },
      "execution_count": 401,
      "outputs": [
        {
          "output_type": "execute_result",
          "data": {
            "text/plain": [
              "array([0.978955  , 0.22323198, 0.14833542, ..., 0.97618324, 0.11807489,\n",
              "       0.1333926 ])"
            ]
          },
          "metadata": {},
          "execution_count": 401
        }
      ]
    },
    {
      "cell_type": "code",
      "source": [
        "# Afficher la Matrix de Confusion \n",
        "print(confusion_matrix(y_test, y_preds))"
      ],
      "metadata": {
        "colab": {
          "base_uri": "https://localhost:8080/"
        },
        "id": "igCiH4exqTG4",
        "outputId": "3128955e-36e5-445a-e200-def2fe9960bc"
      },
      "execution_count": 402,
      "outputs": [
        {
          "output_type": "stream",
          "name": "stdout",
          "text": [
            "[[368   6   0]\n",
            " [ 51 851   0]\n",
            " [ 11   0   0]]\n"
          ]
        }
      ]
    },
    {
      "cell_type": "code",
      "source": [
        "# Afficher le rapport de classification\n",
        "classification_rep = classification_report(y_test, y_preds)\n",
        "print('Classification Report:')\n",
        "print(classification_rep)"
      ],
      "metadata": {
        "colab": {
          "base_uri": "https://localhost:8080/"
        },
        "id": "H75iQFXH4TKm",
        "outputId": "9fbd8c7f-d068-48b1-a360-7881abd737f3"
      },
      "execution_count": 403,
      "outputs": [
        {
          "output_type": "stream",
          "name": "stdout",
          "text": [
            "Classification Report:\n",
            "              precision    recall  f1-score   support\n",
            "\n",
            "           0       0.86      0.98      0.92       374\n",
            "           1       0.99      0.94      0.97       902\n",
            "           2       0.00      0.00      0.00        11\n",
            "\n",
            "    accuracy                           0.95      1287\n",
            "   macro avg       0.62      0.64      0.63      1287\n",
            "weighted avg       0.94      0.95      0.94      1287\n",
            "\n"
          ]
        },
        {
          "output_type": "stream",
          "name": "stderr",
          "text": [
            "/usr/local/lib/python3.10/dist-packages/sklearn/metrics/_classification.py:1344: UndefinedMetricWarning: Precision and F-score are ill-defined and being set to 0.0 in labels with no predicted samples. Use `zero_division` parameter to control this behavior.\n",
            "  _warn_prf(average, modifier, msg_start, len(result))\n",
            "/usr/local/lib/python3.10/dist-packages/sklearn/metrics/_classification.py:1344: UndefinedMetricWarning: Precision and F-score are ill-defined and being set to 0.0 in labels with no predicted samples. Use `zero_division` parameter to control this behavior.\n",
            "  _warn_prf(average, modifier, msg_start, len(result))\n",
            "/usr/local/lib/python3.10/dist-packages/sklearn/metrics/_classification.py:1344: UndefinedMetricWarning: Precision and F-score are ill-defined and being set to 0.0 in labels with no predicted samples. Use `zero_division` parameter to control this behavior.\n",
            "  _warn_prf(average, modifier, msg_start, len(result))\n"
          ]
        }
      ]
    },
    {
      "cell_type": "code",
      "source": [
        "# Calculer la précision, le rappel et le F1-score\n",
        "precision = precision_score(y_test, y_preds, average='weighted')\n",
        "recall = recall_score(y_test, y_preds, average='weighted')\n",
        "f1 = f1_score(y_test, y_preds, average='weighted')\n",
        "\n",
        "print('Precision:', precision)\n",
        "print('Recall:', recall)\n",
        "print('F1-score:', f1)\n"
      ],
      "metadata": {
        "colab": {
          "base_uri": "https://localhost:8080/"
        },
        "id": "quUt4P6x4mrF",
        "outputId": "73b18e18-2e93-4b96-9ab5-c2adfe0c729f"
      },
      "execution_count": 404,
      "outputs": [
        {
          "output_type": "stream",
          "name": "stdout",
          "text": [
            "Precision: 0.9446459721024861\n",
            "Recall: 0.9471639471639471\n",
            "F1-score: 0.9441639873788399\n"
          ]
        },
        {
          "output_type": "stream",
          "name": "stderr",
          "text": [
            "/usr/local/lib/python3.10/dist-packages/sklearn/metrics/_classification.py:1344: UndefinedMetricWarning: Precision is ill-defined and being set to 0.0 in labels with no predicted samples. Use `zero_division` parameter to control this behavior.\n",
            "  _warn_prf(average, modifier, msg_start, len(result))\n"
          ]
        }
      ]
    },
    {
      "cell_type": "markdown",
      "source": [
        "## Calculer une Matrice de valorisation a l'aide de la vailidation croisée (croos-validation)\n",
        "\n",
        "\n",
        " * Pour calculer accuracy, la pécision, recall et f1-score de notre modèle en utilisant croos-validation et pour ce nous allons utiliser \"cross_val_score()\""
      ],
      "metadata": {
        "id": "ZCyCIiYu6gsV"
      }
    },
    {
      "cell_type": "code",
      "source": [
        "# Importer le package \n",
        "from sklearn.model_selection import cross_val_score\n",
        "from sklearn.metrics import make_scorer, recall_score\n",
        "from sklearn.metrics import make_scorer, precision_score\n",
        "from sklearn.metrics import make_scorer, f1_score"
      ],
      "metadata": {
        "id": "Y-iafMOA8bwX"
      },
      "execution_count": 405,
      "outputs": []
    },
    {
      "cell_type": "code",
      "source": [
        "# Vérifions le meilleur hyperparametre\n",
        "grid_search.best_params_"
      ],
      "metadata": {
        "colab": {
          "base_uri": "https://localhost:8080/"
        },
        "id": "GTPWJbPs6mQs",
        "outputId": "04e85613-8567-4eb5-fa20-5f5d56b0e9f8"
      },
      "execution_count": 406,
      "outputs": [
        {
          "output_type": "execute_result",
          "data": {
            "text/plain": [
              "{'max_depth': 10, 'min_samples_split': 6, 'n_estimators': 300}"
            ]
          },
          "metadata": {},
          "execution_count": 406
        }
      ]
    },
    {
      "cell_type": "code",
      "source": [
        "# Créer un nouveau classificateur avec les meilleurs parametres\n",
        "rfc = RandomForestClassifier(max_depth=10, min_samples_split=6, n_estimators=300)"
      ],
      "metadata": {
        "id": "-GTXu_oQ6y1I"
      },
      "execution_count": 407,
      "outputs": []
    },
    {
      "cell_type": "code",
      "source": [
        "# Effectuer la validation croisée pour calculer la précision\n",
        "scores = cross_val_score(rfc, X, y, cv=5, scoring='accuracy')\n",
        "\n",
        "# Afficher les scores de précision pour chaque fold\n",
        "print(\"Scores de précision pour chaque fold :\", scores)\n",
        "\n",
        "# Calculer la précision moyenne\n",
        "accuracy_mean = scores.mean()\n",
        "print(\"Précision moyenne :\", accuracy_mean)"
      ],
      "metadata": {
        "colab": {
          "base_uri": "https://localhost:8080/"
        },
        "id": "BQ8sIfX471ft",
        "outputId": "7fdcfe8b-9985-4e83-fc17-41f9044cb9c2"
      },
      "execution_count": 408,
      "outputs": [
        {
          "output_type": "stream",
          "name": "stdout",
          "text": [
            "Scores de précision pour chaque fold : [0.96891997 0.96270396 0.96581197 0.95878694 0.77293935]\n",
            "Précision moyenne : 0.9258324360968218\n"
          ]
        }
      ]
    },
    {
      "cell_type": "code",
      "source": [
        "# Effectuer la validation croisée pour calculer la précision\n",
        "scoring = make_scorer(precision_score, average='weighted')\n",
        "scores = cross_val_score(rfc, X, y, cv=5, scoring=scoring)\n",
        "\n",
        "# Afficher les scores de précision pour chaque fold\n",
        "print(\"Scores de précision pour chaque fold :\", scores)\n",
        "\n",
        "# Calculer la précision moyenne\n",
        "precision_mean = scores.mean()\n",
        "print(\"Précision moyenne :\", precision_mean)"
      ],
      "metadata": {
        "colab": {
          "base_uri": "https://localhost:8080/"
        },
        "id": "DorVV7rB9Po1",
        "outputId": "cc445ded-c079-4f67-d322-de64ec8e3e13"
      },
      "execution_count": 409,
      "outputs": [
        {
          "output_type": "stream",
          "name": "stderr",
          "text": [
            "/usr/local/lib/python3.10/dist-packages/sklearn/metrics/_classification.py:1344: UndefinedMetricWarning: Precision is ill-defined and being set to 0.0 in labels with no predicted samples. Use `zero_division` parameter to control this behavior.\n",
            "  _warn_prf(average, modifier, msg_start, len(result))\n",
            "/usr/local/lib/python3.10/dist-packages/sklearn/metrics/_classification.py:1344: UndefinedMetricWarning: Precision is ill-defined and being set to 0.0 in labels with no predicted samples. Use `zero_division` parameter to control this behavior.\n",
            "  _warn_prf(average, modifier, msg_start, len(result))\n",
            "/usr/local/lib/python3.10/dist-packages/sklearn/metrics/_classification.py:1344: UndefinedMetricWarning: Precision is ill-defined and being set to 0.0 in labels with no predicted samples. Use `zero_division` parameter to control this behavior.\n",
            "  _warn_prf(average, modifier, msg_start, len(result))\n",
            "/usr/local/lib/python3.10/dist-packages/sklearn/metrics/_classification.py:1344: UndefinedMetricWarning: Precision is ill-defined and being set to 0.0 in labels with no predicted samples. Use `zero_division` parameter to control this behavior.\n",
            "  _warn_prf(average, modifier, msg_start, len(result))\n"
          ]
        },
        {
          "output_type": "stream",
          "name": "stdout",
          "text": [
            "Scores de précision pour chaque fold : [0.96372489 0.95668412 0.96159575 0.95584542 0.86755827]\n",
            "Précision moyenne : 0.9410816913063795\n"
          ]
        },
        {
          "output_type": "stream",
          "name": "stderr",
          "text": [
            "/usr/local/lib/python3.10/dist-packages/sklearn/metrics/_classification.py:1344: UndefinedMetricWarning: Precision is ill-defined and being set to 0.0 in labels with no predicted samples. Use `zero_division` parameter to control this behavior.\n",
            "  _warn_prf(average, modifier, msg_start, len(result))\n"
          ]
        }
      ]
    },
    {
      "cell_type": "code",
      "source": [
        "# Effectuer la validation croisée pour calculer le recall\n",
        "scoring = make_scorer(recall_score, average='weighted')\n",
        "scores = cross_val_score(rfc, X, y, cv=5, scoring=scoring)\n",
        "\n",
        "# Afficher les scores de recall pour chaque fold\n",
        "print(\"Scores de recall pour chaque fold :\", scores)\n",
        "\n",
        "# Calculer le recall moyen\n",
        "recall_mean = scores.mean()\n",
        "print(\"Recall moyen :\", recall_mean)"
      ],
      "metadata": {
        "colab": {
          "base_uri": "https://localhost:8080/"
        },
        "id": "bZKHpyMf86fX",
        "outputId": "dc33fc3b-8f4d-4d75-9956-8a580b4833ed"
      },
      "execution_count": 410,
      "outputs": [
        {
          "output_type": "stream",
          "name": "stdout",
          "text": [
            "Scores de recall pour chaque fold : [0.96969697 0.96192696 0.96503497 0.95800933 0.77138414]\n",
            "Recall moyen : 0.9252104729554185\n"
          ]
        }
      ]
    },
    {
      "cell_type": "code",
      "source": [
        "# Effectuer la validation croisée pour calculer le F1-score\n",
        "scoring = make_scorer(f1_score, average='weighted')\n",
        "scores = cross_val_score(rfc, X, y, cv=5, scoring=scoring)\n",
        "\n",
        "# Afficher les scores de F1-score pour chaque fold\n",
        "print(\"Scores de F1-score pour chaque fold :\", scores)\n",
        "\n",
        "# Calculer le F1-score moyen\n",
        "f1_score_mean = scores.mean()\n",
        "print(\"F1-score moyen :\", f1_score_mean)"
      ],
      "metadata": {
        "colab": {
          "base_uri": "https://localhost:8080/"
        },
        "id": "Pa6NQvko-E69",
        "outputId": "90250404-4806-48c8-ca9c-5153410ace47"
      },
      "execution_count": 411,
      "outputs": [
        {
          "output_type": "stream",
          "name": "stdout",
          "text": [
            "Scores de F1-score pour chaque fold : [0.96437002 0.95582632 0.96293402 0.95642556 0.77599815]\n",
            "F1-score moyen : 0.9231108120585209\n"
          ]
        }
      ]
    },
    {
      "cell_type": "code",
      "source": [
        "# Visualisé nos métriques Cross-validated\n",
        "cv_metrics = pd.DataFrame({\"accuracy\": accuracy_mean,\n",
        "                           \"precison\": precision_mean,\n",
        "                          \"recall\": recall_mean,\n",
        "                           \"f1\": f1_score_mean },\n",
        "                           index=[0])\n",
        "\n",
        "cv_metrics.T.plot.bar(title=\"Cross_validated classification metrics\",\n",
        "                      legend=False)"
      ],
      "metadata": {
        "colab": {
          "base_uri": "https://localhost:8080/",
          "height": 568
        },
        "id": "zEQ43UQV-RG3",
        "outputId": "851d2dff-43e5-4594-9f9e-640cec33eebd"
      },
      "execution_count": 412,
      "outputs": [
        {
          "output_type": "execute_result",
          "data": {
            "text/plain": [
              "<Axes: title={'center': 'Cross_validated classification metrics'}>"
            ]
          },
          "metadata": {},
          "execution_count": 412
        },
        {
          "output_type": "display_data",
          "data": {
            "text/plain": [
              "<Figure size 640x480 with 1 Axes>"
            ],
            "image/png": "[encoded data removed]"
          },
          "metadata": {}
        }
      ]
    },
    {
      "cell_type": "markdown",
      "source": [
        "### Fonctionnalité Importante\n",
        " \n",
        " * l'importance des caratéristiques est une fçon de demander, \"qu'elle caratéristiques ont le plus contibué aux résultats du modèle and comment ont-ils contribué?\"\n",
        "\n",
        "\n",
        " * Trouver l'importance des caractéristiques estcdifferent pour chaque machine learning. Une façon de trouver l'importance des caractéristique est de rechercher (NOM DU MODEL), importance de la caractéristique.\n",
        "\n",
        "\n",
        " * Trouvons la fonctionnalité importante pour notre modèle de randomForêtclassifier."
      ],
      "metadata": {
        "id": "6JFkEXJ3_KhS"
      }
    },
    {
      "cell_type": "code",
      "source": [
        "# Créer un nouveau classificateur avec les meilleurs parametres\n",
        "rfc = RandomForestClassifier(max_depth=10, min_samples_split=6, n_estimators=300)\n",
        "\n",
        "rfc.fit(X_train, y_train)"
      ],
      "metadata": {
        "colab": {
          "base_uri": "https://localhost:8080/",
          "height": 74
        },
        "id": "sJPhgJds_Sa9",
        "outputId": "6b8f95a6-6e62-406c-8483-d88571751c25"
      },
      "execution_count": 413,
      "outputs": [
        {
          "output_type": "execute_result",
          "data": {
            "text/plain": [
              "RandomForestClassifier(max_depth=10, min_samples_split=6, n_estimators=300)"
            ],
            "text/html": [
              "<style>#sk-container-id-9 {color: black;background-color: white;}#sk-container-id-9 pre{padding: 0;}#sk-container-id-9 div.sk-toggleable {background-color: white;}#sk-container-id-9 label.sk-toggleable__label {cursor: pointer;display: block;width: 100%;margin-bottom: 0;padding: 0.3em;box-sizing: border-box;text-align: center;}#sk-container-id-9 label.sk-toggleable__label-arrow:before {content: \"▸\";float: left;margin-right: 0.25em;color: #696969;}#sk-container-id-9 label.sk-toggleable__label-arrow:hover:before {color: black;}#sk-container-id-9 div.sk-estimator:hover label.sk-toggleable__label-arrow:before {color: black;}#sk-container-id-9 div.sk-toggleable__content {max-height: 0;max-width: 0;overflow: hidden;text-align: left;background-color: #f0f8ff;}#sk-container-id-9 div.sk-toggleable__content pre {margin: 0.2em;color: black;border-radius: 0.25em;background-color: #f0f8ff;}#sk-container-id-9 input.sk-toggleable__control:checked~div.sk-toggleable__content {max-height: 200px;max-width: 100%;overflow: auto;}#sk-container-id-9 input.sk-toggleable__control:checked~label.sk-toggleable__label-arrow:before {content: \"▾\";}#sk-container-id-9 div.sk-estimator input.sk-toggleable__control:checked~label.sk-toggleable__label {background-color: #d4ebff;}#sk-container-id-9 div.sk-label input.sk-toggleable__control:checked~label.sk-toggleable__label {background-color: #d4ebff;}#sk-container-id-9 input.sk-hidden--visually {border: 0;clip: rect(1px 1px 1px 1px);clip: rect(1px, 1px, 1px, 1px);height: 1px;margin: -1px;overflow: hidden;padding: 0;position: absolute;width: 1px;}#sk-container-id-9 div.sk-estimator {font-family: monospace;background-color: #f0f8ff;border: 1px dotted black;border-radius: 0.25em;box-sizing: border-box;margin-bottom: 0.5em;}#sk-container-id-9 div.sk-estimator:hover {background-color: #d4ebff;}#sk-container-id-9 div.sk-parallel-item::after {content: \"\";width: 100%;border-bottom: 1px solid gray;flex-grow: 1;}#sk-container-id-9 div.sk-label:hover label.sk-toggleable__label {background-color: #d4ebff;}#sk-container-id-9 div.sk-serial::before {content: \"\";position: absolute;border-left: 1px solid gray;box-sizing: border-box;top: 0;bottom: 0;left: 50%;z-index: 0;}#sk-container-id-9 div.sk-serial {display: flex;flex-direction: column;align-items: center;background-color: white;padding-right: 0.2em;padding-left: 0.2em;position: relative;}#sk-container-id-9 div.sk-item {position: relative;z-index: 1;}#sk-container-id-9 div.sk-parallel {display: flex;align-items: stretch;justify-content: center;background-color: white;position: relative;}#sk-container-id-9 div.sk-item::before, #sk-container-id-9 div.sk-parallel-item::before {content: \"\";position: absolute;border-left: 1px solid gray;box-sizing: border-box;top: 0;bottom: 0;left: 50%;z-index: -1;}#sk-container-id-9 div.sk-parallel-item {display: flex;flex-direction: column;z-index: 1;position: relative;background-color: white;}#sk-container-id-9 div.sk-parallel-item:first-child::after {align-self: flex-end;width: 50%;}#sk-container-id-9 div.sk-parallel-item:last-child::after {align-self: flex-start;width: 50%;}#sk-container-id-9 div.sk-parallel-item:only-child::after {width: 0;}#sk-container-id-9 div.sk-dashed-wrapped {border: 1px dashed gray;margin: 0 0.4em 0.5em 0.4em;box-sizing: border-box;padding-bottom: 0.4em;background-color: white;}#sk-container-id-9 div.sk-label label {font-family: monospace;font-weight: bold;display: inline-block;line-height: 1.2em;}#sk-container-id-9 div.sk-label-container {text-align: center;}#sk-container-id-9 div.sk-container {/* jupyter's `normalize.less` sets `[hidden] { display: none; }` but bootstrap.min.css set `[hidden] { display: none !important; }` so we also need the `!important` here to be able to override the default hidden behavior on the sphinx rendered scikit-learn.org. See: https://github.com/scikit-learn/scikit-learn/issues/21755 */display: inline-block !important;position: relative;}#sk-container-id-9 div.sk-text-repr-fallback {display: none;}</style><div id=\"sk-container-id-9\" class=\"sk-top-container\"><div class=\"sk-text-repr-fallback\"><pre>RandomForestClassifier(max_depth=10, min_samples_split=6, n_estimators=300)</pre><b>In a Jupyter environment, please rerun this cell to show the HTML representation or trust the notebook. <br />On GitHub, the HTML representation is unable to render, please try loading this page with nbviewer.org.</b></div><div class=\"sk-container\" hidden><div class=\"sk-item\"><div class=\"sk-estimator sk-toggleable\"><input class=\"sk-toggleable__control sk-hidden--visually\" id=\"sk-estimator-id-21\" type=\"checkbox\" checked><label for=\"sk-estimator-id-21\" class=\"sk-toggleable__label sk-toggleable__label-arrow\">RandomForestClassifier</label><div class=\"sk-toggleable__content\"><pre>RandomForestClassifier(max_depth=10, min_samples_split=6, n_estimators=300)</pre></div></div></div></div></div>"
            ]
          },
          "metadata": {},
          "execution_count": 413
        }
      ]
    },
    {
      "cell_type": "code",
      "source": [
        "# Obtenir l'importance des caractéristiques\n",
        "feature_importances = rfc.feature_importances_"
      ],
      "metadata": {
        "id": "NC_5xYho_mz3"
      },
      "execution_count": 414,
      "outputs": []
    },
    {
      "cell_type": "code",
      "source": [
        "# Afficher l'importance des caractéristiques\n",
        "for feature, importance in zip(X_train.columns, feature_importances):\n",
        "    print(f\"Feature: {feature}, Importance: {importance}\")"
      ],
      "metadata": {
        "colab": {
          "base_uri": "https://localhost:8080/"
        },
        "id": "kfhHUY6zAOhk",
        "outputId": "6ec6bdb4-9f59-42e0-d435-9c905a9971ff"
      },
      "execution_count": 415,
      "outputs": [
        {
          "output_type": "stream",
          "name": "stdout",
          "text": [
            "Feature: passengers, Importance: 0.004909627397483271\n",
            "Feature: distance, Importance: 0.03509214579787979\n",
            "Feature: fare, Importance: 0.03839510606612508\n",
            "Feature: tip, Importance: 0.6815585261554241\n",
            "Feature: tolls, Importance: 0.0027614444344399715\n",
            "Feature: total, Importance: 0.09146935365339395\n",
            "Feature: color, Importance: 0.014919828103587125\n",
            "Feature: pickup_zone, Importance: 0.016863729005098554\n",
            "Feature: dropoff_zone, Importance: 0.014570552015917098\n",
            "Feature: pickup_borough, Importance: 0.02042795956816491\n",
            "Feature: dropoff_borough, Importance: 0.01204270614981661\n",
            "Feature: pickup_year, Importance: 0.0\n",
            "Feature: pickup_month, Importance: 2.137877750065012e-05\n",
            "Feature: pickup_day, Importance: 0.008864218401632545\n",
            "Feature: pickup_hour, Importance: 0.01205271735299986\n",
            "Feature: pickup_minute, Importance: 0.01206972338976929\n",
            "Feature: dropoff_year, Importance: 0.0\n",
            "Feature: dropoff_month, Importance: 7.032585616740005e-05\n",
            "Feature: dropoff_day, Importance: 0.00932795612075722\n",
            "Feature: dropoff_hour, Importance: 0.012662193464964838\n",
            "Feature: dropoff_minute, Importance: 0.01192050828887754\n"
          ]
        }
      ]
    },
    {
      "cell_type": "code",
      "source": [
        "# Obtenez les noms des caractéristiques\n",
        "feature_names = X_train.columns\n",
        "\n",
        "# Triez les indices des caractéristiques par ordre décroissant d'importance\n",
        "indices = np.argsort(feature_importances)[::-1]\n",
        "\n",
        "# Obtenez les noms des caractéristiques triées par ordre décroissant d'importance\n",
        "sorted_feature_names = [feature_names[i] for i in indices]\n",
        "\n",
        "# Obtenez les importances des caractéristiques triées par ordre décroissant\n",
        "sorted_feature_importances = feature_importances[indices]\n",
        "\n",
        "# Créez le graphique à barres pour visualiser les caractéristiques importantes\n",
        "plt.figure(figsize=(10, 6))\n",
        "plt.bar(range(len(sorted_feature_importances)), sorted_feature_importances, tick_label=sorted_feature_names)\n",
        "plt.xticks(rotation=90)\n",
        "plt.xlabel('Caractéristiques')\n",
        "plt.ylabel('Importance')\n",
        "plt.title('Importance des caractéristiques')\n",
        "plt.tight_layout()\n",
        "plt.show()"
      ],
      "metadata": {
        "colab": {
          "base_uri": "https://localhost:8080/",
          "height": 583
        },
        "id": "EPFX0xJWAcwW",
        "outputId": "0b59c453-497d-436e-a6ba-00250b034c18"
      },
      "execution_count": 416,
      "outputs": [
        {
          "output_type": "display_data",
          "data": {
            "text/plain": [
              "<Figure size 1000x600 with 1 Axes>"
            ],
            "image/png": "[encoded data removed]"
          },
          "metadata": {}
        }
      ]
    },
    {
      "cell_type": "code",
      "source": [
        "pd.crosstab(df[\"tip\"], df[\"payment\"])"
      ],
      "metadata": {
        "colab": {
          "base_uri": "https://localhost:8080/",
          "height": 455
        },
        "id": "Afh_wirRBqG8",
        "outputId": "fe1aa93c-6c63-4190-b99f-d1ac889c9e35"
      },
      "execution_count": 417,
      "outputs": [
        {
          "output_type": "execute_result",
          "data": {
            "text/plain": [
              "payment        0    1   2\n",
              "tip                      \n",
              "-0.808383   1812  455  44\n",
              "-0.804298      0    7   0\n",
              "-0.800214      0    3   0\n",
              "-0.783877      0    1   0\n",
              "-0.775708      0    1   0\n",
              "...          ...  ...  ..\n",
              " 7.589043      0    1   0\n",
              " 7.625802      0    1   0\n",
              " 7.687068      0    1   0\n",
              " 8.663228      0    1   0\n",
              " 12.751663     0    1   0\n",
              "\n",
              "[489 rows x 3 columns]"
            ],
            "text/html": [
              "\n",
              "  <div id=\"df-d803df7f-0118-4e46-b8d1-e95a35cb8541\">\n",
              "    <div class=\"colab-df-container\">\n",
              "      <div>\n",
              "<style scoped>\n",
              "    .dataframe tbody tr th:only-of-type {\n",
              "        vertical-align: middle;\n",
              "    }\n",
              "\n",
              "    .dataframe tbody tr th {\n",
              "        vertical-align: top;\n",
              "    }\n",
              "\n",
              "    .dataframe thead th {\n",
              "        text-align: right;\n",
              "    }\n",
              "</style>\n",
              "<table border=\"1\" class=\"dataframe\">\n",
              "  <thead>\n",
              "    <tr style=\"text-align: right;\">\n",
              "      <th>payment</th>\n",
              "      <th>0</th>\n",
              "      <th>1</th>\n",
              "      <th>2</th>\n",
              "    </tr>\n",
              "    <tr>\n",
              "      <th>tip</th>\n",
              "      <th></th>\n",
              "      <th></th>\n",
              "      <th></th>\n",
              "    </tr>\n",
              "  </thead>\n",
              "  <tbody>\n",
              "    <tr>\n",
              "      <th>-0.808383</th>\n",
              "      <td>1812</td>\n",
              "      <td>455</td>\n",
              "      <td>44</td>\n",
              "    </tr>\n",
              "    <tr>\n",
              "      <th>-0.804298</th>\n",
              "      <td>0</td>\n",
              "      <td>7</td>\n",
              "      <td>0</td>\n",
              "    </tr>\n",
              "    <tr>\n",
              "      <th>-0.800214</th>\n",
              "      <td>0</td>\n",
              "      <td>3</td>\n",
              "      <td>0</td>\n",
              "    </tr>\n",
              "    <tr>\n",
              "      <th>-0.783877</th>\n",
              "      <td>0</td>\n",
              "      <td>1</td>\n",
              "      <td>0</td>\n",
              "    </tr>\n",
              "    <tr>\n",
              "      <th>-0.775708</th>\n",
              "      <td>0</td>\n",
              "      <td>1</td>\n",
              "      <td>0</td>\n",
              "    </tr>\n",
              "    <tr>\n",
              "      <th>...</th>\n",
              "      <td>...</td>\n",
              "      <td>...</td>\n",
              "      <td>...</td>\n",
              "    </tr>\n",
              "    <tr>\n",
              "      <th>7.589043</th>\n",
              "      <td>0</td>\n",
              "      <td>1</td>\n",
              "      <td>0</td>\n",
              "    </tr>\n",
              "    <tr>\n",
              "      <th>7.625802</th>\n",
              "      <td>0</td>\n",
              "      <td>1</td>\n",
              "      <td>0</td>\n",
              "    </tr>\n",
              "    <tr>\n",
              "      <th>7.687068</th>\n",
              "      <td>0</td>\n",
              "      <td>1</td>\n",
              "      <td>0</td>\n",
              "    </tr>\n",
              "    <tr>\n",
              "      <th>8.663228</th>\n",
              "      <td>0</td>\n",
              "      <td>1</td>\n",
              "      <td>0</td>\n",
              "    </tr>\n",
              "    <tr>\n",
              "      <th>12.751663</th>\n",
              "      <td>0</td>\n",
              "      <td>1</td>\n",
              "      <td>0</td>\n",
              "    </tr>\n",
              "  </tbody>\n",
              "</table>\n",
              "<p>489 rows × 3 columns</p>\n",
              "</div>\n",
              "      <button class=\"colab-df-convert\" onclick=\"convertToInteractive('df-d803df7f-0118-4e46-b8d1-e95a35cb8541')\"\n",
              "              title=\"Convert this dataframe to an interactive table.\"\n",
              "              style=\"display:none;\">\n",
              "        \n",
              "  <svg xmlns=\"http://www.w3.org/2000/svg\" height=\"24px\"viewBox=\"0 0 24 24\"\n",
              "       width=\"24px\">\n",
              "    <path d=\"M0 0h24v24H0V0z\" fill=\"none\"/>\n",
              "    <path d=\"M18.56 5.44l.94 2.06.94-2.06 2.06-.94-2.06-.94-.94-2.06-.94 2.06-2.06.94zm-11 1L8.5 8.5l.94-2.06 2.06-.94-2.06-.94L8.5 2.5l-.94 2.06-2.06.94zm10 10l.94 2.06.94-2.06 2.06-.94-2.06-.94-.94-2.06-.94 2.06-2.06.94z\"/><path d=\"M17.41 7.96l-1.37-1.37c-.4-.4-.92-.59-1.43-.59-.52 0-1.04.2-1.43.59L10.3 9.45l-7.72 7.72c-.78.78-.78 2.05 0 2.83L4 21.41c.39.39.9.59 1.41.59.51 0 1.02-.2 1.41-.59l7.78-7.78 2.81-2.81c.8-.78.8-2.07 0-2.86zM5.41 20L4 18.59l7.72-7.72 1.47 1.35L5.41 20z\"/>\n",
              "  </svg>\n",
              "      </button>\n",
              "      \n",
              "  <style>\n",
              "    .colab-df-container {\n",
              "      display:flex;\n",
              "      flex-wrap:wrap;\n",
              "      gap: 12px;\n",
              "    }\n",
              "\n",
              "    .colab-df-convert {\n",
              "      background-color: #E8F0FE;\n",
              "      border: none;\n",
              "      border-radius: 50%;\n",
              "      cursor: pointer;\n",
              "      display: none;\n",
              "      fill: #1967D2;\n",
              "      height: 32px;\n",
              "      padding: 0 0 0 0;\n",
              "      width: 32px;\n",
              "    }\n",
              "\n",
              "    .colab-df-convert:hover {\n",
              "      background-color: #E2EBFA;\n",
              "      box-shadow: 0px 1px 2px rgba(60, 64, 67, 0.3), 0px 1px 3px 1px rgba(60, 64, 67, 0.15);\n",
              "      fill: #174EA6;\n",
              "    }\n",
              "\n",
              "    [theme=dark] .colab-df-convert {\n",
              "      background-color: #3B4455;\n",
              "      fill: #D2E3FC;\n",
              "    }\n",
              "\n",
              "    [theme=dark] .colab-df-convert:hover {\n",
              "      background-color: #434B5C;\n",
              "      box-shadow: 0px 1px 3px 1px rgba(0, 0, 0, 0.15);\n",
              "      filter: drop-shadow(0px 1px 2px rgba(0, 0, 0, 0.3));\n",
              "      fill: #FFFFFF;\n",
              "    }\n",
              "  </style>\n",
              "\n",
              "      <script>\n",
              "        const buttonEl =\n",
              "          document.querySelector('#df-d803df7f-0118-4e46-b8d1-e95a35cb8541 button.colab-df-convert');\n",
              "        buttonEl.style.display =\n",
              "          google.colab.kernel.accessAllowed ? 'block' : 'none';\n",
              "\n",
              "        async function convertToInteractive(key) {\n",
              "          const element = document.querySelector('#df-d803df7f-0118-4e46-b8d1-e95a35cb8541');\n",
              "          const dataTable =\n",
              "            await google.colab.kernel.invokeFunction('convertToInteractive',\n",
              "                                                     [key], {});\n",
              "          if (!dataTable) return;\n",
              "\n",
              "          const docLinkHtml = 'Like what you see? Visit the ' +\n",
              "            '<a target=\"_blank\" href=https://colab.research.google.com/notebooks/data_table.ipynb>data table notebook</a>'\n",
              "            + ' to learn more about interactive tables.';\n",
              "          element.innerHTML = '';\n",
              "          dataTable['output_type'] = 'display_data';\n",
              "          await google.colab.output.renderOutput(dataTable, element);\n",
              "          const docLink = document.createElement('div');\n",
              "          docLink.innerHTML = docLinkHtml;\n",
              "          element.appendChild(docLink);\n",
              "        }\n",
              "      </script>\n",
              "    </div>\n",
              "  </div>\n",
              "  "
            ]
          },
          "metadata": {},
          "execution_count": 417
        }
      ]
    }
  ]
}