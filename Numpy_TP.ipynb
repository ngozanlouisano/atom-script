{
  "nbformat": 4,
  "nbformat_minor": 0,
  "metadata": {
    "colab": {
      "provenance": [],
      "authorship_tag": "ABX9TyNM5dgISp9WKZYSQ+7XvsC/",
      "include_colab_link": true
    },
    "kernelspec": {
      "name": "python3",
      "display_name": "Python 3"
    },
    "language_info": {
      "name": "python"
    }
  },
  "cells": [
    {
      "cell_type": "markdown",
      "metadata": {
        "id": "view-in-github",
        "colab_type": "text"
      },
      "source": [
        "<a href=\"https://colab.research.google.com/github/ngozanlouisano/atom-script/blob/master/Numpy_TP.ipynb\" target=\"_parent\"><img src=\"https://colab.research.google.com/assets/colab-badge.svg\" alt=\"Open In Colab\"/></a>"
      ]
    },
    {
      "cell_type": "code",
      "execution_count": 1,
      "metadata": {
        "colab": {
          "base_uri": "https://localhost:8080/"
        },
        "id": "15UUd5KjeLaP",
        "outputId": "05c58b60-b7cf-4365-ae76-9c32e1ade598"
      },
      "outputs": [
        {
          "output_type": "execute_result",
          "data": {
            "text/plain": [
              "array([1, 2, 3])"
            ]
          },
          "metadata": {},
          "execution_count": 1
        }
      ],
      "source": [
        "# Importer Numpy\n",
        "import numpy as np\n",
        "\n",
        "# 10 Array / un Tableau\n",
        "arr = np.array([1,2,3])\n",
        "arr"
      ]
    },
    {
      "cell_type": "code",
      "source": [
        "# Linspace / cette fonction renvoie donc un array qui contient des valeur décimales exprimé en float\n",
        "np.linspace(0,50,51)"
      ],
      "metadata": {
        "colab": {
          "base_uri": "https://localhost:8080/"
        },
        "id": "ujngPup4exOt",
        "outputId": "a29dedaa-6f79-4485-e396-d07d33a4a89b"
      },
      "execution_count": 2,
      "outputs": [
        {
          "output_type": "execute_result",
          "data": {
            "text/plain": [
              "array([ 0.,  1.,  2.,  3.,  4.,  5.,  6.,  7.,  8.,  9., 10., 11., 12.,\n",
              "       13., 14., 15., 16., 17., 18., 19., 20., 21., 22., 23., 24., 25.,\n",
              "       26., 27., 28., 29., 30., 31., 32., 33., 34., 35., 36., 37., 38.,\n",
              "       39., 40., 41., 42., 43., 44., 45., 46., 47., 48., 49., 50.])"
            ]
          },
          "metadata": {},
          "execution_count": 2
        }
      ]
    },
    {
      "cell_type": "code",
      "source": [
        "# Arange / cette fonction nous renvoies uniquement des entiers \n",
        "np.arange(0,50)"
      ],
      "metadata": {
        "colab": {
          "base_uri": "https://localhost:8080/"
        },
        "id": "Pr14xmfce0pS",
        "outputId": "1e1eef67-3da5-4502-bb33-c727409983de"
      },
      "execution_count": 5,
      "outputs": [
        {
          "output_type": "execute_result",
          "data": {
            "text/plain": [
              "array([ 0,  1,  2,  3,  4,  5,  6,  7,  8,  9, 10, 11, 12, 13, 14, 15, 16,\n",
              "       17, 18, 19, 20, 21, 22, 23, 24, 25, 26, 27, 28, 29, 30, 31, 32, 33,\n",
              "       34, 35, 36, 37, 38, 39, 40, 41, 42, 43, 44, 45, 46, 47, 48, 49])"
            ]
          },
          "metadata": {},
          "execution_count": 5
        }
      ]
    },
    {
      "cell_type": "code",
      "source": [
        "# 2D array / Tableau 2 Dimension\n",
        "arr_bis = np.array([[1,2,3], [4,5,6],[7,8,9]])\n",
        "arr_bis\n"
      ],
      "metadata": {
        "colab": {
          "base_uri": "https://localhost:8080/"
        },
        "id": "isL2XEF8fJaF",
        "outputId": "52af4971-8d74-40ce-d281-f47ccf166b55"
      },
      "execution_count": 7,
      "outputs": [
        {
          "output_type": "execute_result",
          "data": {
            "text/plain": [
              "array([[1, 2, 3],\n",
              "       [4, 5, 6],\n",
              "       [7, 8, 9]])"
            ]
          },
          "metadata": {},
          "execution_count": 7
        }
      ]
    },
    {
      "cell_type": "code",
      "source": [
        "# Matrice nulle\n",
        "nul = np.zeros([3,5])\n",
        "nul"
      ],
      "metadata": {
        "colab": {
          "base_uri": "https://localhost:8080/"
        },
        "id": "Dq9rpvG5fjdj",
        "outputId": "d8715a21-6cfb-4119-e652-c88a07a794f3"
      },
      "execution_count": 9,
      "outputs": [
        {
          "output_type": "execute_result",
          "data": {
            "text/plain": [
              "array([[0., 0., 0., 0., 0.],\n",
              "       [0., 0., 0., 0., 0.],\n",
              "       [0., 0., 0., 0., 0.]])"
            ]
          },
          "metadata": {},
          "execution_count": 9
        }
      ]
    },
    {
      "cell_type": "code",
      "source": [
        "# Matrice identité / est une matrice remplie de Zéros uniquement sur la diagonale la valeur aligné\n",
        "I = np.identity(5)\n",
        "I"
      ],
      "metadata": {
        "colab": {
          "base_uri": "https://localhost:8080/"
        },
        "id": "U78T5DyIfl4M",
        "outputId": "6a980e26-6a1f-4c5a-c3b0-c778f596a243"
      },
      "execution_count": 10,
      "outputs": [
        {
          "output_type": "execute_result",
          "data": {
            "text/plain": [
              "array([[1., 0., 0., 0., 0.],\n",
              "       [0., 1., 0., 0., 0.],\n",
              "       [0., 0., 1., 0., 0.],\n",
              "       [0., 0., 0., 1., 0.],\n",
              "       [0., 0., 0., 0., 1.]])"
            ]
          },
          "metadata": {},
          "execution_count": 10
        }
      ]
    },
    {
      "cell_type": "code",
      "source": [
        "# Matrice unité\n",
        "One = np.ones([5,5])\n",
        "One"
      ],
      "metadata": {
        "colab": {
          "base_uri": "https://localhost:8080/"
        },
        "id": "I8idCxNZfpdD",
        "outputId": "d52e2742-6e21-4a4b-bac2-9701dd772dea"
      },
      "execution_count": 14,
      "outputs": [
        {
          "output_type": "execute_result",
          "data": {
            "text/plain": [
              "array([[1., 1., 1., 1., 1.],\n",
              "       [1., 1., 1., 1., 1.],\n",
              "       [1., 1., 1., 1., 1.],\n",
              "       [1., 1., 1., 1., 1.],\n",
              "       [1., 1., 1., 1., 1.]])"
            ]
          },
          "metadata": {},
          "execution_count": 14
        }
      ]
    },
    {
      "cell_type": "code",
      "source": [
        "# Adittion de deux matrices \n",
        "I + One"
      ],
      "metadata": {
        "colab": {
          "base_uri": "https://localhost:8080/"
        },
        "id": "639bDaCVhc42",
        "outputId": "14a3fbdb-da80-4473-ccb6-977492c87751"
      },
      "execution_count": 15,
      "outputs": [
        {
          "output_type": "execute_result",
          "data": {
            "text/plain": [
              "array([[2., 1., 1., 1., 1.],\n",
              "       [1., 2., 1., 1., 1.],\n",
              "       [1., 1., 2., 1., 1.],\n",
              "       [1., 1., 1., 2., 1.],\n",
              "       [1., 1., 1., 1., 2.]])"
            ]
          },
          "metadata": {},
          "execution_count": 15
        }
      ]
    },
    {
      "cell_type": "code",
      "source": [
        "# Soustrait deux ùatrices \n",
        "I - One"
      ],
      "metadata": {
        "colab": {
          "base_uri": "https://localhost:8080/"
        },
        "id": "eeLa7_7shhdL",
        "outputId": "616e6f2f-e78e-4a77-f45b-967970e86b8e"
      },
      "execution_count": 16,
      "outputs": [
        {
          "output_type": "execute_result",
          "data": {
            "text/plain": [
              "array([[ 0., -1., -1., -1., -1.],\n",
              "       [-1.,  0., -1., -1., -1.],\n",
              "       [-1., -1.,  0., -1., -1.],\n",
              "       [-1., -1., -1.,  0., -1.],\n",
              "       [-1., -1., -1., -1.,  0.]])"
            ]
          },
          "metadata": {},
          "execution_count": 16
        }
      ]
    },
    {
      "cell_type": "code",
      "source": [
        "# Multiplication Scalaire \n",
        "I * 15"
      ],
      "metadata": {
        "colab": {
          "base_uri": "https://localhost:8080/"
        },
        "id": "W28Mb-Qyhngr",
        "outputId": "d82e34be-a53e-44db-87f6-889109c45b96"
      },
      "execution_count": 17,
      "outputs": [
        {
          "output_type": "execute_result",
          "data": {
            "text/plain": [
              "array([[15.,  0.,  0.,  0.,  0.],\n",
              "       [ 0., 15.,  0.,  0.,  0.],\n",
              "       [ 0.,  0., 15.,  0.,  0.],\n",
              "       [ 0.,  0.,  0., 15.,  0.],\n",
              "       [ 0.,  0.,  0.,  0., 15.]])"
            ]
          },
          "metadata": {},
          "execution_count": 17
        }
      ]
    },
    {
      "cell_type": "markdown",
      "source": [
        "**Random**"
      ],
      "metadata": {
        "id": "WaMVLmFAkJ1v"
      }
    },
    {
      "cell_type": "code",
      "source": [
        "# Tableau 1D aléatoire dans les valeurs 0 et 1\n",
        "ran = np.random.rand(6)\n",
        "ran"
      ],
      "metadata": {
        "colab": {
          "base_uri": "https://localhost:8080/"
        },
        "id": "UHaGd7FRkOqN",
        "outputId": "44686cf1-96eb-467d-e996-cba5cfcb1d31"
      },
      "execution_count": 28,
      "outputs": [
        {
          "output_type": "execute_result",
          "data": {
            "text/plain": [
              "array([0.47753644, 0.88132684, 0.41954406, 0.38182312, 0.13169499,\n",
              "       0.88399745])"
            ]
          },
          "metadata": {},
          "execution_count": 28
        }
      ]
    },
    {
      "cell_type": "code",
      "source": [
        "# Comment trouver la forme d’un tableau et transformer un tableau 1D en tableau 2D\n",
        "print(f\"Tableau = {np.shape(ran)}\")\n",
        "\n",
        "# Reshape\n",
        "ran = ran.reshape(-1,1)\n",
        "\n",
        "# New shape\n",
        "print(f\"Tableau = {np.shape(ran)}\")"
      ],
      "metadata": {
        "colab": {
          "base_uri": "https://localhost:8080/"
        },
        "id": "b3mUDrLNkmbk",
        "outputId": "0dc47c8e-792a-4094-c9bc-ab6c54f175ef"
      },
      "execution_count": 29,
      "outputs": [
        {
          "output_type": "stream",
          "name": "stdout",
          "text": [
            "Tableau = (6,)\n",
            "Tableau = (6, 1)\n"
          ]
        }
      ]
    },
    {
      "cell_type": "code",
      "source": [
        "# Random integer value /génerer des variable aléatoire sans suivre une loi de probalité précise \n",
        "arr_int = np.random.randint(100, size=(5,5))\n",
        "arr_int"
      ],
      "metadata": {
        "colab": {
          "base_uri": "https://localhost:8080/"
        },
        "id": "oUE5si0imqhr",
        "outputId": "34edb9ae-2598-4e6f-8a2e-fb2f375903ed"
      },
      "execution_count": 30,
      "outputs": [
        {
          "output_type": "execute_result",
          "data": {
            "text/plain": [
              "array([[46, 98, 69, 98, 41],\n",
              "       [17, 22, 58, 20, 11],\n",
              "       [69, 64, 84, 15,  1],\n",
              "       [24, 95, 88, 47, 29],\n",
              "       [56, 71, 87, 64, 75]])"
            ]
          },
          "metadata": {},
          "execution_count": 30
        }
      ]
    },
    {
      "cell_type": "code",
      "source": [
        "# Normal 1 Dim\n",
        "normal = np.random.normal(loc=0, scale=1, size=(6,))\n",
        "normal"
      ],
      "metadata": {
        "colab": {
          "base_uri": "https://localhost:8080/"
        },
        "id": "2T9Sw-mQmuoh",
        "outputId": "68a8fdb6-9bef-4213-9517-d2540ae75706"
      },
      "execution_count": 32,
      "outputs": [
        {
          "output_type": "execute_result",
          "data": {
            "text/plain": [
              "array([-1.59559372, -0.30871223,  0.67865947, -0.98701771, -0.44604647,\n",
              "       -1.26324948])"
            ]
          },
          "metadata": {},
          "execution_count": 32
        }
      ]
    },
    {
      "cell_type": "code",
      "source": [
        "# Normal 2 Dim\n",
        "normal = np.random.normal(loc=0, scale=1, size=(6,6))\n",
        "normal"
      ],
      "metadata": {
        "colab": {
          "base_uri": "https://localhost:8080/"
        },
        "id": "u1H21vAAmyKC",
        "outputId": "b5befcbf-aa94-4d7a-9c77-30ae228034d6"
      },
      "execution_count": 33,
      "outputs": [
        {
          "output_type": "execute_result",
          "data": {
            "text/plain": [
              "array([[ 0.87167309,  0.05367165, -1.22946584,  0.54797237, -2.08400306,\n",
              "         0.34145585],\n",
              "       [-0.53653444, -1.03876743,  0.11602886, -1.71220838,  0.30844631,\n",
              "        -2.48294976],\n",
              "       [ 0.87546764, -0.66211963, -1.18138501,  1.43652051,  2.13417254,\n",
              "        -1.22425771],\n",
              "       [-0.29164883, -1.42663658,  0.43768316,  0.59453761, -0.45616906,\n",
              "         1.02492361],\n",
              "       [-0.61645325,  1.12902143,  0.26904046, -0.85115545,  0.06954604,\n",
              "         0.62444046],\n",
              "       [ 0.5873832 , -0.89716729, -0.62642903,  0.65751533,  0.37099118,\n",
              "        -0.78496897]])"
            ]
          },
          "metadata": {},
          "execution_count": 33
        }
      ]
    },
    {
      "cell_type": "code",
      "source": [
        "# Set the seed / la graine aléatoire \n",
        "print(np.random.rand(3))\n",
        "print(np.random.rand(3))\n",
        "\n",
        "np.random.seed(seed=32)\n",
        "print(np.random.rand(3))\n",
        "\n",
        "np.random.seed(seed=32)\n",
        "print(np.random.rand(3))"
      ],
      "metadata": {
        "colab": {
          "base_uri": "https://localhost:8080/"
        },
        "id": "5W-lGWY7nfwE",
        "outputId": "07f672d2-6986-4d6f-dd5b-ed4a702623de"
      },
      "execution_count": 35,
      "outputs": [
        {
          "output_type": "stream",
          "name": "stdout",
          "text": [
            "[0.95565655 0.7366696  0.81620514]\n",
            "[0.10108656 0.92848807 0.60910917]\n",
            "[0.85888927 0.37271115 0.55512878]\n",
            "[0.85888927 0.37271115 0.55512878]\n"
          ]
        }
      ]
    },
    {
      "cell_type": "markdown",
      "source": [
        "**Indexing Slicing Transformations**"
      ],
      "metadata": {
        "id": "QxcR1vn4o8Hs"
      }
    },
    {
      "cell_type": "code",
      "source": [
        "# Choisissez une valeur dans la matrice / extrait des chiffres dans notre matice\n",
        "arr_bis = np.array([[1,2,3],\n",
        "                    [4,5,6],\n",
        "                    [7,8,9]])\n",
        "arr_bis[0][0]"
      ],
      "metadata": {
        "colab": {
          "base_uri": "https://localhost:8080/"
        },
        "id": "yosk0Z1tpEQ5",
        "outputId": "9f0b0347-5994-4c7b-fbb5-e0e8d0e3f8fe"
      },
      "execution_count": 47,
      "outputs": [
        {
          "output_type": "execute_result",
          "data": {
            "text/plain": [
              "1"
            ]
          },
          "metadata": {},
          "execution_count": 47
        }
      ]
    },
    {
      "cell_type": "code",
      "source": [
        "arr_bis[0,0]"
      ],
      "metadata": {
        "colab": {
          "base_uri": "https://localhost:8080/"
        },
        "id": "1aCTD7LLqqdb",
        "outputId": "372d4d69-ea79-4ae6-d12e-9fc189e1b7b6"
      },
      "execution_count": 46,
      "outputs": [
        {
          "output_type": "execute_result",
          "data": {
            "text/plain": [
              "1"
            ]
          },
          "metadata": {},
          "execution_count": 46
        }
      ]
    },
    {
      "cell_type": "code",
      "source": [
        "print(arr_bis[1,2])\n",
        "print(arr_bis[2,2])"
      ],
      "metadata": {
        "colab": {
          "base_uri": "https://localhost:8080/"
        },
        "id": "uLgXopHwrRbY",
        "outputId": "14314e61-027a-4f65-8bf1-1bf7500897aa"
      },
      "execution_count": 49,
      "outputs": [
        {
          "output_type": "stream",
          "name": "stdout",
          "text": [
            "6\n",
            "9\n"
          ]
        }
      ]
    },
    {
      "cell_type": "code",
      "source": [
        "# Choisissez la sous-matrice dans la matrice\n",
        "arr_bis[0:2, 0:3]"
      ],
      "metadata": {
        "colab": {
          "base_uri": "https://localhost:8080/"
        },
        "id": "GV8kesdopOzR",
        "outputId": "104b9243-9297-44a4-f902-326fce83b089"
      },
      "execution_count": 54,
      "outputs": [
        {
          "output_type": "execute_result",
          "data": {
            "text/plain": [
              "array([[1, 2, 3],\n",
              "       [4, 5, 6]])"
            ]
          },
          "metadata": {},
          "execution_count": 54
        }
      ]
    },
    {
      "cell_type": "code",
      "source": [
        "# Choisissez une colonne ou une ligne\n",
        "print(arr_bis[1,:]) # extrait une ligne\n",
        "print(arr_bis[:,2]) # extrait une column"
      ],
      "metadata": {
        "colab": {
          "base_uri": "https://localhost:8080/"
        },
        "id": "m1zRnvTrpZyR",
        "outputId": "b5bba12b-dc9c-4ac1-bd2f-d995c2b63564"
      },
      "execution_count": 58,
      "outputs": [
        {
          "output_type": "stream",
          "name": "stdout",
          "text": [
            "[4 5 6]\n",
            "[3 6 9]\n"
          ]
        }
      ]
    },
    {
      "cell_type": "code",
      "source": [
        "# Maximun de la matrice arr_bis \n",
        "# One the matrix\n",
        "print(arr_bis.max())\n",
        "\n",
        "# Maximun par rapport au Ligne\n",
        "print(arr_bis.max(axis=1))\n",
        "\n",
        "# Maximun par rapport au Column\n",
        "print(arr_bis.max(axis=0))"
      ],
      "metadata": {
        "colab": {
          "base_uri": "https://localhost:8080/"
        },
        "id": "KrY55yWntFdS",
        "outputId": "955e8697-5d9e-47bf-e049-991d64ff8d4e"
      },
      "execution_count": 63,
      "outputs": [
        {
          "output_type": "stream",
          "name": "stdout",
          "text": [
            "9\n",
            "[3 6 9]\n",
            "[7 8 9]\n"
          ]
        }
      ]
    },
    {
      "cell_type": "code",
      "source": [
        "# Minimun de la matrice arr_bis \n",
        "# One the matrix\n",
        "print(arr_bis.min())\n",
        "\n",
        "# Minimun par rapport au Ligne\n",
        "print(arr_bis.min(axis=1))\n",
        "\n",
        "# Minimun par rapport au Column\n",
        "print(arr_bis.min(axis=0))"
      ],
      "metadata": {
        "colab": {
          "base_uri": "https://localhost:8080/"
        },
        "id": "XxciJa-vu1zj",
        "outputId": "485cd987-6af1-403d-e547-06ef4b448c2c"
      },
      "execution_count": 64,
      "outputs": [
        {
          "output_type": "stream",
          "name": "stdout",
          "text": [
            "1\n",
            "[1 4 7]\n",
            "[1 2 3]\n"
          ]
        }
      ]
    },
    {
      "cell_type": "code",
      "source": [
        "# Moyenne de la matrice arr_bis \n",
        "# One the matrix\n",
        "print(arr_bis.mean())\n",
        "\n",
        "# Moyenne par rapport au Ligne\n",
        "print(arr_bis.mean(axis=1))\n",
        "\n",
        "# Moyenne par rapport au Column\n",
        "print(arr_bis.mean(axis=0))"
      ],
      "metadata": {
        "colab": {
          "base_uri": "https://localhost:8080/"
        },
        "id": "Rgei81wqvJtR",
        "outputId": "450b85e0-a142-4881-d1cf-c5684c81f84e"
      },
      "execution_count": 65,
      "outputs": [
        {
          "output_type": "stream",
          "name": "stdout",
          "text": [
            "5.0\n",
            "[2. 5. 8.]\n",
            "[4. 5. 6.]\n"
          ]
        }
      ]
    },
    {
      "cell_type": "code",
      "source": [
        "# Ecart-type de la matrice arr_bis \n",
        "# One the matrix\n",
        "print(arr_bis.std())\n",
        "\n",
        "# Ecart-type par rapport au Ligne\n",
        "print(arr_bis.std(axis=1))\n",
        "\n",
        "# Ecart-type par rapport au Column\n",
        "print(arr_bis.std(axis=0))"
      ],
      "metadata": {
        "colab": {
          "base_uri": "https://localhost:8080/"
        },
        "id": "D7Y99BZRwe6Q",
        "outputId": "43315ff3-645f-43ae-8759-9002c382678c"
      },
      "execution_count": 66,
      "outputs": [
        {
          "output_type": "stream",
          "name": "stdout",
          "text": [
            "2.581988897471611\n",
            "[0.81649658 0.81649658 0.81649658]\n",
            "[2.44948974 2.44948974 2.44948974]\n"
          ]
        }
      ]
    },
    {
      "cell_type": "code",
      "source": [
        "# Autre moyen disponible / pour calculer en un coût\n",
        "print(np.max(arr_bis, axis=0)) # Maximun\n",
        "print(np.min(arr_bis, axis=0)) # Minimun\n",
        "print(np.mean(arr_bis, axis=0)) # Moyenne \n",
        "print(np.std(arr_bis, axis=0))  # Ecart-type"
      ],
      "metadata": {
        "colab": {
          "base_uri": "https://localhost:8080/"
        },
        "id": "LF0IaiCsw55_",
        "outputId": "d2197a13-92f5-45c0-9a11-a67c6e7b6e63"
      },
      "execution_count": 70,
      "outputs": [
        {
          "output_type": "stream",
          "name": "stdout",
          "text": [
            "[7 8 9]\n",
            "[1 2 3]\n",
            "[4. 5. 6.]\n",
            "[2.44948974 2.44948974 2.44948974]\n"
          ]
        }
      ]
    },
    {
      "cell_type": "code",
      "source": [
        "# Logaritm fonction / cette fonction est definie uniquement pour les chiffre positif\n",
        "np.log(arr_bis)"
      ],
      "metadata": {
        "colab": {
          "base_uri": "https://localhost:8080/"
        },
        "id": "xzQSZD51x-JP",
        "outputId": "cbcb340b-26a3-4981-bda9-4e092d6e031d"
      },
      "execution_count": 72,
      "outputs": [
        {
          "output_type": "execute_result",
          "data": {
            "text/plain": [
              "array([[0.        , 0.69314718, 1.09861229],\n",
              "       [1.38629436, 1.60943791, 1.79175947],\n",
              "       [1.94591015, 2.07944154, 2.19722458]])"
            ]
          },
          "metadata": {},
          "execution_count": 72
        }
      ]
    },
    {
      "cell_type": "code",
      "source": [
        "# Exponential fonction / est l'inverse de la fonction logarithm\n",
        "np.exp(np.log(arr_bis))\n"
      ],
      "metadata": {
        "colab": {
          "base_uri": "https://localhost:8080/"
        },
        "id": "iApSzJvHyn6m",
        "outputId": "c7f3eb6f-0e87-40e6-e22b-3d3c1ddff9c1"
      },
      "execution_count": 73,
      "outputs": [
        {
          "output_type": "execute_result",
          "data": {
            "text/plain": [
              "array([[1., 2., 3.],\n",
              "       [4., 5., 6.],\n",
              "       [7., 8., 9.]])"
            ]
          },
          "metadata": {},
          "execution_count": 73
        }
      ]
    },
    {
      "cell_type": "code",
      "source": [
        "# Square fonction / fonction carrée\n",
        "np.sqrt(arr_bis)"
      ],
      "metadata": {
        "colab": {
          "base_uri": "https://localhost:8080/"
        },
        "id": "5lhlcjwBzLxF",
        "outputId": "b3acd578-6bec-4328-e058-46faf591e2a8"
      },
      "execution_count": 74,
      "outputs": [
        {
          "output_type": "execute_result",
          "data": {
            "text/plain": [
              "array([[1.        , 1.41421356, 1.73205081],\n",
              "       [2.        , 2.23606798, 2.44948974],\n",
              "       [2.64575131, 2.82842712, 3.        ]])"
            ]
          },
          "metadata": {},
          "execution_count": 74
        }
      ]
    },
    {
      "cell_type": "code",
      "source": [
        "# Concatenate (assemblé des  matrices)\n",
        "# Params : tuple des tableaux et l’axe de la concatenantion\n",
        "# Concat 1 dimension\n",
        "arr1 = arr_bis[:,1]\n",
        "arr2  = arr_bis[:,2]\n",
        "\n",
        "print(f\"ARR1 {arr1}\")\n",
        "print(f\"ARR2 {arr2}\")\n",
        "\n",
        "print(np.concatenate((arr1, arr2), axis=0)) # concatenation de deux matrix\n",
        "\n"
      ],
      "metadata": {
        "colab": {
          "base_uri": "https://localhost:8080/"
        },
        "id": "wYmVIxQTzb81",
        "outputId": "cffc9b7a-48d1-41e0-940c-c43ccd737574"
      },
      "execution_count": 76,
      "outputs": [
        {
          "output_type": "stream",
          "name": "stdout",
          "text": [
            "ARR1 [2 5 8]\n",
            "ARR2 [3 6 9]\n",
            "[2 5 8 3 6 9]\n"
          ]
        }
      ]
    },
    {
      "cell_type": "code",
      "source": [
        "# Concatenation 2 dimension \n",
        "arr1 = arr1.reshape(-1,1)\n",
        "arr2  = arr2.reshape(-1,1)\n",
        "\n",
        "print(f\"ARR1 {arr1}\")\n",
        "print(f\"ARR2 {arr2}\")\n",
        "\n",
        "print(np.concatenate((arr1, arr2), axis=0)) # concatenation de deux matrix"
      ],
      "metadata": {
        "colab": {
          "base_uri": "https://localhost:8080/"
        },
        "id": "4eJgyPwX2DxM",
        "outputId": "2af6f804-e994-43f5-a01f-b8943a4c5c06"
      },
      "execution_count": 79,
      "outputs": [
        {
          "output_type": "stream",
          "name": "stdout",
          "text": [
            "ARR1 [[2]\n",
            " [5]\n",
            " [8]]\n",
            "ARR2 [[3]\n",
            " [6]\n",
            " [9]]\n",
            "[[2]\n",
            " [5]\n",
            " [8]\n",
            " [3]\n",
            " [6]\n",
            " [9]]\n"
          ]
        }
      ]
    },
    {
      "cell_type": "code",
      "source": [
        "# Concat 2 dimension \n",
        "print(np.concatenate((arr1, arr2), axis=1)) # concatenation de deux matrix"
      ],
      "metadata": {
        "colab": {
          "base_uri": "https://localhost:8080/"
        },
        "id": "RPUOEQJT3Yh3",
        "outputId": "aa0cdd2a-85d5-4245-acd8-46403c575fc4"
      },
      "execution_count": 80,
      "outputs": [
        {
          "output_type": "stream",
          "name": "stdout",
          "text": [
            "[[2 3]\n",
            " [5 6]\n",
            " [8 9]]\n"
          ]
        }
      ]
    }
  ]
}