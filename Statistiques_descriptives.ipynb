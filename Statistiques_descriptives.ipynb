{
  "nbformat": 4,
  "nbformat_minor": 0,
  "metadata": {
    "colab": {
      "provenance": [],
      "authorship_tag": "ABX9TyNDRDu2F5wjCVn5u5jrSf67",
      "include_colab_link": true
    },
    "kernelspec": {
      "name": "python3",
      "display_name": "Python 3"
    },
    "language_info": {
      "name": "python"
    }
  },
  "cells": [
    {
      "cell_type": "markdown",
      "metadata": {
        "id": "view-in-github",
        "colab_type": "text"
      },
      "source": [
        "<a href=\"https://colab.research.google.com/github/ngozanlouisano/atom-script/blob/master/Statistiques_descriptives.ipynb\" target=\"_parent\"><img src=\"https://colab.research.google.com/assets/colab-badge.svg\" alt=\"Open In Colab\"/></a>"
      ]
    },
    {
      "cell_type": "code",
      "execution_count": null,
      "metadata": {
        "id": "O9FjA5UScl3N"
      },
      "outputs": [],
      "source": []
    },
    {
      "cell_type": "markdown",
      "source": [
        "installer yfinance "
      ],
      "metadata": {
        "id": "YzfFCB9Pc2Au"
      }
    },
    {
      "cell_type": "code",
      "source": [
        "pip install yfinance"
      ],
      "metadata": {
        "colab": {
          "base_uri": "https://localhost:8080/"
        },
        "id": "H-59VlYJczDE",
        "outputId": "2c8c34b5-ffa4-46b5-e675-b23767f4ed61"
      },
      "execution_count": 1,
      "outputs": [
        {
          "output_type": "stream",
          "name": "stdout",
          "text": [
            "Looking in indexes: https://pypi.org/simple, https://us-python.pkg.dev/colab-wheels/public/simple/\n",
            "Requirement already satisfied: yfinance in /usr/local/lib/python3.10/dist-packages (0.2.18)\n",
            "Requirement already satisfied: pandas>=1.3.0 in /usr/local/lib/python3.10/dist-packages (from yfinance) (1.5.3)\n",
            "Requirement already satisfied: numpy>=1.16.5 in /usr/local/lib/python3.10/dist-packages (from yfinance) (1.22.4)\n",
            "Requirement already satisfied: requests>=2.26 in /usr/local/lib/python3.10/dist-packages (from yfinance) (2.27.1)\n",
            "Requirement already satisfied: multitasking>=0.0.7 in /usr/local/lib/python3.10/dist-packages (from yfinance) (0.0.11)\n",
            "Requirement already satisfied: lxml>=4.9.1 in /usr/local/lib/python3.10/dist-packages (from yfinance) (4.9.2)\n",
            "Requirement already satisfied: appdirs>=1.4.4 in /usr/local/lib/python3.10/dist-packages (from yfinance) (1.4.4)\n",
            "Requirement already satisfied: pytz>=2022.5 in /usr/local/lib/python3.10/dist-packages (from yfinance) (2022.7.1)\n",
            "Requirement already satisfied: frozendict>=2.3.4 in /usr/local/lib/python3.10/dist-packages (from yfinance) (2.3.7)\n",
            "Requirement already satisfied: cryptography>=3.3.2 in /usr/local/lib/python3.10/dist-packages (from yfinance) (40.0.2)\n",
            "Requirement already satisfied: beautifulsoup4>=4.11.1 in /usr/local/lib/python3.10/dist-packages (from yfinance) (4.11.2)\n",
            "Requirement already satisfied: html5lib>=1.1 in /usr/local/lib/python3.10/dist-packages (from yfinance) (1.1)\n",
            "Requirement already satisfied: soupsieve>1.2 in /usr/local/lib/python3.10/dist-packages (from beautifulsoup4>=4.11.1->yfinance) (2.4.1)\n",
            "Requirement already satisfied: cffi>=1.12 in /usr/local/lib/python3.10/dist-packages (from cryptography>=3.3.2->yfinance) (1.15.1)\n",
            "Requirement already satisfied: six>=1.9 in /usr/local/lib/python3.10/dist-packages (from html5lib>=1.1->yfinance) (1.16.0)\n",
            "Requirement already satisfied: webencodings in /usr/local/lib/python3.10/dist-packages (from html5lib>=1.1->yfinance) (0.5.1)\n",
            "Requirement already satisfied: python-dateutil>=2.8.1 in /usr/local/lib/python3.10/dist-packages (from pandas>=1.3.0->yfinance) (2.8.2)\n",
            "Requirement already satisfied: urllib3<1.27,>=1.21.1 in /usr/local/lib/python3.10/dist-packages (from requests>=2.26->yfinance) (1.26.15)\n",
            "Requirement already satisfied: certifi>=2017.4.17 in /usr/local/lib/python3.10/dist-packages (from requests>=2.26->yfinance) (2022.12.7)\n",
            "Requirement already satisfied: charset-normalizer~=2.0.0 in /usr/local/lib/python3.10/dist-packages (from requests>=2.26->yfinance) (2.0.12)\n",
            "Requirement already satisfied: idna<4,>=2.5 in /usr/local/lib/python3.10/dist-packages (from requests>=2.26->yfinance) (3.4)\n",
            "Requirement already satisfied: pycparser in /usr/local/lib/python3.10/dist-packages (from cffi>=1.12->cryptography>=3.3.2->yfinance) (2.21)\n"
          ]
        }
      ]
    },
    {
      "cell_type": "code",
      "source": [
        "# Importer les librairies\n",
        "import numpy as np\n",
        "import pandas as pd\n",
        "import yfinance as yf\n",
        "from scipy.stats import skew, kurtosis"
      ],
      "metadata": {
        "id": "vHFnMvYFe2mm"
      },
      "execution_count": 10,
      "outputs": []
    },
    {
      "cell_type": "code",
      "source": [
        "# Importer nos données\n",
        "df = yf.download(\"GOOG\") [\"Adj Close\"].pct_change(1).dropna()\n",
        "df"
      ],
      "metadata": {
        "colab": {
          "base_uri": "https://localhost:8080/"
        },
        "id": "2UPNtOY_fM56",
        "outputId": "da1d71c0-b685-4f13-98b4-414a6ba718e8"
      },
      "execution_count": 11,
      "outputs": [
        {
          "output_type": "stream",
          "name": "stdout",
          "text": [
            "\r[*********************100%***********************]  1 of 1 completed\n"
          ]
        },
        {
          "output_type": "execute_result",
          "data": {
            "text/plain": [
              "Date\n",
              "2004-08-20    0.079430\n",
              "2004-08-23    0.010064\n",
              "2004-08-24   -0.041408\n",
              "2004-08-25    0.010775\n",
              "2004-08-26    0.018019\n",
              "                ...   \n",
              "2023-05-08    0.019065\n",
              "2023-05-09   -0.002772\n",
              "2023-05-10    0.040207\n",
              "2023-05-11    0.041147\n",
              "2023-05-12    0.004619\n",
              "Name: Adj Close, Length: 4715, dtype: float64"
            ]
          },
          "metadata": {},
          "execution_count": 11
        }
      ]
    },
    {
      "cell_type": "markdown",
      "source": [
        "**Mesure de tendance centrale**"
      ],
      "metadata": {
        "id": "tnfLr-77jTor"
      }
    },
    {
      "cell_type": "markdown",
      "source": [
        "**Mean** (moyenne): elle permt d'avoir un résumé basique des données"
      ],
      "metadata": {
        "id": "yFIR1GIJjYFJ"
      }
    },
    {
      "cell_type": "code",
      "source": [
        "#--------Mean with numpy------------------\n",
        "mean = np.mean(df, axis=0)*100  # Moyenne journalière\n",
        "print(f\"Daily Mean: {'%.2f' % mean} %\")\n",
        "\n",
        "# Annualization of the mean return / rendement annuel\n",
        "annuel_mean = mean * 252  # 252 jour dans l'exercice comptable dans l'année\n",
        "print(f\"Mean Annuel: {'%.2f' % annuel_mean} %\")\n",
        "\n",
        "# Day mean return ---> monthly mean return / Mois \n",
        "monthly_mean = mean * 21 # 21 jour dans l'exercice comptable dans le mois\n",
        "print(f\"Mean Monthly: {'%.2f' % monthly_mean} %\")\n",
        "\n"
      ],
      "metadata": {
        "colab": {
          "base_uri": "https://localhost:8080/"
        },
        "id": "W_--jmawjmll",
        "outputId": "76f49fe2-3c4a-4966-a052-846cb2a30570"
      },
      "execution_count": 12,
      "outputs": [
        {
          "output_type": "stream",
          "name": "stdout",
          "text": [
            "Daily Mean: 0.10 %\n",
            "Mean Annuel: 25.31 %\n",
            "Mean Monthly: 2.11 %\n"
          ]
        }
      ]
    },
    {
      "cell_type": "markdown",
      "source": [
        "**Median** : c'est de trouver la tendance centre d'un échantillon."
      ],
      "metadata": {
        "id": "MtPPwJQSnneD"
      }
    },
    {
      "cell_type": "code",
      "source": [
        "#--------Median with numpy------------------\n",
        "median = np.median(df, axis=0) * 100  # la mediane \n",
        "print(f\"Daily Median: {'%.2f' % median} %\")"
      ],
      "metadata": {
        "colab": {
          "base_uri": "https://localhost:8080/"
        },
        "id": "waYv7DPXntz8",
        "outputId": "60ea0738-f5b7-491c-b9b1-a46a0fcacc77"
      },
      "execution_count": 13,
      "outputs": [
        {
          "output_type": "stream",
          "name": "stdout",
          "text": [
            "Daily Median: 0.07 %\n"
          ]
        }
      ]
    },
    {
      "cell_type": "markdown",
      "source": [
        "**Percentile** : c'est une mésure un peu similaire à celle de la médiane"
      ],
      "metadata": {
        "id": "eYL4MsQwpX1O"
      }
    },
    {
      "cell_type": "code",
      "source": [
        "#--------Percentile with numpy------------------\n",
        "percentile_10 = np.quantile(df,0.10 , axis=0) * 100\n",
        "print(f\"Percentile 10%: {'%.2f' % percentile_10} %\")\n",
        "\n",
        "\n",
        "percentile_50 =np.quantile(df,0.50 , axis=0) * 100\n",
        "print(f\"Percentile 50%: {'%.2f' % percentile_50} %\")\n",
        "\n",
        "\n",
        "percentile_99 = np.quantile(df,0.99 , axis=0) * 100\n",
        "print(f\"Percentile 99%: {'%.2f' % percentile_99} %\")"
      ],
      "metadata": {
        "colab": {
          "base_uri": "https://localhost:8080/"
        },
        "id": "5nxPp2WHpb5k",
        "outputId": "0a6ce1b1-8845-4e4e-fe0a-d5f52fe46963"
      },
      "execution_count": 14,
      "outputs": [
        {
          "output_type": "stream",
          "name": "stdout",
          "text": [
            "Percentile 10%: -1.94 %\n",
            "Percentile 50%: 0.07 %\n",
            "Percentile 99%: 5.73 %\n"
          ]
        }
      ]
    },
    {
      "cell_type": "markdown",
      "source": [
        "***Variance *** : est la mésure de dispersion des données. Plus la vairance est élevée, plus les valeurs sont éloignées(dispersées autour de la moyenne"
      ],
      "metadata": {
        "id": "v1nnSNYXtiaF"
      }
    },
    {
      "cell_type": "code",
      "source": [
        "#--------variance with numpy------------------\n",
        "var = np.var(df, axis=0) * 100\n",
        "print(f\"Variance: {'%.2f' %var } %\")"
      ],
      "metadata": {
        "colab": {
          "base_uri": "https://localhost:8080/"
        },
        "id": "y_5A24i4tnfq",
        "outputId": "5a1356f7-2ebd-47cc-f283-91d543139a41"
      },
      "execution_count": 15,
      "outputs": [
        {
          "output_type": "stream",
          "name": "stdout",
          "text": [
            "Variance: 0.04 %\n"
          ]
        }
      ]
    },
    {
      "cell_type": "markdown",
      "source": [
        "**Ecart-type** : c'est une haute valeur, pour calculer la dispersion d'un échantillons autour de la moyenne. "
      ],
      "metadata": {
        "id": "yoYKFB5AuS4q"
      }
    },
    {
      "cell_type": "code",
      "source": [
        "#--------Standard-Deviation with numpy------------------\n",
        "std = np.std(df, axis=0) * 100  \n",
        "print(f\"Daily Volatility: {'%.2f' % std} %\")\n",
        "\n",
        "# Annualization of the mean return / rendement annuel\n",
        "annuel_std = std * np.sqrt(252)  \n",
        "print(f\"Yearly Volatility: {'%.2f' % annuel_std} %\")\n",
        "\n",
        "# Day mean return ---> monthly mean return / Mois \n",
        "monthly_std = std * np.sqrt(21) \n",
        "print(f\"Monthly Volatility: {'%.2f' % monthly_mean} %\")\n"
      ],
      "metadata": {
        "colab": {
          "base_uri": "https://localhost:8080/"
        },
        "id": "v38x-xbPufhL",
        "outputId": "c95324bf-eea7-4890-cdd3-5dc27958ad98"
      },
      "execution_count": 16,
      "outputs": [
        {
          "output_type": "stream",
          "name": "stdout",
          "text": [
            "Daily Volatility: 1.94 %\n",
            "Yearly Volatility: 30.87 %\n",
            "Monthly Volatility: 2.11 %\n"
          ]
        }
      ]
    },
    {
      "cell_type": "markdown",
      "source": [
        "**Covariance**:\n",
        " permet de comprendre les relations entre deux échantillons"
      ],
      "metadata": {
        "id": "Dy5due8TxYTr"
      }
    },
    {
      "cell_type": "code",
      "source": [
        "df = yf.download([\"GOOG\", \"EURUSD=x\", \"msft\", \"AMZN\", \"TSLA\"]) [\"Adj Close\"].pct_change(1).dropna()\n",
        "df"
      ],
      "metadata": {
        "colab": {
          "base_uri": "https://localhost:8080/",
          "height": 473
        },
        "id": "ZX_LZeTr4qSL",
        "outputId": "527b4fad-043c-4dd0-f7d0-ba0fb336917c"
      },
      "execution_count": 24,
      "outputs": [
        {
          "output_type": "stream",
          "name": "stdout",
          "text": [
            "[*********************100%***********************]  5 of 5 completed\n"
          ]
        },
        {
          "output_type": "execute_result",
          "data": {
            "text/plain": [
              "                AMZN  EURUSD=X      GOOG      MSFT      TSLA\n",
              "Date                                                        \n",
              "2010-06-30  0.005985  0.003584 -0.020495 -0.012870 -0.002511\n",
              "2010-07-01  0.015559  0.022689 -0.012271  0.006519 -0.078473\n",
              "2010-07-02 -0.016402  0.005079 -0.006690  0.004749 -0.125683\n",
              "2010-07-05  0.000000 -0.002708  0.000000  0.000000  0.000000\n",
              "2010-07-06  0.008430  0.006943 -0.001100  0.023636 -0.160937\n",
              "...              ...       ...       ...       ...       ...\n",
              "2023-05-08  0.001609 -0.000386  0.019065 -0.006438  0.010173\n",
              "2023-05-09  0.007465 -0.002045 -0.002772 -0.005346 -0.015368\n",
              "2023-05-10  0.033483 -0.002862  0.040207  0.017296 -0.003606\n",
              "2023-05-11  0.018060  0.001768  0.041147 -0.007044  0.021004\n",
              "2023-05-12 -0.022375 -0.011820  0.003593 -0.009996 -0.025016\n",
              "\n",
              "[3358 rows x 5 columns]"
            ],
            "text/html": [
              "\n",
              "  <div id=\"df-fc470b6c-2f9c-4c72-a2f3-b7a4f07c2880\">\n",
              "    <div class=\"colab-df-container\">\n",
              "      <div>\n",
              "<style scoped>\n",
              "    .dataframe tbody tr th:only-of-type {\n",
              "        vertical-align: middle;\n",
              "    }\n",
              "\n",
              "    .dataframe tbody tr th {\n",
              "        vertical-align: top;\n",
              "    }\n",
              "\n",
              "    .dataframe thead th {\n",
              "        text-align: right;\n",
              "    }\n",
              "</style>\n",
              "<table border=\"1\" class=\"dataframe\">\n",
              "  <thead>\n",
              "    <tr style=\"text-align: right;\">\n",
              "      <th></th>\n",
              "      <th>AMZN</th>\n",
              "      <th>EURUSD=X</th>\n",
              "      <th>GOOG</th>\n",
              "      <th>MSFT</th>\n",
              "      <th>TSLA</th>\n",
              "    </tr>\n",
              "    <tr>\n",
              "      <th>Date</th>\n",
              "      <th></th>\n",
              "      <th></th>\n",
              "      <th></th>\n",
              "      <th></th>\n",
              "      <th></th>\n",
              "    </tr>\n",
              "  </thead>\n",
              "  <tbody>\n",
              "    <tr>\n",
              "      <th>2010-06-30</th>\n",
              "      <td>0.005985</td>\n",
              "      <td>0.003584</td>\n",
              "      <td>-0.020495</td>\n",
              "      <td>-0.012870</td>\n",
              "      <td>-0.002511</td>\n",
              "    </tr>\n",
              "    <tr>\n",
              "      <th>2010-07-01</th>\n",
              "      <td>0.015559</td>\n",
              "      <td>0.022689</td>\n",
              "      <td>-0.012271</td>\n",
              "      <td>0.006519</td>\n",
              "      <td>-0.078473</td>\n",
              "    </tr>\n",
              "    <tr>\n",
              "      <th>2010-07-02</th>\n",
              "      <td>-0.016402</td>\n",
              "      <td>0.005079</td>\n",
              "      <td>-0.006690</td>\n",
              "      <td>0.004749</td>\n",
              "      <td>-0.125683</td>\n",
              "    </tr>\n",
              "    <tr>\n",
              "      <th>2010-07-05</th>\n",
              "      <td>0.000000</td>\n",
              "      <td>-0.002708</td>\n",
              "      <td>0.000000</td>\n",
              "      <td>0.000000</td>\n",
              "      <td>0.000000</td>\n",
              "    </tr>\n",
              "    <tr>\n",
              "      <th>2010-07-06</th>\n",
              "      <td>0.008430</td>\n",
              "      <td>0.006943</td>\n",
              "      <td>-0.001100</td>\n",
              "      <td>0.023636</td>\n",
              "      <td>-0.160937</td>\n",
              "    </tr>\n",
              "    <tr>\n",
              "      <th>...</th>\n",
              "      <td>...</td>\n",
              "      <td>...</td>\n",
              "      <td>...</td>\n",
              "      <td>...</td>\n",
              "      <td>...</td>\n",
              "    </tr>\n",
              "    <tr>\n",
              "      <th>2023-05-08</th>\n",
              "      <td>0.001609</td>\n",
              "      <td>-0.000386</td>\n",
              "      <td>0.019065</td>\n",
              "      <td>-0.006438</td>\n",
              "      <td>0.010173</td>\n",
              "    </tr>\n",
              "    <tr>\n",
              "      <th>2023-05-09</th>\n",
              "      <td>0.007465</td>\n",
              "      <td>-0.002045</td>\n",
              "      <td>-0.002772</td>\n",
              "      <td>-0.005346</td>\n",
              "      <td>-0.015368</td>\n",
              "    </tr>\n",
              "    <tr>\n",
              "      <th>2023-05-10</th>\n",
              "      <td>0.033483</td>\n",
              "      <td>-0.002862</td>\n",
              "      <td>0.040207</td>\n",
              "      <td>0.017296</td>\n",
              "      <td>-0.003606</td>\n",
              "    </tr>\n",
              "    <tr>\n",
              "      <th>2023-05-11</th>\n",
              "      <td>0.018060</td>\n",
              "      <td>0.001768</td>\n",
              "      <td>0.041147</td>\n",
              "      <td>-0.007044</td>\n",
              "      <td>0.021004</td>\n",
              "    </tr>\n",
              "    <tr>\n",
              "      <th>2023-05-12</th>\n",
              "      <td>-0.022375</td>\n",
              "      <td>-0.011820</td>\n",
              "      <td>0.003593</td>\n",
              "      <td>-0.009996</td>\n",
              "      <td>-0.025016</td>\n",
              "    </tr>\n",
              "  </tbody>\n",
              "</table>\n",
              "<p>3358 rows × 5 columns</p>\n",
              "</div>\n",
              "      <button class=\"colab-df-convert\" onclick=\"convertToInteractive('df-fc470b6c-2f9c-4c72-a2f3-b7a4f07c2880')\"\n",
              "              title=\"Convert this dataframe to an interactive table.\"\n",
              "              style=\"display:none;\">\n",
              "        \n",
              "  <svg xmlns=\"http://www.w3.org/2000/svg\" height=\"24px\"viewBox=\"0 0 24 24\"\n",
              "       width=\"24px\">\n",
              "    <path d=\"M0 0h24v24H0V0z\" fill=\"none\"/>\n",
              "    <path d=\"M18.56 5.44l.94 2.06.94-2.06 2.06-.94-2.06-.94-.94-2.06-.94 2.06-2.06.94zm-11 1L8.5 8.5l.94-2.06 2.06-.94-2.06-.94L8.5 2.5l-.94 2.06-2.06.94zm10 10l.94 2.06.94-2.06 2.06-.94-2.06-.94-.94-2.06-.94 2.06-2.06.94z\"/><path d=\"M17.41 7.96l-1.37-1.37c-.4-.4-.92-.59-1.43-.59-.52 0-1.04.2-1.43.59L10.3 9.45l-7.72 7.72c-.78.78-.78 2.05 0 2.83L4 21.41c.39.39.9.59 1.41.59.51 0 1.02-.2 1.41-.59l7.78-7.78 2.81-2.81c.8-.78.8-2.07 0-2.86zM5.41 20L4 18.59l7.72-7.72 1.47 1.35L5.41 20z\"/>\n",
              "  </svg>\n",
              "      </button>\n",
              "      \n",
              "  <style>\n",
              "    .colab-df-container {\n",
              "      display:flex;\n",
              "      flex-wrap:wrap;\n",
              "      gap: 12px;\n",
              "    }\n",
              "\n",
              "    .colab-df-convert {\n",
              "      background-color: #E8F0FE;\n",
              "      border: none;\n",
              "      border-radius: 50%;\n",
              "      cursor: pointer;\n",
              "      display: none;\n",
              "      fill: #1967D2;\n",
              "      height: 32px;\n",
              "      padding: 0 0 0 0;\n",
              "      width: 32px;\n",
              "    }\n",
              "\n",
              "    .colab-df-convert:hover {\n",
              "      background-color: #E2EBFA;\n",
              "      box-shadow: 0px 1px 2px rgba(60, 64, 67, 0.3), 0px 1px 3px 1px rgba(60, 64, 67, 0.15);\n",
              "      fill: #174EA6;\n",
              "    }\n",
              "\n",
              "    [theme=dark] .colab-df-convert {\n",
              "      background-color: #3B4455;\n",
              "      fill: #D2E3FC;\n",
              "    }\n",
              "\n",
              "    [theme=dark] .colab-df-convert:hover {\n",
              "      background-color: #434B5C;\n",
              "      box-shadow: 0px 1px 3px 1px rgba(0, 0, 0, 0.15);\n",
              "      filter: drop-shadow(0px 1px 2px rgba(0, 0, 0, 0.3));\n",
              "      fill: #FFFFFF;\n",
              "    }\n",
              "  </style>\n",
              "\n",
              "      <script>\n",
              "        const buttonEl =\n",
              "          document.querySelector('#df-fc470b6c-2f9c-4c72-a2f3-b7a4f07c2880 button.colab-df-convert');\n",
              "        buttonEl.style.display =\n",
              "          google.colab.kernel.accessAllowed ? 'block' : 'none';\n",
              "\n",
              "        async function convertToInteractive(key) {\n",
              "          const element = document.querySelector('#df-fc470b6c-2f9c-4c72-a2f3-b7a4f07c2880');\n",
              "          const dataTable =\n",
              "            await google.colab.kernel.invokeFunction('convertToInteractive',\n",
              "                                                     [key], {});\n",
              "          if (!dataTable) return;\n",
              "\n",
              "          const docLinkHtml = 'Like what you see? Visit the ' +\n",
              "            '<a target=\"_blank\" href=https://colab.research.google.com/notebooks/data_table.ipynb>data table notebook</a>'\n",
              "            + ' to learn more about interactive tables.';\n",
              "          element.innerHTML = '';\n",
              "          dataTable['output_type'] = 'display_data';\n",
              "          await google.colab.output.renderOutput(dataTable, element);\n",
              "          const docLink = document.createElement('div');\n",
              "          docLink.innerHTML = docLinkHtml;\n",
              "          element.appendChild(docLink);\n",
              "        }\n",
              "      </script>\n",
              "    </div>\n",
              "  </div>\n",
              "  "
            ]
          },
          "metadata": {},
          "execution_count": 24
        }
      ]
    },
    {
      "cell_type": "code",
      "source": [
        "# Variance Covariance matrix\n",
        "mat = np.cov(df, rowvar=False)\n",
        "pd.DataFrame(mat, columns=df.columns, index=df.columns)"
      ],
      "metadata": {
        "colab": {
          "base_uri": "https://localhost:8080/",
          "height": 206
        },
        "id": "pTU1JRbZ6AlE",
        "outputId": "cc745eed-c1f5-4899-ae4e-17c0025cc8e1"
      },
      "execution_count": 29,
      "outputs": [
        {
          "output_type": "execute_result",
          "data": {
            "text/plain": [
              "              AMZN      EURUSD=X          GOOG          MSFT      TSLA\n",
              "AMZN      0.000419  3.665416e-06  2.091941e-04  1.882063e-04  0.000256\n",
              "EURUSD=X  0.000004  2.969187e-05 -6.782496e-07 -8.021469e-07 -0.000002\n",
              "GOOG      0.000209 -6.782496e-07  2.862259e-04  1.787841e-04  0.000200\n",
              "MSFT      0.000188 -8.021469e-07  1.787841e-04  2.625513e-04  0.000202\n",
              "TSLA      0.000256 -2.390061e-06  1.999678e-04  2.021930e-04  0.001258"
            ],
            "text/html": [
              "\n",
              "  <div id=\"df-6ff8050d-2dfb-41d2-8198-0c49ea04245f\">\n",
              "    <div class=\"colab-df-container\">\n",
              "      <div>\n",
              "<style scoped>\n",
              "    .dataframe tbody tr th:only-of-type {\n",
              "        vertical-align: middle;\n",
              "    }\n",
              "\n",
              "    .dataframe tbody tr th {\n",
              "        vertical-align: top;\n",
              "    }\n",
              "\n",
              "    .dataframe thead th {\n",
              "        text-align: right;\n",
              "    }\n",
              "</style>\n",
              "<table border=\"1\" class=\"dataframe\">\n",
              "  <thead>\n",
              "    <tr style=\"text-align: right;\">\n",
              "      <th></th>\n",
              "      <th>AMZN</th>\n",
              "      <th>EURUSD=X</th>\n",
              "      <th>GOOG</th>\n",
              "      <th>MSFT</th>\n",
              "      <th>TSLA</th>\n",
              "    </tr>\n",
              "  </thead>\n",
              "  <tbody>\n",
              "    <tr>\n",
              "      <th>AMZN</th>\n",
              "      <td>0.000419</td>\n",
              "      <td>3.665416e-06</td>\n",
              "      <td>2.091941e-04</td>\n",
              "      <td>1.882063e-04</td>\n",
              "      <td>0.000256</td>\n",
              "    </tr>\n",
              "    <tr>\n",
              "      <th>EURUSD=X</th>\n",
              "      <td>0.000004</td>\n",
              "      <td>2.969187e-05</td>\n",
              "      <td>-6.782496e-07</td>\n",
              "      <td>-8.021469e-07</td>\n",
              "      <td>-0.000002</td>\n",
              "    </tr>\n",
              "    <tr>\n",
              "      <th>GOOG</th>\n",
              "      <td>0.000209</td>\n",
              "      <td>-6.782496e-07</td>\n",
              "      <td>2.862259e-04</td>\n",
              "      <td>1.787841e-04</td>\n",
              "      <td>0.000200</td>\n",
              "    </tr>\n",
              "    <tr>\n",
              "      <th>MSFT</th>\n",
              "      <td>0.000188</td>\n",
              "      <td>-8.021469e-07</td>\n",
              "      <td>1.787841e-04</td>\n",
              "      <td>2.625513e-04</td>\n",
              "      <td>0.000202</td>\n",
              "    </tr>\n",
              "    <tr>\n",
              "      <th>TSLA</th>\n",
              "      <td>0.000256</td>\n",
              "      <td>-2.390061e-06</td>\n",
              "      <td>1.999678e-04</td>\n",
              "      <td>2.021930e-04</td>\n",
              "      <td>0.001258</td>\n",
              "    </tr>\n",
              "  </tbody>\n",
              "</table>\n",
              "</div>\n",
              "      <button class=\"colab-df-convert\" onclick=\"convertToInteractive('df-6ff8050d-2dfb-41d2-8198-0c49ea04245f')\"\n",
              "              title=\"Convert this dataframe to an interactive table.\"\n",
              "              style=\"display:none;\">\n",
              "        \n",
              "  <svg xmlns=\"http://www.w3.org/2000/svg\" height=\"24px\"viewBox=\"0 0 24 24\"\n",
              "       width=\"24px\">\n",
              "    <path d=\"M0 0h24v24H0V0z\" fill=\"none\"/>\n",
              "    <path d=\"M18.56 5.44l.94 2.06.94-2.06 2.06-.94-2.06-.94-.94-2.06-.94 2.06-2.06.94zm-11 1L8.5 8.5l.94-2.06 2.06-.94-2.06-.94L8.5 2.5l-.94 2.06-2.06.94zm10 10l.94 2.06.94-2.06 2.06-.94-2.06-.94-.94-2.06-.94 2.06-2.06.94z\"/><path d=\"M17.41 7.96l-1.37-1.37c-.4-.4-.92-.59-1.43-.59-.52 0-1.04.2-1.43.59L10.3 9.45l-7.72 7.72c-.78.78-.78 2.05 0 2.83L4 21.41c.39.39.9.59 1.41.59.51 0 1.02-.2 1.41-.59l7.78-7.78 2.81-2.81c.8-.78.8-2.07 0-2.86zM5.41 20L4 18.59l7.72-7.72 1.47 1.35L5.41 20z\"/>\n",
              "  </svg>\n",
              "      </button>\n",
              "      \n",
              "  <style>\n",
              "    .colab-df-container {\n",
              "      display:flex;\n",
              "      flex-wrap:wrap;\n",
              "      gap: 12px;\n",
              "    }\n",
              "\n",
              "    .colab-df-convert {\n",
              "      background-color: #E8F0FE;\n",
              "      border: none;\n",
              "      border-radius: 50%;\n",
              "      cursor: pointer;\n",
              "      display: none;\n",
              "      fill: #1967D2;\n",
              "      height: 32px;\n",
              "      padding: 0 0 0 0;\n",
              "      width: 32px;\n",
              "    }\n",
              "\n",
              "    .colab-df-convert:hover {\n",
              "      background-color: #E2EBFA;\n",
              "      box-shadow: 0px 1px 2px rgba(60, 64, 67, 0.3), 0px 1px 3px 1px rgba(60, 64, 67, 0.15);\n",
              "      fill: #174EA6;\n",
              "    }\n",
              "\n",
              "    [theme=dark] .colab-df-convert {\n",
              "      background-color: #3B4455;\n",
              "      fill: #D2E3FC;\n",
              "    }\n",
              "\n",
              "    [theme=dark] .colab-df-convert:hover {\n",
              "      background-color: #434B5C;\n",
              "      box-shadow: 0px 1px 3px 1px rgba(0, 0, 0, 0.15);\n",
              "      filter: drop-shadow(0px 1px 2px rgba(0, 0, 0, 0.3));\n",
              "      fill: #FFFFFF;\n",
              "    }\n",
              "  </style>\n",
              "\n",
              "      <script>\n",
              "        const buttonEl =\n",
              "          document.querySelector('#df-6ff8050d-2dfb-41d2-8198-0c49ea04245f button.colab-df-convert');\n",
              "        buttonEl.style.display =\n",
              "          google.colab.kernel.accessAllowed ? 'block' : 'none';\n",
              "\n",
              "        async function convertToInteractive(key) {\n",
              "          const element = document.querySelector('#df-6ff8050d-2dfb-41d2-8198-0c49ea04245f');\n",
              "          const dataTable =\n",
              "            await google.colab.kernel.invokeFunction('convertToInteractive',\n",
              "                                                     [key], {});\n",
              "          if (!dataTable) return;\n",
              "\n",
              "          const docLinkHtml = 'Like what you see? Visit the ' +\n",
              "            '<a target=\"_blank\" href=https://colab.research.google.com/notebooks/data_table.ipynb>data table notebook</a>'\n",
              "            + ' to learn more about interactive tables.';\n",
              "          element.innerHTML = '';\n",
              "          dataTable['output_type'] = 'display_data';\n",
              "          await google.colab.output.renderOutput(dataTable, element);\n",
              "          const docLink = document.createElement('div');\n",
              "          docLink.innerHTML = docLinkHtml;\n",
              "          element.appendChild(docLink);\n",
              "        }\n",
              "      </script>\n",
              "    </div>\n",
              "  </div>\n",
              "  "
            ]
          },
          "metadata": {},
          "execution_count": 29
        }
      ]
    },
    {
      "cell_type": "code",
      "source": [
        "# Covariance \n",
        "mat[0][1]"
      ],
      "metadata": {
        "colab": {
          "base_uri": "https://localhost:8080/"
        },
        "id": "FjB8pGfO6-zt",
        "outputId": "c1880bc2-1796-452e-880e-df912c835f4e"
      },
      "execution_count": 30,
      "outputs": [
        {
          "output_type": "execute_result",
          "data": {
            "text/plain": [
              "3.6654160854701273e-06"
            ]
          },
          "metadata": {},
          "execution_count": 30
        }
      ]
    },
    {
      "cell_type": "markdown",
      "source": [
        "**Correlation** : est une mesure statistique qui décrit la force et la direction de la relation linéaire entre deux variables. Elle mesure comment les changements d'une variable sont associés aux changements d'une autre variable."
      ],
      "metadata": {
        "id": "YNlxCPmm4L4L"
      }
    },
    {
      "cell_type": "code",
      "source": [
        "# Correlation matrix\n",
        "df.corr()"
      ],
      "metadata": {
        "colab": {
          "base_uri": "https://localhost:8080/",
          "height": 206
        },
        "id": "loV49_GC3H7r",
        "outputId": "1d0fade8-8ca6-4615-e478-e0e8b1fe8714"
      },
      "execution_count": 31,
      "outputs": [
        {
          "output_type": "execute_result",
          "data": {
            "text/plain": [
              "              AMZN  EURUSD=X      GOOG      MSFT      TSLA\n",
              "AMZN      1.000000  0.032863  0.604081  0.567449  0.352769\n",
              "EURUSD=X  0.032863  1.000000 -0.007357 -0.009085 -0.012365\n",
              "GOOG      0.604081 -0.007357  1.000000  0.652180  0.333206\n",
              "MSFT      0.567449 -0.009085  0.652180  1.000000  0.351776\n",
              "TSLA      0.352769 -0.012365  0.333206  0.351776  1.000000"
            ],
            "text/html": [
              "\n",
              "  <div id=\"df-c6f13992-2281-40ec-9020-6cd49b56a506\">\n",
              "    <div class=\"colab-df-container\">\n",
              "      <div>\n",
              "<style scoped>\n",
              "    .dataframe tbody tr th:only-of-type {\n",
              "        vertical-align: middle;\n",
              "    }\n",
              "\n",
              "    .dataframe tbody tr th {\n",
              "        vertical-align: top;\n",
              "    }\n",
              "\n",
              "    .dataframe thead th {\n",
              "        text-align: right;\n",
              "    }\n",
              "</style>\n",
              "<table border=\"1\" class=\"dataframe\">\n",
              "  <thead>\n",
              "    <tr style=\"text-align: right;\">\n",
              "      <th></th>\n",
              "      <th>AMZN</th>\n",
              "      <th>EURUSD=X</th>\n",
              "      <th>GOOG</th>\n",
              "      <th>MSFT</th>\n",
              "      <th>TSLA</th>\n",
              "    </tr>\n",
              "  </thead>\n",
              "  <tbody>\n",
              "    <tr>\n",
              "      <th>AMZN</th>\n",
              "      <td>1.000000</td>\n",
              "      <td>0.032863</td>\n",
              "      <td>0.604081</td>\n",
              "      <td>0.567449</td>\n",
              "      <td>0.352769</td>\n",
              "    </tr>\n",
              "    <tr>\n",
              "      <th>EURUSD=X</th>\n",
              "      <td>0.032863</td>\n",
              "      <td>1.000000</td>\n",
              "      <td>-0.007357</td>\n",
              "      <td>-0.009085</td>\n",
              "      <td>-0.012365</td>\n",
              "    </tr>\n",
              "    <tr>\n",
              "      <th>GOOG</th>\n",
              "      <td>0.604081</td>\n",
              "      <td>-0.007357</td>\n",
              "      <td>1.000000</td>\n",
              "      <td>0.652180</td>\n",
              "      <td>0.333206</td>\n",
              "    </tr>\n",
              "    <tr>\n",
              "      <th>MSFT</th>\n",
              "      <td>0.567449</td>\n",
              "      <td>-0.009085</td>\n",
              "      <td>0.652180</td>\n",
              "      <td>1.000000</td>\n",
              "      <td>0.351776</td>\n",
              "    </tr>\n",
              "    <tr>\n",
              "      <th>TSLA</th>\n",
              "      <td>0.352769</td>\n",
              "      <td>-0.012365</td>\n",
              "      <td>0.333206</td>\n",
              "      <td>0.351776</td>\n",
              "      <td>1.000000</td>\n",
              "    </tr>\n",
              "  </tbody>\n",
              "</table>\n",
              "</div>\n",
              "      <button class=\"colab-df-convert\" onclick=\"convertToInteractive('df-c6f13992-2281-40ec-9020-6cd49b56a506')\"\n",
              "              title=\"Convert this dataframe to an interactive table.\"\n",
              "              style=\"display:none;\">\n",
              "        \n",
              "  <svg xmlns=\"http://www.w3.org/2000/svg\" height=\"24px\"viewBox=\"0 0 24 24\"\n",
              "       width=\"24px\">\n",
              "    <path d=\"M0 0h24v24H0V0z\" fill=\"none\"/>\n",
              "    <path d=\"M18.56 5.44l.94 2.06.94-2.06 2.06-.94-2.06-.94-.94-2.06-.94 2.06-2.06.94zm-11 1L8.5 8.5l.94-2.06 2.06-.94-2.06-.94L8.5 2.5l-.94 2.06-2.06.94zm10 10l.94 2.06.94-2.06 2.06-.94-2.06-.94-.94-2.06-.94 2.06-2.06.94z\"/><path d=\"M17.41 7.96l-1.37-1.37c-.4-.4-.92-.59-1.43-.59-.52 0-1.04.2-1.43.59L10.3 9.45l-7.72 7.72c-.78.78-.78 2.05 0 2.83L4 21.41c.39.39.9.59 1.41.59.51 0 1.02-.2 1.41-.59l7.78-7.78 2.81-2.81c.8-.78.8-2.07 0-2.86zM5.41 20L4 18.59l7.72-7.72 1.47 1.35L5.41 20z\"/>\n",
              "  </svg>\n",
              "      </button>\n",
              "      \n",
              "  <style>\n",
              "    .colab-df-container {\n",
              "      display:flex;\n",
              "      flex-wrap:wrap;\n",
              "      gap: 12px;\n",
              "    }\n",
              "\n",
              "    .colab-df-convert {\n",
              "      background-color: #E8F0FE;\n",
              "      border: none;\n",
              "      border-radius: 50%;\n",
              "      cursor: pointer;\n",
              "      display: none;\n",
              "      fill: #1967D2;\n",
              "      height: 32px;\n",
              "      padding: 0 0 0 0;\n",
              "      width: 32px;\n",
              "    }\n",
              "\n",
              "    .colab-df-convert:hover {\n",
              "      background-color: #E2EBFA;\n",
              "      box-shadow: 0px 1px 2px rgba(60, 64, 67, 0.3), 0px 1px 3px 1px rgba(60, 64, 67, 0.15);\n",
              "      fill: #174EA6;\n",
              "    }\n",
              "\n",
              "    [theme=dark] .colab-df-convert {\n",
              "      background-color: #3B4455;\n",
              "      fill: #D2E3FC;\n",
              "    }\n",
              "\n",
              "    [theme=dark] .colab-df-convert:hover {\n",
              "      background-color: #434B5C;\n",
              "      box-shadow: 0px 1px 3px 1px rgba(0, 0, 0, 0.15);\n",
              "      filter: drop-shadow(0px 1px 2px rgba(0, 0, 0, 0.3));\n",
              "      fill: #FFFFFF;\n",
              "    }\n",
              "  </style>\n",
              "\n",
              "      <script>\n",
              "        const buttonEl =\n",
              "          document.querySelector('#df-c6f13992-2281-40ec-9020-6cd49b56a506 button.colab-df-convert');\n",
              "        buttonEl.style.display =\n",
              "          google.colab.kernel.accessAllowed ? 'block' : 'none';\n",
              "\n",
              "        async function convertToInteractive(key) {\n",
              "          const element = document.querySelector('#df-c6f13992-2281-40ec-9020-6cd49b56a506');\n",
              "          const dataTable =\n",
              "            await google.colab.kernel.invokeFunction('convertToInteractive',\n",
              "                                                     [key], {});\n",
              "          if (!dataTable) return;\n",
              "\n",
              "          const docLinkHtml = 'Like what you see? Visit the ' +\n",
              "            '<a target=\"_blank\" href=https://colab.research.google.com/notebooks/data_table.ipynb>data table notebook</a>'\n",
              "            + ' to learn more about interactive tables.';\n",
              "          element.innerHTML = '';\n",
              "          dataTable['output_type'] = 'display_data';\n",
              "          await google.colab.output.renderOutput(dataTable, element);\n",
              "          const docLink = document.createElement('div');\n",
              "          docLink.innerHTML = docLinkHtml;\n",
              "          element.appendChild(docLink);\n",
              "        }\n",
              "      </script>\n",
              "    </div>\n",
              "  </div>\n",
              "  "
            ]
          },
          "metadata": {},
          "execution_count": 31
        }
      ]
    }
  ]
}