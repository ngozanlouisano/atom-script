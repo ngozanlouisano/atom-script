{
  "nbformat": 4,
  "nbformat_minor": 0,
  "metadata": {
    "colab": {
      "provenance": [],
      "gpuType": "T4",
      "authorship_tag": "ABX9TyNIqWl7MCi++1fFFwcLKV0i",
      "include_colab_link": true
    },
    "kernelspec": {
      "name": "python3",
      "display_name": "Python 3"
    },
    "language_info": {
      "name": "python"
    },
    "accelerator": "GPU",
    "gpuClass": "standard"
  },
  "cells": [
    {
      "cell_type": "markdown",
      "metadata": {
        "id": "view-in-github",
        "colab_type": "text"
      },
      "source": [
        "<a href=\"https://colab.research.google.com/github/ngozanlouisano/atom-script/blob/master/cnn_deep_learning.ipynb\" target=\"_parent\"><img src=\"https://colab.research.google.com/assets/colab-badge.svg\" alt=\"Open In Colab\"/></a>"
      ]
    },
    {
      "cell_type": "code",
      "execution_count": 1,
      "metadata": {
        "colab": {
          "base_uri": "https://localhost:8080/"
        },
        "id": "vbmp12oWtTPj",
        "outputId": "8aad3679-523a-4a52-aada-7e90917037a5"
      },
      "outputs": [
        {
          "output_type": "stream",
          "name": "stdout",
          "text": [
            "Looking in indexes: https://pypi.org/simple, https://us-python.pkg.dev/colab-wheels/public/simple/\n",
            "Requirement already satisfied: tensorflow in /usr/local/lib/python3.10/dist-packages (2.12.0)\n",
            "Requirement already satisfied: absl-py>=1.0.0 in /usr/local/lib/python3.10/dist-packages (from tensorflow) (1.4.0)\n",
            "Requirement already satisfied: astunparse>=1.6.0 in /usr/local/lib/python3.10/dist-packages (from tensorflow) (1.6.3)\n",
            "Requirement already satisfied: flatbuffers>=2.0 in /usr/local/lib/python3.10/dist-packages (from tensorflow) (23.3.3)\n",
            "Requirement already satisfied: gast<=0.4.0,>=0.2.1 in /usr/local/lib/python3.10/dist-packages (from tensorflow) (0.4.0)\n",
            "Requirement already satisfied: google-pasta>=0.1.1 in /usr/local/lib/python3.10/dist-packages (from tensorflow) (0.2.0)\n",
            "Requirement already satisfied: grpcio<2.0,>=1.24.3 in /usr/local/lib/python3.10/dist-packages (from tensorflow) (1.54.0)\n",
            "Requirement already satisfied: h5py>=2.9.0 in /usr/local/lib/python3.10/dist-packages (from tensorflow) (3.8.0)\n",
            "Requirement already satisfied: jax>=0.3.15 in /usr/local/lib/python3.10/dist-packages (from tensorflow) (0.4.8)\n",
            "Requirement already satisfied: keras<2.13,>=2.12.0 in /usr/local/lib/python3.10/dist-packages (from tensorflow) (2.12.0)\n",
            "Requirement already satisfied: libclang>=13.0.0 in /usr/local/lib/python3.10/dist-packages (from tensorflow) (16.0.0)\n",
            "Requirement already satisfied: numpy<1.24,>=1.22 in /usr/local/lib/python3.10/dist-packages (from tensorflow) (1.22.4)\n",
            "Requirement already satisfied: opt-einsum>=2.3.2 in /usr/local/lib/python3.10/dist-packages (from tensorflow) (3.3.0)\n",
            "Requirement already satisfied: packaging in /usr/local/lib/python3.10/dist-packages (from tensorflow) (23.1)\n",
            "Requirement already satisfied: protobuf!=4.21.0,!=4.21.1,!=4.21.2,!=4.21.3,!=4.21.4,!=4.21.5,<5.0.0dev,>=3.20.3 in /usr/local/lib/python3.10/dist-packages (from tensorflow) (3.20.3)\n",
            "Requirement already satisfied: setuptools in /usr/local/lib/python3.10/dist-packages (from tensorflow) (67.7.2)\n",
            "Requirement already satisfied: six>=1.12.0 in /usr/local/lib/python3.10/dist-packages (from tensorflow) (1.16.0)\n",
            "Requirement already satisfied: tensorboard<2.13,>=2.12 in /usr/local/lib/python3.10/dist-packages (from tensorflow) (2.12.2)\n",
            "Requirement already satisfied: tensorflow-estimator<2.13,>=2.12.0 in /usr/local/lib/python3.10/dist-packages (from tensorflow) (2.12.0)\n",
            "Requirement already satisfied: termcolor>=1.1.0 in /usr/local/lib/python3.10/dist-packages (from tensorflow) (2.3.0)\n",
            "Requirement already satisfied: typing-extensions>=3.6.6 in /usr/local/lib/python3.10/dist-packages (from tensorflow) (4.5.0)\n",
            "Requirement already satisfied: wrapt<1.15,>=1.11.0 in /usr/local/lib/python3.10/dist-packages (from tensorflow) (1.14.1)\n",
            "Requirement already satisfied: tensorflow-io-gcs-filesystem>=0.23.1 in /usr/local/lib/python3.10/dist-packages (from tensorflow) (0.32.0)\n",
            "Requirement already satisfied: wheel<1.0,>=0.23.0 in /usr/local/lib/python3.10/dist-packages (from astunparse>=1.6.0->tensorflow) (0.40.0)\n",
            "Requirement already satisfied: ml-dtypes>=0.0.3 in /usr/local/lib/python3.10/dist-packages (from jax>=0.3.15->tensorflow) (0.1.0)\n",
            "Requirement already satisfied: scipy>=1.7 in /usr/local/lib/python3.10/dist-packages (from jax>=0.3.15->tensorflow) (1.10.1)\n",
            "Requirement already satisfied: google-auth<3,>=1.6.3 in /usr/local/lib/python3.10/dist-packages (from tensorboard<2.13,>=2.12->tensorflow) (2.17.3)\n",
            "Requirement already satisfied: google-auth-oauthlib<1.1,>=0.5 in /usr/local/lib/python3.10/dist-packages (from tensorboard<2.13,>=2.12->tensorflow) (1.0.0)\n",
            "Requirement already satisfied: markdown>=2.6.8 in /usr/local/lib/python3.10/dist-packages (from tensorboard<2.13,>=2.12->tensorflow) (3.4.3)\n",
            "Requirement already satisfied: requests<3,>=2.21.0 in /usr/local/lib/python3.10/dist-packages (from tensorboard<2.13,>=2.12->tensorflow) (2.27.1)\n",
            "Requirement already satisfied: tensorboard-data-server<0.8.0,>=0.7.0 in /usr/local/lib/python3.10/dist-packages (from tensorboard<2.13,>=2.12->tensorflow) (0.7.0)\n",
            "Requirement already satisfied: tensorboard-plugin-wit>=1.6.0 in /usr/local/lib/python3.10/dist-packages (from tensorboard<2.13,>=2.12->tensorflow) (1.8.1)\n",
            "Requirement already satisfied: werkzeug>=1.0.1 in /usr/local/lib/python3.10/dist-packages (from tensorboard<2.13,>=2.12->tensorflow) (2.3.0)\n",
            "Requirement already satisfied: cachetools<6.0,>=2.0.0 in /usr/local/lib/python3.10/dist-packages (from google-auth<3,>=1.6.3->tensorboard<2.13,>=2.12->tensorflow) (5.3.0)\n",
            "Requirement already satisfied: pyasn1-modules>=0.2.1 in /usr/local/lib/python3.10/dist-packages (from google-auth<3,>=1.6.3->tensorboard<2.13,>=2.12->tensorflow) (0.3.0)\n",
            "Requirement already satisfied: rsa<5,>=3.1.4 in /usr/local/lib/python3.10/dist-packages (from google-auth<3,>=1.6.3->tensorboard<2.13,>=2.12->tensorflow) (4.9)\n",
            "Requirement already satisfied: requests-oauthlib>=0.7.0 in /usr/local/lib/python3.10/dist-packages (from google-auth-oauthlib<1.1,>=0.5->tensorboard<2.13,>=2.12->tensorflow) (1.3.1)\n",
            "Requirement already satisfied: urllib3<1.27,>=1.21.1 in /usr/local/lib/python3.10/dist-packages (from requests<3,>=2.21.0->tensorboard<2.13,>=2.12->tensorflow) (1.26.15)\n",
            "Requirement already satisfied: certifi>=2017.4.17 in /usr/local/lib/python3.10/dist-packages (from requests<3,>=2.21.0->tensorboard<2.13,>=2.12->tensorflow) (2022.12.7)\n",
            "Requirement already satisfied: charset-normalizer~=2.0.0 in /usr/local/lib/python3.10/dist-packages (from requests<3,>=2.21.0->tensorboard<2.13,>=2.12->tensorflow) (2.0.12)\n",
            "Requirement already satisfied: idna<4,>=2.5 in /usr/local/lib/python3.10/dist-packages (from requests<3,>=2.21.0->tensorboard<2.13,>=2.12->tensorflow) (3.4)\n",
            "Requirement already satisfied: MarkupSafe>=2.1.1 in /usr/local/lib/python3.10/dist-packages (from werkzeug>=1.0.1->tensorboard<2.13,>=2.12->tensorflow) (2.1.2)\n",
            "Requirement already satisfied: pyasn1<0.6.0,>=0.4.6 in /usr/local/lib/python3.10/dist-packages (from pyasn1-modules>=0.2.1->google-auth<3,>=1.6.3->tensorboard<2.13,>=2.12->tensorflow) (0.5.0)\n",
            "Requirement already satisfied: oauthlib>=3.0.0 in /usr/local/lib/python3.10/dist-packages (from requests-oauthlib>=0.7.0->google-auth-oauthlib<1.1,>=0.5->tensorboard<2.13,>=2.12->tensorflow) (3.2.2)\n"
          ]
        }
      ],
      "source": [
        "pip install tensorflow"
      ]
    },
    {
      "cell_type": "code",
      "source": [
        "# Importer les packages\n",
        "import tensorflow as tf \n",
        "import matplotlib.pyplot as plt\n",
        "import numpy as np\n",
        "from tensorflow.keras.datasets import cifar10\n",
        "from tensorflow.keras.preprocessing.image import ImageDataGenerator\n",
        "from tensorflow.keras.models import Sequential\n",
        "from tensorflow.keras.layers import Dense, Activation, Flatten\n",
        "from tensorflow.keras.layers import Conv2D, MaxPooling2D"
      ],
      "metadata": {
        "id": "-Xh9m7GpuWSr"
      },
      "execution_count": 2,
      "outputs": []
    },
    {
      "cell_type": "code",
      "source": [
        "# Chargement la base de donnée et l'insérer dans la training set et test set\n",
        "(x_train, y_train), (x_test, y_test)= cifar10.load_data()\n"
      ],
      "metadata": {
        "colab": {
          "base_uri": "https://localhost:8080/"
        },
        "id": "r1mMq50rvAFk",
        "outputId": "e83b9da1-20d1-4756-86ba-dc5e4fde2110"
      },
      "execution_count": 3,
      "outputs": [
        {
          "output_type": "stream",
          "name": "stdout",
          "text": [
            "Downloading data from https://www.cs.toronto.edu/~kriz/cifar-10-python.tar.gz\n",
            "170498071/170498071 [==============================] - 13s 0us/step\n"
          ]
        }
      ]
    },
    {
      "cell_type": "code",
      "source": [
        "# visualiser le contenue une voiture\n",
        "plt.imshow(x_train[5])\n",
        "print(y_train [5])"
      ],
      "metadata": {
        "colab": {
          "base_uri": "https://localhost:8080/",
          "height": 448
        },
        "id": "8UY5C7O2vpdh",
        "outputId": "c0f10425-46eb-42cb-b1d6-da788058d157"
      },
      "execution_count": 4,
      "outputs": [
        {
          "output_type": "stream",
          "name": "stdout",
          "text": [
            "[1]\n"
          ]
        },
        {
          "output_type": "display_data",
          "data": {
            "text/plain": [
              "<Figure size 640x480 with 1 Axes>"
            ],
            "image/png": "[encoded data removed]"
          },
          "metadata": {}
        }
      ]
    },
    {
      "cell_type": "code",
      "source": [
        "x_train[9]"
      ],
      "metadata": {
        "colab": {
          "base_uri": "https://localhost:8080/"
        },
        "id": "gdccGKM2wWWR",
        "outputId": "884e1cff-4f8f-496f-df4f-a254fe35d531"
      },
      "execution_count": 5,
      "outputs": [
        {
          "output_type": "execute_result",
          "data": {
            "text/plain": [
              "array([[[125, 125, 116],\n",
              "        [110, 101,  91],\n",
              "        [102,  90,  83],\n",
              "        ...,\n",
              "        [202, 207, 214],\n",
              "        [200, 205, 212],\n",
              "        [202, 208, 214]],\n",
              "\n",
              "       [[142, 146, 142],\n",
              "        [146, 144, 139],\n",
              "        [176, 172, 170],\n",
              "        ...,\n",
              "        [195, 201, 205],\n",
              "        [198, 205, 209],\n",
              "        [204, 211, 215]],\n",
              "\n",
              "       [[180, 185, 183],\n",
              "        [143, 146, 146],\n",
              "        [156, 157, 157],\n",
              "        ...,\n",
              "        [122, 111, 113],\n",
              "        [139, 128, 131],\n",
              "        [158, 147, 150]],\n",
              "\n",
              "       ...,\n",
              "\n",
              "       [[104,  82,  41],\n",
              "        [101,  80,  39],\n",
              "        [101,  81,  38],\n",
              "        ...,\n",
              "        [126, 103,  67],\n",
              "        [126, 103,  69],\n",
              "        [125, 101,  68]],\n",
              "\n",
              "       [[104,  81,  40],\n",
              "        [105,  84,  41],\n",
              "        [109,  88,  43],\n",
              "        ...,\n",
              "        [138, 113,  78],\n",
              "        [137, 113,  80],\n",
              "        [137, 112,  81]],\n",
              "\n",
              "       [[105,  83,  42],\n",
              "        [108,  87,  45],\n",
              "        [115,  94,  50],\n",
              "        ...,\n",
              "        [143, 117,  82],\n",
              "        [143, 116,  84],\n",
              "        [144, 116,  86]]], dtype=uint8)"
            ]
          },
          "metadata": {},
          "execution_count": 5
        }
      ]
    },
    {
      "cell_type": "code",
      "source": [
        "# Normaliser les photos pour avoir les valeur 0 et 1\n",
        "x_train = x_train/255.0\n",
        "x_test =  x_test/255.0"
      ],
      "metadata": {
        "id": "RmCOSN0kwRn9"
      },
      "execution_count": 6,
      "outputs": []
    },
    {
      "cell_type": "code",
      "source": [
        "x_train[5]"
      ],
      "metadata": {
        "colab": {
          "base_uri": "https://localhost:8080/"
        },
        "id": "hEIkAfm4wupv",
        "outputId": "0054ba89-09c9-4179-fd27-e75318c1a83e"
      },
      "execution_count": 7,
      "outputs": [
        {
          "output_type": "execute_result",
          "data": {
            "text/plain": [
              "array([[[0.62352941, 0.4       , 0.39607843],\n",
              "        [0.58823529, 0.35686275, 0.37254902],\n",
              "        [0.6       , 0.37254902, 0.38039216],\n",
              "        ...,\n",
              "        [0.35686275, 0.27843137, 0.21960784],\n",
              "        [0.29019608, 0.24705882, 0.21568627],\n",
              "        [0.29803922, 0.22745098, 0.21568627]],\n",
              "\n",
              "       [[0.55686275, 0.29411765, 0.26666667],\n",
              "        [0.57254902, 0.28235294, 0.25882353],\n",
              "        [0.60784314, 0.29803922, 0.25490196],\n",
              "        ...,\n",
              "        [0.49803922, 0.41176471, 0.27843137],\n",
              "        [0.47843137, 0.43529412, 0.36470588],\n",
              "        [0.3372549 , 0.27058824, 0.23921569]],\n",
              "\n",
              "       [[0.42745098, 0.2627451 , 0.29411765],\n",
              "        [0.38823529, 0.22745098, 0.23529412],\n",
              "        [0.41176471, 0.23137255, 0.20392157],\n",
              "        ...,\n",
              "        [0.5372549 , 0.43921569, 0.31372549],\n",
              "        [0.63921569, 0.51764706, 0.41176471],\n",
              "        [0.36470588, 0.28235294, 0.27843137]],\n",
              "\n",
              "       ...,\n",
              "\n",
              "       [[0.95686275, 0.50588235, 0.2745098 ],\n",
              "        [0.94117647, 0.48235294, 0.25490196],\n",
              "        [0.94509804, 0.47843137, 0.25490196],\n",
              "        ...,\n",
              "        [0.61176471, 0.16470588, 0.05882353],\n",
              "        [0.70196078, 0.23137255, 0.10196078],\n",
              "        [0.78431373, 0.28627451, 0.14117647]],\n",
              "\n",
              "       [[0.96470588, 0.52156863, 0.29019608],\n",
              "        [0.95294118, 0.50196078, 0.28235294],\n",
              "        [0.95294118, 0.49803922, 0.2745098 ],\n",
              "        ...,\n",
              "        [0.63529412, 0.17254902, 0.05490196],\n",
              "        [0.69803922, 0.21960784, 0.08627451],\n",
              "        [0.75294118, 0.25490196, 0.10588235]],\n",
              "\n",
              "       [[0.96470588, 0.54509804, 0.32156863],\n",
              "        [0.95294118, 0.52156863, 0.30588235],\n",
              "        [0.95686275, 0.51764706, 0.30196078],\n",
              "        ...,\n",
              "        [0.65098039, 0.18431373, 0.05490196],\n",
              "        [0.67843137, 0.2       , 0.06666667],\n",
              "        [0.71372549, 0.22352941, 0.0745098 ]]])"
            ]
          },
          "metadata": {},
          "execution_count": 7
        }
      ]
    },
    {
      "cell_type": "code",
      "source": [
        "# Création mon modèle \n",
        "model= Sequential()"
      ],
      "metadata": {
        "id": "28XhWaCAxBm8"
      },
      "execution_count": 8,
      "outputs": []
    },
    {
      "cell_type": "code",
      "source": [
        "x_train.shape"
      ],
      "metadata": {
        "colab": {
          "base_uri": "https://localhost:8080/"
        },
        "id": "gsezw7S6x386",
        "outputId": "a2bb9536-a473-44c1-9384-4154bae2fd54"
      },
      "execution_count": 9,
      "outputs": [
        {
          "output_type": "execute_result",
          "data": {
            "text/plain": [
              "(50000, 32, 32, 3)"
            ]
          },
          "metadata": {},
          "execution_count": 9
        }
      ]
    },
    {
      "cell_type": "code",
      "source": [
        "# Créer le réseau de neurone Convolution (CNN)\n",
        "model.add(Conv2D(256,(3,3), input_shape=x_train.shape[1:]))\n",
        "  # fonction d'activation \n",
        "model.add(Activation('relu'))\n",
        "  # MaxPooling \n",
        "model.add(MaxPooling2D(pool_size=(2,2)))"
      ],
      "metadata": {
        "id": "Zi2z_cOdxRjy"
      },
      "execution_count": 11,
      "outputs": []
    },
    {
      "cell_type": "code",
      "source": [
        "# Ajouter une autre couche de Convolution (CNN)/ pour améliorer notre modèle\n",
        "model.add(Conv2D(256,(3,3)))\n",
        "  # fonction d'activation \n",
        "model.add(Activation('relu'))\n",
        "  # MaxPooling \n",
        "model.add(MaxPooling2D(pool_size=(2,2)))\n"
      ],
      "metadata": {
        "id": "ko_IrhOm2dh2"
      },
      "execution_count": 13,
      "outputs": []
    },
    {
      "cell_type": "code",
      "source": [
        "# Flatten\n",
        "model.add(Flatten())"
      ],
      "metadata": {
        "id": "6neHipEly47S"
      },
      "execution_count": 14,
      "outputs": []
    },
    {
      "cell_type": "code",
      "source": [
        "# Le complétement connecté\n",
        "  # course de 64 nneu\n",
        "model.add(Dense(64))\n",
        " # une course de sortie 10  parce que on a 10 categories de photo\n",
        "model.add(Dense(10))\n",
        "  # fonction d'activation sigmoid\n",
        "model.add(Activation('sigmoid'))\n",
        "model.compile(loss='sparse_categorical_crossentropy', optimizer='Adam', metrics=['sparse_categorical_accuracy'])"
      ],
      "metadata": {
        "id": "FcSRBtC5zQsB"
      },
      "execution_count": 15,
      "outputs": []
    },
    {
      "cell_type": "code",
      "source": [
        "model.summary()"
      ],
      "metadata": {
        "colab": {
          "base_uri": "https://localhost:8080/"
        },
        "id": "cpfKzcT21S48",
        "outputId": "d5e664b7-259b-4bc8-96d9-27f472156f21"
      },
      "execution_count": 16,
      "outputs": [
        {
          "output_type": "stream",
          "name": "stdout",
          "text": [
            "Model: \"sequential\"\n",
            "_________________________________________________________________\n",
            " Layer (type)                Output Shape              Param #   \n",
            "=================================================================\n",
            " conv2d (Conv2D)             (None, 30, 30, 256)       7168      \n",
            "                                                                 \n",
            " activation (Activation)     (None, 30, 30, 256)       0         \n",
            "                                                                 \n",
            " max_pooling2d (MaxPooling2D  (None, 15, 15, 256)      0         \n",
            " )                                                               \n",
            "                                                                 \n",
            " conv2d_1 (Conv2D)           (None, 13, 13, 256)       590080    \n",
            "                                                                 \n",
            " activation_1 (Activation)   (None, 13, 13, 256)       0         \n",
            "                                                                 \n",
            " max_pooling2d_1 (MaxPooling  (None, 6, 6, 256)        0         \n",
            " 2D)                                                             \n",
            "                                                                 \n",
            " flatten (Flatten)           (None, 9216)              0         \n",
            "                                                                 \n",
            " dense (Dense)               (None, 64)                589888    \n",
            "                                                                 \n",
            " dense_1 (Dense)             (None, 10)                650       \n",
            "                                                                 \n",
            " activation_2 (Activation)   (None, 10)                0         \n",
            "                                                                 \n",
            "=================================================================\n",
            "Total params: 1,187,786\n",
            "Trainable params: 1,187,786\n",
            "Non-trainable params: 0\n",
            "_________________________________________________________________\n"
          ]
        }
      ]
    },
    {
      "cell_type": "code",
      "source": [
        "# Entrainer le modèle\n",
        "model.fit(x_train, y_train, batch_size=32, epochs=10)"
      ],
      "metadata": {
        "colab": {
          "base_uri": "https://localhost:8080/"
        },
        "id": "aVNH8hh03ZVh",
        "outputId": "f6db7cf6-0ba2-4981-b000-21732ea54304"
      },
      "execution_count": 17,
      "outputs": [
        {
          "output_type": "stream",
          "name": "stdout",
          "text": [
            "Epoch 1/10\n",
            "1563/1563 [==============================] - 23s 8ms/step - loss: 1.4491 - sparse_categorical_accuracy: 0.4816\n",
            "Epoch 2/10\n",
            "1563/1563 [==============================] - 11s 7ms/step - loss: 1.1480 - sparse_categorical_accuracy: 0.5983\n",
            "Epoch 3/10\n",
            "1563/1563 [==============================] - 11s 7ms/step - loss: 1.0441 - sparse_categorical_accuracy: 0.6376\n",
            "Epoch 4/10\n",
            "1563/1563 [==============================] - 11s 7ms/step - loss: 0.9928 - sparse_categorical_accuracy: 0.6561\n",
            "Epoch 5/10\n",
            "1563/1563 [==============================] - 11s 7ms/step - loss: 0.9478 - sparse_categorical_accuracy: 0.6718\n",
            "Epoch 6/10\n",
            "1563/1563 [==============================] - 11s 7ms/step - loss: 0.9164 - sparse_categorical_accuracy: 0.6808\n",
            "Epoch 7/10\n",
            "1563/1563 [==============================] - 11s 7ms/step - loss: 0.8892 - sparse_categorical_accuracy: 0.6911\n",
            "Epoch 8/10\n",
            "1563/1563 [==============================] - 11s 7ms/step - loss: 0.8711 - sparse_categorical_accuracy: 0.6975\n",
            "Epoch 9/10\n",
            "1563/1563 [==============================] - 11s 7ms/step - loss: 0.8501 - sparse_categorical_accuracy: 0.7054\n",
            "Epoch 10/10\n",
            "1563/1563 [==============================] - 11s 7ms/step - loss: 0.8274 - sparse_categorical_accuracy: 0.7126\n"
          ]
        },
        {
          "output_type": "execute_result",
          "data": {
            "text/plain": [
              "<keras.callbacks.History at 0x7fd5504b6680>"
            ]
          },
          "metadata": {},
          "execution_count": 17
        }
      ]
    },
    {
      "cell_type": "code",
      "source": [
        "# l'appliquer sur les donner de test\n",
        "test_accuracy, test_loss = model.evaluate(x_test, y_test)\n",
        "print(f\"Test accuracy {test_accuracy}  et Test loss {test_loss}\" )"
      ],
      "metadata": {
        "colab": {
          "base_uri": "https://localhost:8080/"
        },
        "id": "IE7JEmTS19yk",
        "outputId": "68679152-ffaa-4c66-9b77-bc29a0dcb255"
      },
      "execution_count": 18,
      "outputs": [
        {
          "output_type": "stream",
          "name": "stdout",
          "text": [
            "313/313 [==============================] - 1s 4ms/step - loss: 0.9270 - sparse_categorical_accuracy: 0.6770\n",
            "Test accuracy 0.927039623260498  et Test loss 0.6769999861717224\n"
          ]
        }
      ]
    }
  ]
}